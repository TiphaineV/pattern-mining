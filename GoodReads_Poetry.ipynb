{
 "cells": [
  {
   "cell_type": "code",
   "execution_count": 2,
   "metadata": {},
   "outputs": [
    {
     "name": "stdout",
     "output_type": "stream",
     "text": [
      "The autoreload extension is already loaded. To reload it, use:\n",
      "  %reload_ext autoreload\n"
     ]
    }
   ],
   "source": [
    "%load_ext autoreload\n",
    "%autoreload 2"
   ]
  },
  {
   "cell_type": "markdown",
   "metadata": {},
   "source": [
    "# GoodReads Poetry dataset\n",
    "\n",
    "The full dataset (including other genres) is available at: https://sites.google.com/eng.ucsd.edu/ucsdbookgraph/home. We focus here on the _Poetry_ dataset for tractability, as it is the one with the least number of books and reviews.\n",
    "\n",
    "The files in the `./data/goodreads/` directory are:\n",
    "\n",
    "- `goodreads_books_poetry.json` : contains information about the books (i.e. nodes)\n",
    "- `reviews.json` : contains reviews of books by users, with the associated timestamp and ratings\n",
    "\n",
    "Note that the number of reviews is significantly lower than the number of interactions; indeed, \"interacting\" on goodreads can be \"shelving\", posting a review, a rating, etc."
   ]
  },
  {
   "cell_type": "code",
   "execution_count": 8,
   "metadata": {},
   "outputs": [
    {
     "name": "stderr",
     "output_type": "stream",
     "text": [
      "[nltk_data] Downloading package words to /home/tiphaine/nltk_data...\n",
      "[nltk_data]   Package words is already up-to-date!\n"
     ]
    }
   ],
   "source": [
    "import ujson as json\n",
    "import math\n",
    "from sklearn.feature_extraction.text import TfidfVectorizer\n",
    "\n",
    "from lib.Stream import BipartiteStream\n",
    "from lib.StreamProperties import *\n",
    "from lib.TimeNode import TimeNode, TimeNodeSet\n",
    "from datetime import datetime\n",
    "from lib.Utils import Utils\n",
    "from lib.patterns import *\n",
    "\n",
    "import nltk\n",
    "from nltk.corpus import words\n",
    "\n",
    "# nltk.download(\"punkt\")\n",
    "nltk.download(\"words\")\n",
    "word_corpus = set(words.words())\n",
    "\n",
    "DELTA = 36000"
   ]
  },
  {
   "cell_type": "markdown",
   "metadata": {},
   "source": [
    "We isolate relevant words by TF-IDF (Term Frequency - Inverse Document Frequency) score. For a term i in a document d within corpus D, the the TF-IDF is:\n",
    "$$\n",
    "    TFIDF_D(i,d) = tf_{i,d} \\cdot \\log\\left(\\frac{|D|}{|\\{d \\in D : i\\in d\\}|}\\right)\n",
    "$$"
   ]
  },
  {
   "cell_type": "code",
   "execution_count": 9,
   "metadata": {},
   "outputs": [],
   "source": [
    "def tf_idf(term, document, corpus):\n",
    "    # TF\n",
    "    count = 0\n",
    "    for i in document:\n",
    "        if i == term:\n",
    "            count += 1\n",
    "    frequency = count / len(document)\n",
    "    # IDF\n",
    "    df = 0\n",
    "    for d in corpus:\n",
    "        if term in set(d):\n",
    "            df += 1\n",
    "    return frequency * math.log10(len(corpus) / df)"
   ]
  },
  {
   "cell_type": "markdown",
   "metadata": {},
   "source": [
    "Create the template of the JSON file that will hold our data. We will consider that the _left_ side refers to books whereas the _right_ side refers to users."
   ]
  },
  {
   "cell_type": "code",
   "execution_count": 10,
   "metadata": {},
   "outputs": [],
   "source": [
    "data_stream = {\n",
    "\"settings\": {\n",
    "    \"bipartite\": 1,\n",
    "    \"weighted\": 0,\n",
    "    \"directed\": 0,\n",
    "    \"attributed\": 1\n",
    "},\n",
    "\"T\": {\n",
    "    \"alpha\": 0,\n",
    "    \"omega\": 10\n",
    "},\n",
    "\"V\": {\n",
    "    \"left\": [],\n",
    "    \"right\": []\n",
    "},\n",
    "\"W\": {},\n",
    "\"E\": [],\n",
    "\"I\": {\n",
    "        \"left\": [],\n",
    "        \"right\": []\n",
    "     }\n",
    "}"
   ]
  },
  {
   "cell_type": "markdown",
   "metadata": {},
   "source": [
    "## Prepare books information"
   ]
  },
  {
   "cell_type": "code",
   "execution_count": 12,
   "metadata": {},
   "outputs": [],
   "source": [
    "books_file = open(\"data/goodreads/goodreads_books_poetry.json\")\n",
    "books = {}\n",
    "has_reviews = 0\n",
    "\n",
    "for (i, line) in enumerate(books_file):\n",
    "    data = json.loads(line)\n",
    "    # We add \"B-\" prefixing each attribute to avoid language duplicates between books and users\n",
    "    book_attributes = [ \"B-\" + x.strip() for x in map(str.lower, data[\"description\"].split(\" \")) if x.strip() in word_corpus ]\n",
    "    books[\"B-\"+ data[\"book_id\"]] = book_attributes\n",
    "    # data_stream[\"I\"][\"left\"] = data_stream[\"I\"][\"left\"] + book_attributes"
   ]
  },
  {
   "cell_type": "markdown",
   "metadata": {},
   "source": [
    "## Prepare reviews information"
   ]
  },
  {
   "cell_type": "markdown",
   "metadata": {},
   "source": [
    "We decide to assign the review text as attributes of the users, and the ndo a matching between the reviews and the book descriptions."
   ]
  },
  {
   "cell_type": "code",
   "execution_count": 13,
   "metadata": {},
   "outputs": [],
   "source": [
    "reviews_file = open(\"data/goodreads/goodreads_reviews_poetry.json\")\n",
    "reviews = []\n",
    "users_ids = set()\n",
    "books_ids = set()\n",
    "labels_users = []\n",
    "labels_books = []\n",
    "ratings = {} # sparse matrix ?\n",
    "links = []\n",
    "min_date_added = None\n",
    "\n",
    "for (i,line) in enumerate(reviews_file):\n",
    "    \n",
    "    data = json.loads(line)\n",
    "    \n",
    "    # Transform date to timestamp\n",
    "    date_added = datetime.strptime(data[\"date_added\"], \"%a %b %d %H:%M:%S %z %Y\")\n",
    "    date_added = date_added.timestamp()\n",
    "    \n",
    "    if min_date_added is None or date_added < min_date_added:\n",
    "        min_date_added = date_added\n",
    "    \n",
    "    users_ids.add(\"U-\" + data[\"user_id\"])\n",
    "    books_ids.add(\"B-\" + data[\"book_id\"])\n",
    "    reviews.append(data[\"review_text\"])\n",
    "    \n",
    "    u = \"U-\" + data[\"user_id\"]\n",
    "    v = \"B-\" + data[\"book_id\"]\n",
    "\n",
    "    b = date_added - DELTA\n",
    "    e = date_added + DELTA\n",
    "    \n",
    "    # Pick first 5 words of review and description for each node -- FOR TESTS ONLY --\n",
    "    # map to lowercase\n",
    "    label_u = [ \"U-\" + x.strip() for x in map(str.lower, set(data[\"review_text\"].split(\" \"))) if x.strip() in word_corpus ]\n",
    "    label_v = list(set(books[v]))\n",
    "    labels_users.extend(label_u)\n",
    "    labels_books.extend(label_v)\n",
    "    \n",
    "    link = {\"b\": b, \"e\": e, \"u\": v, \"v\": u, \"label\": { \"left\": label_v, \"right\": label_u } }\n",
    "    links.append(link)\n",
    "\n",
    "for i in range(0, len(links)):\n",
    "    links[i][\"b\"] -= min_date_added\n",
    "    links[i][\"e\"] -= min_date_added\n",
    "\n",
    "data_stream[\"T\"] = {\"alpha\": 0, \"omega\": 10 }\n",
    "data_stream[\"V\"] = {\"left\": list(books_ids), \"right\": list(users_ids)}\n",
    "data_stream[\"I\"] = {\"left\": list(set(labels_books)), \"right\": list(set(labels_users))}\n",
    "data_stream[\"E\"] = links"
   ]
  },
  {
   "cell_type": "code",
   "execution_count": 14,
   "metadata": {},
   "outputs": [
    {
     "data": {
      "text/plain": [
       "(36412, 47400, 23401, 35303, 154555)"
      ]
     },
     "execution_count": 14,
     "metadata": {},
     "output_type": "execute_result"
    }
   ],
   "source": [
    "len(data_stream[\"V\"][\"left\"]), len(data_stream[\"V\"][\"right\"]), len(data_stream[\"I\"][\"left\"]), len(data_stream[\"I\"][\"right\"]), len(data_stream[\"E\"])"
   ]
  },
  {
   "cell_type": "code",
   "execution_count": 15,
   "metadata": {},
   "outputs": [
    {
     "name": "stdout",
     "output_type": "stream",
     "text": [
      "23401 35303\n",
      "58704\n"
     ]
    },
    {
     "data": {
      "text/plain": [
       "58704"
      ]
     },
     "execution_count": 15,
     "metadata": {},
     "output_type": "execute_result"
    }
   ],
   "source": [
    "from lib.Utils import *\n",
    "import re\n",
    "I_l = data_stream[\"I\"][\"left\"]\n",
    "I_r = data_stream[\"I\"][\"right\"]\n",
    "print(len(I_l), len(I_r))\n",
    "print(len(I_r + I_l))\n",
    "\n",
    "rem = re.compile(\"\\w\") # Match only letters and numbers\n",
    "ratio_alphanum = lambda x: len(re.findall(rem, x[2:])) / max(len(x[2:]), 1)\n",
    "ratio_list = [ ratio_alphanum(s) for s in I_l + I_r if ratio_alphanum(s) > 0.95 ]\n",
    "len(ratio_list)"
   ]
  },
  {
   "cell_type": "code",
   "execution_count": 51,
   "metadata": {},
   "outputs": [],
   "source": [
    "ccdf_vals = Utils.ccdf(ratio_list)"
   ]
  },
  {
   "cell_type": "code",
   "execution_count": 64,
   "metadata": {},
   "outputs": [
    {
     "data": {
      "image/png": "[encoded data removed]",
      "text/plain": [
       "<Figure size 864x576 with 1 Axes>"
      ]
     },
     "metadata": {
      "needs_background": "light"
     },
     "output_type": "display_data"
    },
    {
     "name": "stdout",
     "output_type": "stream",
     "text": [
      "1190882\n"
     ]
    },
    {
     "data": {
      "text/plain": [
       "[1.0, 1.0, 1.0, 1.0, 1.0, 1.0, 1.0, 1.0, 1.0, 1.0]"
      ]
     },
     "execution_count": 64,
     "metadata": {},
     "output_type": "execute_result"
    }
   ],
   "source": [
    "import matplotlib.pyplot as plt\n",
    "plt.figure(figsize=(12,8))\n",
    "plt.plot(ccdf_vals[1], ccdf_vals[0])\n",
    "plt.show()\n",
    "print(len(ratio_list))\n",
    "ratio_filtered = [x for x in ratio_list if x > 0.95]\n",
    "ratio_filtered[:10]\n"
   ]
  },
  {
   "cell_type": "markdown",
   "metadata": {},
   "source": [
    "Core ideas on edges : assortativity (above $k$), shortest paths involving edge (filter on number ?)"
   ]
  },
  {
   "cell_type": "code",
   "execution_count": null,
   "metadata": {},
   "outputs": [],
   "source": []
  },
  {
   "cell_type": "code",
   "execution_count": 16,
   "metadata": {},
   "outputs": [],
   "source": [
    "json.dump(data_stream, open(\"data/goodreads_poetry.json\", \"w\"))"
   ]
  },
  {
   "cell_type": "markdown",
   "metadata": {},
   "source": [
    "## Create stream\n",
    "\n",
    "Read from the file that was prepared in the first section of this notebook."
   ]
  },
  {
   "cell_type": "code",
   "execution_count": 17,
   "metadata": {},
   "outputs": [],
   "source": [
    "# s = Stream(lang=set(labels_users + labels_books), _fp=open(\"results.txt\", \"w+\"))\n",
    "s = BipartiteStream()\n",
    "s.readStream(\"data/goodreads_poetry.json\")"
   ]
  },
  {
   "cell_type": "code",
   "execution_count": 18,
   "metadata": {},
   "outputs": [],
   "source": [
    "core_property = StreamStarSat(s, threshold=5)\n",
    "s.setCoreProperty(core_property)"
   ]
  },
  {
   "cell_type": "code",
   "execution_count": 19,
   "metadata": {},
   "outputs": [
    {
     "data": {
      "text/plain": [
       "(True, 5)"
      ]
     },
     "execution_count": 19,
     "metadata": {},
     "output_type": "execute_result"
    }
   ],
   "source": [
    "type(s.core_property) is StreamStarSat, s.core_property.threshold"
   ]
  },
  {
   "cell_type": "code",
   "execution_count": 21,
   "metadata": {},
   "outputs": [
    {
     "data": {
      "text/plain": [
       "(154555, 23401, 35303)"
      ]
     },
     "execution_count": 21,
     "metadata": {},
     "output_type": "execute_result"
    }
   ],
   "source": [
    "len(s.E), len(s.I[\"left\"]), len(s.I[\"right\"])"
   ]
  },
  {
   "cell_type": "code",
   "execution_count": 22,
   "metadata": {},
   "outputs": [
    {
     "data": {
      "text/plain": [
       "{'b': 189125944.0,\n",
       " 'e': 189197944.0,\n",
       " 'u': 'B-402128',\n",
       " 'v': 'U-3ca7375dba942a760e53b726c472a7dd',\n",
       " 'label': {'left': ['B-legendary',\n",
       "   'B-they',\n",
       "   'B-as',\n",
       "   'B-the',\n",
       "   'B-delighted',\n",
       "   'B-in',\n",
       "   'B-his',\n",
       "   'B-later',\n",
       "   'B-first',\n",
       "   'B-around',\n",
       "   'B-for',\n",
       "   'B-were',\n",
       "   'B-and',\n",
       "   'B-since',\n",
       "   'B-composed',\n",
       "   'B-posing',\n",
       "   'B-originally',\n",
       "   'B-possum',\n",
       "   'B-cat',\n",
       "   'B-musical',\n",
       "   'B-old',\n",
       "   'B-have',\n",
       "   'B-inspired',\n",
       "   'B-playful',\n",
       "   'B-ever',\n",
       "   'B-world',\n",
       "   'B-with'],\n",
       "  'right': ['U-creative',\n",
       "   'U-used',\n",
       "   'U-with',\n",
       "   'U-all',\n",
       "   'U-whereas',\n",
       "   'U-younger',\n",
       "   'U-really',\n",
       "   'U-fun',\n",
       "   'U-idea',\n",
       "   'U-this',\n",
       "   'U-have',\n",
       "   'U-came',\n",
       "   'U-familiar',\n",
       "   'U-musical',\n",
       "   'U-a',\n",
       "   'U-no',\n",
       "   'U-looking',\n",
       "   'U-sofa',\n",
       "   'U-grew',\n",
       "   'U-one',\n",
       "   'U-anyone',\n",
       "   'U-some',\n",
       "   'U-who',\n",
       "   'U-trouble',\n",
       "   'U-as',\n",
       "   'U-up',\n",
       "   'U-found',\n",
       "   'U-the',\n",
       "   'U-them',\n",
       "   'U-read',\n",
       "   'U-the',\n",
       "   'U-book',\n",
       "   'U-tell',\n",
       "   'U-do',\n",
       "   'U-remember',\n",
       "   'U-three',\n",
       "   'U-we',\n",
       "   'U-of',\n",
       "   'U-that',\n",
       "   'U-recommend',\n",
       "   'U-out',\n",
       "   'U-was',\n",
       "   'U-when',\n",
       "   'U-how',\n",
       "   'U-and',\n",
       "   'U-from',\n",
       "   'U-watching',\n",
       "   'U-is',\n",
       "   'U-get',\n",
       "   'U-break',\n",
       "   'U-we',\n",
       "   'U-for',\n",
       "   'U-would',\n",
       "   'U-your',\n",
       "   'U-knew',\n",
       "   'U-written',\n",
       "   'U-actually',\n",
       "   'U-so',\n",
       "   'U-they',\n",
       "   'U-brilliant',\n",
       "   'U-year',\n",
       "   'U-writer',\n",
       "   'U-i',\n",
       "   'U-usually',\n",
       "   'U-something',\n",
       "   'U-family',\n",
       "   'U-sophisticated',\n",
       "   'U-based',\n",
       "   'U-to',\n",
       "   'U-great',\n",
       "   'U-brighten',\n",
       "   'U-dance',\n",
       "   'U-this',\n",
       "   'U-off',\n",
       "   'U-just',\n",
       "   'U-are',\n",
       "   'U-beautifully']}}"
      ]
     },
     "execution_count": 22,
     "metadata": {},
     "output_type": "execute_result"
    }
   ],
   "source": [
    "s.E[0]"
   ]
  },
  {
   "cell_type": "code",
   "execution_count": 23,
   "metadata": {},
   "outputs": [
    {
     "name": "stdout",
     "output_type": "stream",
     "text": [
      "7.9423313370207325\n"
     ]
    }
   ],
   "source": [
    "import time\n",
    "start = time.perf_counter()\n",
    "#X1 = [TimeNode(x[\"u\"], x[\"b\"], x[\"e\"]) for x in s.E ]\n",
    "#X2 = [TimeNode(x[\"v\"], x[\"b\"], x[\"e\"]) for x in s.E ]\n",
    "#X = X1 + X2\n",
    "#X = TimeNodeSet(elements=X)\n",
    "#s.W = X\n",
    "res_int = interior(s)\n",
    "end = time.perf_counter()\n",
    "print(end - start)"
   ]
  },
  {
   "cell_type": "code",
   "execution_count": 68,
   "metadata": {},
   "outputs": [
    {
     "ename": "KeyboardInterrupt",
     "evalue": "",
     "output_type": "error",
     "traceback": [
      "\u001b[0;31m---------------------------------------------------------------------------\u001b[0m",
      "\u001b[0;31mKeyboardInterrupt\u001b[0m                         Traceback (most recent call last)",
      "\u001b[0;32m<ipython-input-68-7b7974a26fb4>\u001b[0m in \u001b[0;36m<module>\u001b[0;34m\u001b[0m\n\u001b[0;32m----> 1\u001b[0;31m \u001b[0mbipatterns\u001b[0m\u001b[0;34m(\u001b[0m\u001b[0ms\u001b[0m\u001b[0;34m)\u001b[0m\u001b[0;34m\u001b[0m\u001b[0;34m\u001b[0m\u001b[0m\n\u001b[0m",
      "\u001b[0;32m~/Documents/pattern-mining/lib/patterns.py\u001b[0m in \u001b[0;36mbipatterns\u001b[0;34m(stream, s)\u001b[0m\n\u001b[1;32m    226\u001b[0m     \u001b[0mstream\u001b[0m\u001b[0;34m.\u001b[0m\u001b[0mbipatterns_list\u001b[0m \u001b[0;34m=\u001b[0m \u001b[0;34m[\u001b[0m\u001b[0;34m]\u001b[0m\u001b[0;34m\u001b[0m\u001b[0;34m\u001b[0m\u001b[0m\n\u001b[1;32m    227\u001b[0m     \u001b[0;31m# S = interior(self, _top, _bot, set())\u001b[0m\u001b[0;34m\u001b[0m\u001b[0;34m\u001b[0m\u001b[0;34m\u001b[0m\u001b[0m\n\u001b[0;32m--> 228\u001b[0;31m     \u001b[0mS\u001b[0m \u001b[0;34m=\u001b[0m \u001b[0mstream\u001b[0m\u001b[0;34m.\u001b[0m\u001b[0mcore_property\u001b[0m\u001b[0;34m.\u001b[0m\u001b[0minterior\u001b[0m\u001b[0;34m(\u001b[0m\u001b[0mstream\u001b[0m\u001b[0;34m)\u001b[0m\u001b[0;34m\u001b[0m\u001b[0;34m\u001b[0m\u001b[0m\n\u001b[0m\u001b[1;32m    229\u001b[0m \u001b[0;31m#     pattern = Pattern(set(), S)\u001b[0m\u001b[0;34m\u001b[0m\u001b[0;34m\u001b[0m\u001b[0;34m\u001b[0m\u001b[0m\n\u001b[1;32m    230\u001b[0m     \u001b[0mpattern\u001b[0m \u001b[0;34m=\u001b[0m \u001b[0mBiPattern\u001b[0m\u001b[0;34m(\u001b[0m\u001b[0;34m{\u001b[0m \u001b[0;34m\"left\"\u001b[0m\u001b[0;34m:\u001b[0m \u001b[0mset\u001b[0m\u001b[0;34m(\u001b[0m\u001b[0;34m)\u001b[0m\u001b[0;34m,\u001b[0m \u001b[0;34m\"right\"\u001b[0m\u001b[0;34m:\u001b[0m \u001b[0mset\u001b[0m\u001b[0;34m(\u001b[0m\u001b[0;34m)\u001b[0m \u001b[0;34m}\u001b[0m\u001b[0;34m,\u001b[0m \u001b[0mS\u001b[0m\u001b[0;34m)\u001b[0m\u001b[0;34m\u001b[0m\u001b[0;34m\u001b[0m\u001b[0m\n",
      "\u001b[0;32m~/Documents/pattern-mining/lib/StreamProperties.py\u001b[0m in \u001b[0;36minterior\u001b[0;34m(self, s)\u001b[0m\n\u001b[1;32m     76\u001b[0m                             \u001b[0msatellites\u001b[0m\u001b[0;34m.\u001b[0m\u001b[0madd\u001b[0m\u001b[0;34m(\u001b[0m\u001b[0mTimeNode\u001b[0m\u001b[0;34m(\u001b[0m\u001b[0mx\u001b[0m\u001b[0;34m,\u001b[0m \u001b[0mmax\u001b[0m\u001b[0;34m(\u001b[0m\u001b[0mlast_times\u001b[0m\u001b[0;34m[\u001b[0m\u001b[0mx\u001b[0m\u001b[0;34m]\u001b[0m\u001b[0;34m,\u001b[0m \u001b[0mlast_times\u001b[0m\u001b[0;34m[\u001b[0m\u001b[0mu\u001b[0m\u001b[0;34m]\u001b[0m\u001b[0;34m)\u001b[0m\u001b[0;34m,\u001b[0m \u001b[0mt\u001b[0m\u001b[0;34m)\u001b[0m\u001b[0;34m)\u001b[0m\u001b[0;34m\u001b[0m\u001b[0;34m\u001b[0m\u001b[0m\n\u001b[1;32m     77\u001b[0m                         \u001b[0mbest_neighs\u001b[0m \u001b[0;34m=\u001b[0m \u001b[0mset\u001b[0m\u001b[0;34m(\u001b[0m\u001b[0;34m)\u001b[0m\u001b[0;34m\u001b[0m\u001b[0;34m\u001b[0m\u001b[0m\n\u001b[0;32m---> 78\u001b[0;31m         \u001b[0;32mreturn\u001b[0m \u001b[0ms\u001b[0m\u001b[0;34m.\u001b[0m\u001b[0msubstream\u001b[0m\u001b[0;34m(\u001b[0m\u001b[0mstars\u001b[0m\u001b[0;34m,\u001b[0m \u001b[0msatellites\u001b[0m\u001b[0;34m)\u001b[0m\u001b[0;34m\u001b[0m\u001b[0;34m\u001b[0m\u001b[0m\n\u001b[0m\u001b[1;32m     79\u001b[0m \u001b[0;34m\u001b[0m\u001b[0m\n\u001b[1;32m     80\u001b[0m     \u001b[0;32mdef\u001b[0m \u001b[0mget_values\u001b[0m\u001b[0;34m(\u001b[0m\u001b[0mself\u001b[0m\u001b[0;34m)\u001b[0m\u001b[0;34m:\u001b[0m\u001b[0;34m\u001b[0m\u001b[0;34m\u001b[0m\u001b[0m\n",
      "\u001b[0;32m~/Documents/pattern-mining/lib/Stream.py\u001b[0m in \u001b[0;36msubstream\u001b[0;34m(self, W1, W2)\u001b[0m\n\u001b[1;32m    426\u001b[0m                         }\n\u001b[1;32m    427\u001b[0m                     }\n\u001b[0;32m--> 428\u001b[0;31m                     \u001b[0msubs\u001b[0m\u001b[0;34m.\u001b[0m\u001b[0mI\u001b[0m\u001b[0;34m[\u001b[0m\u001b[0;34m\"left\"\u001b[0m\u001b[0;34m]\u001b[0m \u001b[0;34m=\u001b[0m \u001b[0msubs\u001b[0m\u001b[0;34m.\u001b[0m\u001b[0mI\u001b[0m\u001b[0;34m[\u001b[0m\u001b[0;34m\"left\"\u001b[0m\u001b[0;34m]\u001b[0m\u001b[0;34m.\u001b[0m\u001b[0munion\u001b[0m\u001b[0;34m(\u001b[0m\u001b[0mlabel_left\u001b[0m\u001b[0;34m)\u001b[0m\u001b[0;34m\u001b[0m\u001b[0;34m\u001b[0m\u001b[0m\n\u001b[0m\u001b[1;32m    429\u001b[0m                     \u001b[0msubs\u001b[0m\u001b[0;34m.\u001b[0m\u001b[0mI\u001b[0m\u001b[0;34m[\u001b[0m\u001b[0;34m\"right\"\u001b[0m\u001b[0;34m]\u001b[0m \u001b[0;34m=\u001b[0m \u001b[0msubs\u001b[0m\u001b[0;34m.\u001b[0m\u001b[0mI\u001b[0m\u001b[0;34m[\u001b[0m\u001b[0;34m\"right\"\u001b[0m\u001b[0;34m]\u001b[0m\u001b[0;34m.\u001b[0m\u001b[0munion\u001b[0m\u001b[0;34m(\u001b[0m\u001b[0mlabel_right\u001b[0m\u001b[0;34m)\u001b[0m\u001b[0;34m\u001b[0m\u001b[0;34m\u001b[0m\u001b[0m\n\u001b[1;32m    430\u001b[0m                     \u001b[0msubs\u001b[0m\u001b[0;34m.\u001b[0m\u001b[0madd_link\u001b[0m\u001b[0;34m(\u001b[0m\u001b[0mnew_l\u001b[0m\u001b[0;34m)\u001b[0m\u001b[0;34m\u001b[0m\u001b[0;34m\u001b[0m\u001b[0m\n",
      "\u001b[0;31mKeyboardInterrupt\u001b[0m: "
     ]
    }
   ],
   "source": [
    "bipatterns(s)"
   ]
  },
  {
   "cell_type": "code",
   "execution_count": 62,
   "metadata": {},
   "outputs": [
    {
     "data": {
      "text/plain": [
       "{'B-1939.',\n",
       " 'B-and',\n",
       " 'B-around',\n",
       " 'B-as',\n",
       " 'B-cat',\n",
       " 'B-cats.',\n",
       " 'B-composed',\n",
       " 'B-delighted',\n",
       " 'B-eliot',\n",
       " \"B-eliot's\",\n",
       " 'B-ever',\n",
       " 'B-first',\n",
       " 'B-for',\n",
       " 'B-godchildren,',\n",
       " 'B-have',\n",
       " 'B-himself,',\n",
       " 'B-his',\n",
       " 'B-in',\n",
       " 'B-inspired',\n",
       " 'B-later',\n",
       " 'B-legendary',\n",
       " 'B-lovers',\n",
       " 'B-musical',\n",
       " 'B-old',\n",
       " 'B-originally',\n",
       " 'B-playful',\n",
       " 'B-poems',\n",
       " 'B-posing',\n",
       " 'B-possum',\n",
       " 'B-published',\n",
       " 'B-readers',\n",
       " 'B-s.',\n",
       " 'B-since',\n",
       " 'B-t.',\n",
       " 'B-the',\n",
       " 'B-they',\n",
       " 'B-were',\n",
       " 'B-with',\n",
       " 'B-world'}"
      ]
     },
     "execution_count": 62,
     "metadata": {},
     "output_type": "execute_result"
    }
   ],
   "source": [
    "s.label(TimeNode(\"B-402128\", 196398437.0,196403331.0))"
   ]
  },
  {
   "cell_type": "code",
   "execution_count": 37,
   "metadata": {},
   "outputs": [
    {
     "data": {
      "text/plain": [
       "['fe488adb521619bebb35028a61c5cdde',\n",
       " 'b41fd369eec21e02a9ad56c8608c3823',\n",
       " 'edb780cdc27b4fe316fbc72c1588ed09',\n",
       " '5153111a7b8025c21253deb34c995e02',\n",
       " 'c12609bcc482938019be17a15ee4d171',\n",
       " '5290036',\n",
       " 'bbb6abbad493a606c959f445f2cc793f',\n",
       " '38b42c397fd456385bc79356a0feacee',\n",
       " '848098',\n",
       " '5956803']"
      ]
     },
     "execution_count": 37,
     "metadata": {},
     "output_type": "execute_result"
    }
   ],
   "source": [
    "list(s.V)[0:10]"
   ]
  },
  {
   "cell_type": "code",
   "execution_count": 10,
   "metadata": {},
   "outputs": [],
   "source": [
    "vectorizer = TfidfVectorizer(use_idf=True)\n",
    "res = vectorizer.fit_transform(reviews)"
   ]
  },
  {
   "cell_type": "markdown",
   "metadata": {},
   "source": [
    "Total number of concepts (i.e. distinct words in reviews)"
   ]
  },
  {
   "cell_type": "code",
   "execution_count": 11,
   "metadata": {},
   "outputs": [
    {
     "name": "stdout",
     "output_type": "stream",
     "text": [
      "47400 users, 36412 books, 154555 reviews, 403416 concepts (i.e. distinct words in reviews)\n"
     ]
    }
   ],
   "source": [
    "n_users, n_books, n_reviews, n_concepts = len(users), len(books), len(reviews), len(vectorizer.get_feature_names())\n",
    "print(f\"{n_users} users, {n_books} books, {n_reviews} reviews, {n_concepts} concepts (i.e. distinct words in reviews)\")"
   ]
  },
  {
   "cell_type": "code",
   "execution_count": 12,
   "metadata": {},
   "outputs": [
    {
     "data": {
      "text/plain": [
       "9292775"
      ]
     },
     "execution_count": 12,
     "metadata": {},
     "output_type": "execute_result"
    }
   ],
   "source": [
    "tfidf_values = [round(i, 3) for i in res.data]\n",
    "len(tfidf_values)"
   ]
  },
  {
   "cell_type": "code",
   "execution_count": 13,
   "metadata": {},
   "outputs": [
    {
     "data": {
      "text/plain": [
       "0.09749984294250118"
      ]
     },
     "execution_count": 13,
     "metadata": {},
     "output_type": "execute_result"
    }
   ],
   "source": [
    "ccdf_values = Utils.ccdf(tfidf_values)\n",
    "import numpy as np\n",
    "np.mean(tfidf_values)"
   ]
  },
  {
   "cell_type": "code",
   "execution_count": 14,
   "metadata": {},
   "outputs": [
    {
     "data": {
      "text/plain": [
       "[<matplotlib.lines.Line2D at 0x7f38e5be1a10>]"
      ]
     },
     "execution_count": 14,
     "metadata": {},
     "output_type": "execute_result"
    },
    {
     "data": {
      "image/png": "[encoded data removed]",
      "text/plain": [
       "<Figure size 432x288 with 1 Axes>"
      ]
     },
     "metadata": {
      "needs_background": "light"
     },
     "output_type": "display_data"
    }
   ],
   "source": [
    "plt.plot(ccdf_values[0], ccdf_values[1])"
   ]
  },
  {
   "cell_type": "code",
   "execution_count": 15,
   "metadata": {},
   "outputs": [],
   "source": [
    "def parse_review(text, threshold=0.0):\n",
    "    print(vectorizer.get_feature_names()[143450:143550])\n",
    "\n",
    "import pandas as pd"
   ]
  },
  {
   "cell_type": "code",
   "execution_count": 59,
   "metadata": {},
   "outputs": [
    {
     "name": "stdout",
     "output_type": "stream",
     "text": [
      "0\n"
     ]
    },
    {
     "ename": "AttributeError",
     "evalue": "'NoneType' object has no attribute 'toarray'",
     "output_type": "error",
     "traceback": [
      "\u001b[0;31m---------------------------------------------------------------------------\u001b[0m",
      "\u001b[0;31mAttributeError\u001b[0m                            Traceback (most recent call last)",
      "\u001b[0;32m<ipython-input-59-853ffd79e611>\u001b[0m in \u001b[0;36m<module>\u001b[0;34m\u001b[0m\n\u001b[1;32m      9\u001b[0m         \u001b[0mprint\u001b[0m\u001b[0;34m(\u001b[0m\u001b[0mi\u001b[0m\u001b[0;34m)\u001b[0m\u001b[0;34m\u001b[0m\u001b[0;34m\u001b[0m\u001b[0m\n\u001b[1;32m     10\u001b[0m \u001b[0;34m\u001b[0m\u001b[0m\n\u001b[0;32m---> 11\u001b[0;31m     \u001b[0mtfidf_scores\u001b[0m \u001b[0;34m=\u001b[0m \u001b[0mr\u001b[0m\u001b[0;34m.\u001b[0m\u001b[0meliminate_zeros\u001b[0m\u001b[0;34m(\u001b[0m\u001b[0;34m)\u001b[0m\u001b[0;34m.\u001b[0m\u001b[0mtoarray\u001b[0m\u001b[0;34m(\u001b[0m\u001b[0;34m)\u001b[0m\u001b[0;34m[\u001b[0m\u001b[0;36m0\u001b[0m\u001b[0;34m]\u001b[0m\u001b[0;34m\u001b[0m\u001b[0;34m\u001b[0m\u001b[0m\n\u001b[0m\u001b[1;32m     12\u001b[0m     \u001b[0mresult\u001b[0m \u001b[0;34m=\u001b[0m \u001b[0mfilter_tfidf_scores\u001b[0m\u001b[0;34m(\u001b[0m\u001b[0mtfidf_scores\u001b[0m\u001b[0;34m)\u001b[0m\u001b[0;34m\u001b[0m\u001b[0;34m\u001b[0m\u001b[0m\n\u001b[1;32m     13\u001b[0m     \u001b[0mwords_per_review\u001b[0m\u001b[0;34m.\u001b[0m\u001b[0mappend\u001b[0m\u001b[0;34m(\u001b[0m\u001b[0mlen\u001b[0m\u001b[0;34m(\u001b[0m\u001b[0mresult\u001b[0m\u001b[0;34m)\u001b[0m\u001b[0;34m)\u001b[0m\u001b[0;34m\u001b[0m\u001b[0;34m\u001b[0m\u001b[0m\n",
      "\u001b[0;31mAttributeError\u001b[0m: 'NoneType' object has no attribute 'toarray'"
     ]
    }
   ],
   "source": [
    "# vectorizer.get_feature_names()[i], for a given i, will output the associated word\n",
    "# However, it's slow, and we don't really need it so far, so we keep to integers indices\n",
    "filter_tfidf_scores = lambda r: [ (i, v) for i, v in enumerate(r) if v > 0.1 ]\n",
    "filter_tfidf_scores = lambda r: r.eliminate_zeros() # [ (i, v) for i, v in enumerate(r) if v > 0.1 ]\n",
    "\n",
    "words_per_review = []\n",
    "for i, r in enumerate(res):\n",
    "    if i % 10000 == 0:\n",
    "        print(i)\n",
    "    \n",
    "    tfidf_scores = r.eliminate_zeros().toarray()[0]\n",
    "    result = filter_tfidf_scores(tfidf_scores)\n",
    "    words_per_review.append(len(result))"
   ]
  },
  {
   "cell_type": "code",
   "execution_count": null,
   "metadata": {},
   "outputs": [],
   "source": []
  }
 ],
 "metadata": {
  "kernelspec": {
   "display_name": "Python 3",
   "language": "python",
   "name": "python3"
  },
  "language_info": {
   "codemirror_mode": {
    "name": "ipython",
    "version": 3
   },
   "file_extension": ".py",
   "mimetype": "text/x-python",
   "name": "python",
   "nbconvert_exporter": "python",
   "pygments_lexer": "ipython3",
   "version": "3.8.2"
  }
 },
 "nbformat": 4,
 "nbformat_minor": 4
}
