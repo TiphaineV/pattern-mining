{
 "cells": [
  {
   "cell_type": "code",
   "execution_count": 1,
   "metadata": {},
   "outputs": [],
   "source": [
    "%load_ext autoreload\n",
    "%autoreload 2"
   ]
  },
  {
   "cell_type": "markdown",
   "metadata": {},
   "source": [
    "TODO : \n",
    "\n",
    "- Corriger bug qui fait que c'est StarSat dans tout le stream et pas seulement dans le sous-stream (uniquement pour BHA-core, graphes ?)\n",
    "- Retirer les valeurs en dur pour b,e et le langage\n",
    "- Lancer :D\n",
    "- Installer jupyter lab sur tiphaineviard.com ?\n",
    "- Avoir un moyen de dessiner les interieurs etc. ?"
   ]
  },
  {
   "cell_type": "markdown",
   "metadata": {},
   "source": [
    "# GoodReads Poetry dataset\n",
    "\n",
    "The full dataset (including other genres) is available at: https://sites.google.com/eng.ucsd.edu/ucsdbookgraph/home. We focus here on the _Poetry_ dataset for tractability, as it is the one with the least number of books and reviews.\n",
    "\n",
    "The files in the `./data/goodreads/` directory are:\n",
    "\n",
    "- `goodreads_books_poetry.json` : contains information about the books (i.e. nodes)\n",
    "- `reviews.json` : contains reviews of books by users, with the associated timestamp and ratings\n",
    "\n",
    "Note that the number of reviews is significantly lower than the number of interactions; indeed, \"interacting\" on goodreads can be \"shelving\", posting a review, a rating, etc."
   ]
  },
  {
   "cell_type": "code",
   "execution_count": 2,
   "metadata": {},
   "outputs": [],
   "source": [
    "import ujson as json\n",
    "import math\n",
    "from sklearn.feature_extraction.text import TfidfVectorizer\n",
    "import matplotlib.pyplot as plt\n",
    "\n",
    "from lib.Stream import Stream, StreamStarSat\n",
    "from datetime import datetime\n",
    "from lib.Utils import Utils\n",
    "\n",
    "# nltk.download(\"punkt\")\n",
    "\n",
    "DELTA = 3600"
   ]
  },
  {
   "cell_type": "markdown",
   "metadata": {},
   "source": [
    "We isolate relevant words by TF-IDF (Term Frequency - Inverse Document Frequency) score. For a term i in a document d within corpus D, the the TF-IDF is:\n",
    "$$\n",
    "    TFIDF_D(i,d) = tf_{i,d} \\cdot \\log\\left(\\frac{|D|}{|\\{d \\in D : i\\in d\\}|}\\right)\n",
    "$$"
   ]
  },
  {
   "cell_type": "code",
   "execution_count": 3,
   "metadata": {},
   "outputs": [],
   "source": [
    "def tf_idf(term, document, corpus):\n",
    "    # TF\n",
    "    count = 0\n",
    "    for i in document:\n",
    "        if i == term:\n",
    "            count += 1\n",
    "    frequency = count / len(document)\n",
    "    # IDF\n",
    "    df = 0\n",
    "    for d in corpus:\n",
    "        if term in set(d):\n",
    "            df += 1\n",
    "    return frequency * math.log10(len(corpus) / df)"
   ]
  },
  {
   "cell_type": "markdown",
   "metadata": {},
   "source": [
    "## Prepare books information"
   ]
  },
  {
   "cell_type": "code",
   "execution_count": 4,
   "metadata": {},
   "outputs": [
    {
     "data": {
      "text/plain": [
       "['Number', '30', 'in', 'a', 'series']"
      ]
     },
     "execution_count": 4,
     "metadata": {},
     "output_type": "execute_result"
    }
   ],
   "source": [
    "books_file = open(\"data/goodreads/goodreads_books_poetry.json\")\n",
    "books = {}\n",
    "has_reviews = 0\n",
    "\n",
    "for (i, line) in enumerate(books_file):\n",
    "    data = json.loads(line)\n",
    "    books[data[\"book_id\"]] = data[\"description\"].split(\" \")[0:5]\n",
    "books[\"16037549\"]"
   ]
  },
  {
   "cell_type": "markdown",
   "metadata": {},
   "source": [
    "## Prepare reviews information"
   ]
  },
  {
   "cell_type": "code",
   "execution_count": 5,
   "metadata": {},
   "outputs": [],
   "source": [
    "reviews_file = open(\"data/goodreads/goodreads_reviews_poetry.json\")\n",
    "reviews = []\n",
    "users_ids = set()\n",
    "books_ids = set()\n",
    "labels_users = []\n",
    "labels_books = []\n",
    "ratings = {} # sparse matrix ?\n",
    "links = []\n",
    "min_date_added = None\n",
    "\n",
    "for (i,line) in enumerate(reviews_file):\n",
    "    data = json.loads(line)\n",
    "    \n",
    "    # Transform date to timestamp\n",
    "    date_added = datetime.strptime(data[\"date_added\"], \"%a %b %d %H:%M:%S %z %Y\")\n",
    "    date_added = date_added.timestamp()\n",
    "    \n",
    "    if min_date_added is None or date_added < min_date_added:\n",
    "        min_date_added = date_added\n",
    "    \n",
    "    users_ids.add(data[\"user_id\"])\n",
    "    books_ids.add(data[\"book_id\"])\n",
    "    reviews.append(data[\"review_text\"])\n",
    "    \n",
    "    u = data[\"user_id\"]\n",
    "    v = data[\"book_id\"]\n",
    "\n",
    "    b = date_added - DELTA\n",
    "    e = date_added + DELTA\n",
    "    \n",
    "    # Pick first 5 words of review and description for each node -- FOR TESTS ONLY --\n",
    "    label_u = set(data[\"review_text\"].split(\" \")[0:5])\n",
    "    label_v = set(books[v])\n",
    "    labels_users.extend(label_u)\n",
    "    labels_books.extend(label_v)\n",
    "    \n",
    "    link = {\"b\": b, \"e\": e, \"u\": u, \"v\": v, \"label_u\": label_u, \"label_v\": label_v }\n",
    "    links.append(link)\n",
    "\n",
    "for i in range(0, len(links)):\n",
    "    links[i][\"b\"] -= min_date_added\n",
    "    links[i][\"e\"] -= min_date_added\n",
    "    "
   ]
  },
  {
   "cell_type": "code",
   "execution_count": 6,
   "metadata": {},
   "outputs": [
    {
     "data": {
      "text/plain": [
       "({'b': 189158344.0,\n",
       "  'e': 189165544.0,\n",
       "  'u': '3ca7375dba942a760e53b726c472a7dd',\n",
       "  'v': '402128',\n",
       "  'label_u': {'I', 'have', 'siblings', 'three', 'younger'},\n",
       "  'label_v': {\"Eliot's\", 'S.', 'T.', 'cat', 'playful'}},\n",
       " 98240,\n",
       " 35178)"
      ]
     },
     "execution_count": 6,
     "metadata": {},
     "output_type": "execute_result"
    }
   ],
   "source": [
    "links[0], len(set(labels_users)), len(set(labels_books))"
   ]
  },
  {
   "cell_type": "code",
   "execution_count": 109,
   "metadata": {},
   "outputs": [],
   "source": [
    "s = Stream(lang=set(labels_users + labels_books), _fp=open(\"results.txt\", \"w+\"))\n",
    "# s = Stream(lang=set(labels_users + labels_books))\n",
    "core_property = StreamStarSat(s, threshold=2)\n",
    "s.setCoreProperty(core_property)\n",
    "s.add_links(links[:100])"
   ]
  },
  {
   "cell_type": "code",
   "execution_count": 110,
   "metadata": {},
   "outputs": [
    {
     "data": {
      "text/plain": [
       "[{'b': 189158344.0,\n",
       "  'e': 189165544.0,\n",
       "  'u': '3ca7375dba942a760e53b726c472a7dd',\n",
       "  'v': '402128',\n",
       "  'label_u': {'I', 'have', 'siblings', 'three', 'younger'},\n",
       "  'label_v': {\"Eliot's\", 'S.', 'T.', 'cat', 'playful'}},\n",
       " {'b': 247167760.0,\n",
       "  'e': 247174960.0,\n",
       "  'u': '0ef32090550901ead25cb0ea21c4d36b',\n",
       "  'v': '92270',\n",
       "  'label_u': {'This', 'collection', 'favorite', 'is', 'my'},\n",
       "  'label_v': {'Carroll,', 'a', 'and', 'diarist', 'rock'}},\n",
       " {'b': 58539490.0,\n",
       "  'e': 58546690.0,\n",
       "  'u': '0ef32090550901ead25cb0ea21c4d36b',\n",
       "  'v': '908708',\n",
       "  'label_u': {\"He's\", 'So', 'disturbing.', 'so', 'very,'},\n",
       "  'label_v': {'bash--a', 'collection', 'of', 'stunning', 'three'}},\n",
       " {'b': 356206088.0,\n",
       "  'e': 356213288.0,\n",
       "  'u': 'd37b46b2190ed7c518259f29b47a9b36',\n",
       "  'v': '253264',\n",
       "  'label_u': {'I', 'just', 'play', 'reread', 'this'},\n",
       "  'label_v': {'A', 'based', 'meaningful', 'on', 'play'}},\n",
       " {'b': 284324403.0,\n",
       "  'e': 284331603.0,\n",
       "  'u': 'af157d0205b8a901dee6d4a2aed7e6ad',\n",
       "  'v': '70885',\n",
       "  'label_u': {'Cuanto', 'leo,', 'mas', 'me'},\n",
       "  'label_v': {'Charles', 'Piano', 'Play', 'introduces', 'the'}},\n",
       " {'b': 281511562.0,\n",
       "  'e': 281518762.0,\n",
       "  'u': 'af157d0205b8a901dee6d4a2aed7e6ad',\n",
       "  'v': '15829076',\n",
       "  'label_u': {'Adorablemente', 'deprimente', 'pesimista,', 'repulsivo.', 'y'},\n",
       "  'label_v': {''}},\n",
       " {'b': 281468278.0,\n",
       "  'e': 281475478.0,\n",
       "  'u': 'af157d0205b8a901dee6d4a2aed7e6ad',\n",
       "  'v': '23534',\n",
       "  'label_u': {'Poemas', 'crudos', 'reales,', 'sin', 'y'},\n",
       "  'label_v': {'Poems', 'and', 'from', 'returning', 'rising'}},\n",
       " {'b': 197866271.0,\n",
       "  'e': 197873471.0,\n",
       "  'u': 'f4c6fe33ef61c38f7f4aeb5224c259a5',\n",
       "  'v': '13105527',\n",
       "  'label_u': {'This', 'a', \"ain't\", 'book', 'with'},\n",
       "  'label_v': {'I', 'need', 'to', 'understand', 'you'}},\n",
       " {'b': 210368824.0,\n",
       "  'e': 210376024.0,\n",
       "  'u': '4672eb229c808b792b8ea95f01f19784',\n",
       "  'v': '1420',\n",
       "  'label_u': {'This', \"don't\", 'is', 'kids', 'why'},\n",
       "  'label_v': {'One', 'greatest', 'of', 'plays', 'the'}},\n",
       " {'b': 207859191.0,\n",
       "  'e': 207866391.0,\n",
       "  'u': '4672eb229c808b792b8ea95f01f19784',\n",
       "  'v': '1381',\n",
       "  'label_u': {'Odysseus', 'an', 'arrogant,', 'is', 'such'},\n",
       "  'label_v': {\"Literature's\", 'evocation', 'grandest', \"life's\", 'of'}},\n",
       " {'b': 195297583.0,\n",
       "  'e': 195304783.0,\n",
       "  'u': '3cb38531c6aab7bcae3c26455b763fe6',\n",
       "  'v': '244397',\n",
       "  'label_u': {'Lauri', 'Olavi', 'Toinen', 'on', 'tekija'},\n",
       "  'label_v': {''}},\n",
       " {'b': 250422050.0,\n",
       "  'e': 250429250.0,\n",
       "  'u': 'd0c8e4089c1435ff9e1ab3f2bc5f88ff',\n",
       "  'v': '7824768',\n",
       "  'label_u': {\"'Glb\", 'lmfrdt', 'sTHy', 'w', 'wmml'},\n",
       "  'label_v': {'\"lyth', 'hy', 'klmt', 'lyst', 'tqr\\'\"'}},\n",
       " {'b': 237261235.0,\n",
       "  'e': 237268435.0,\n",
       "  'u': 'd0c8e4089c1435ff9e1ab3f2bc5f88ff',\n",
       "  'v': '5885639',\n",
       "  'label_u': {'frwq', 'jwyd@', 'k`d@', 'lqr', \"y'sr\"},\n",
       "  'label_v': {\"'mma\", 'kliW', 'l', 'lima', 'nqwl'}},\n",
       " {'b': 237256382.0,\n",
       "  'e': 237263582.0,\n",
       "  'u': 'd0c8e4089c1435ff9e1ab3f2bc5f88ff',\n",
       "  'v': '5948950',\n",
       "  'label_u': {'\\n', '\"', '[?][?]', 'jd', 'jmyl'},\n",
       "  'label_v': {''}},\n",
       " {'b': 199918627.0,\n",
       "  'e': 199925827.0,\n",
       "  'u': 'b54c83f02c748fe75ed309e1e12eace2',\n",
       "  'v': '15787122',\n",
       "  'label_u': {'...', 'mml', 'nthran', \"ry'`\", 'sh`ran'},\n",
       "  'label_v': {'mkhtrt', 'sh`ry@', 'wnthry@'}},\n",
       " {'b': 287339159.0,\n",
       "  'e': 287346359.0,\n",
       "  'u': 'f88032f4ad97b46654fe59ce3387cf5d',\n",
       "  'v': '23668465',\n",
       "  'label_u': {'Beyond', 'Words', 'an', 'is', 'the'},\n",
       "  'label_v': {'Beyond', 'Words', 'is', 'the'}},\n",
       " {'b': 245223123.0,\n",
       "  'e': 245230323.0,\n",
       "  'u': 'f88032f4ad97b46654fe59ce3387cf5d',\n",
       "  'v': '18600808',\n",
       "  'label_u': {'Mind', 'Pure', 'Thoughts', 'a', 'of'},\n",
       "  'label_v': {'Thoughts', 'a', 'mind', 'of', 'pure'}},\n",
       " {'b': 233249857.0,\n",
       "  'e': 233257057.0,\n",
       "  'u': 'f88032f4ad97b46654fe59ce3387cf5d',\n",
       "  'v': '18745066',\n",
       "  'label_u': {'Past', 'Seeing', 'Sickness', 'a', 'is'},\n",
       "  'label_v': {'Past', 'Seeing', 'Sickness', 'is', 'the'}},\n",
       " {'b': 228207470.0,\n",
       "  'e': 228214670.0,\n",
       "  'u': 'f88032f4ad97b46654fe59ce3387cf5d',\n",
       "  'v': '1215884',\n",
       "  'label_u': {\"I've\", 'Interesting', 'break', 'from', 'what'},\n",
       "  'label_v': {'The', 'a', 'are', 'rubaiyat', 'series'}},\n",
       " {'b': 223901709.0,\n",
       "  'e': 223908909.0,\n",
       "  'u': 'f88032f4ad97b46654fe59ce3387cf5d',\n",
       "  'v': '18141482',\n",
       "  'label_u': {'A', 'MUST', 'READ!', 'Simply', 'breathtaking!'},\n",
       "  'label_v': {'Book', 'Choice', 'Fair', \"Reader's\", '~Blogger'}},\n",
       " {'b': 218613730.0,\n",
       "  'e': 218620930.0,\n",
       "  'u': 'f88032f4ad97b46654fe59ce3387cf5d',\n",
       "  'v': '3049',\n",
       "  'label_u': {'Long', 'a', 'and', 'bit', 'boring'},\n",
       "  'label_v': {'14th-century', 'Written', 'an', 'anonymous', 'by'}},\n",
       " {'b': 194142883.0,\n",
       "  'e': 194150083.0,\n",
       "  'u': 'cd6522e9018f2f77332ec74f928f8c45',\n",
       "  'v': '556429',\n",
       "  'label_u': {'Aiheeltaan',\n",
       "   'ihan',\n",
       "   'mielenkiintoinen',\n",
       "   'mutta',\n",
       "   'tenttikirja,'},\n",
       "  'label_v': {'Louise', 'M.', \"Rosenblatt's\", 'award-winning', 'work'}},\n",
       " {'b': 192689520.0,\n",
       "  'e': 192696720.0,\n",
       "  'u': 'cd6522e9018f2f77332ec74f928f8c45',\n",
       "  'v': '1519',\n",
       "  'label_u': {'Ensin', 'luettu', 'naytelma.', 'teatteriluentoja', 'varten'},\n",
       "  'label_v': {'Alternate', 'be', 'can', 'cover', 'edition'}},\n",
       " {'b': 189328898.0,\n",
       "  'e': 189336098.0,\n",
       "  'u': 'cd6522e9018f2f77332ec74f928f8c45',\n",
       "  'v': '8061706',\n",
       "  'label_u': {'Canthin', 'Hyva', 'Minna', 'naytelma,', 'tekstit'},\n",
       "  'label_v': {'\"Omantunnon', 'antaneet', 'eivat', 'minulle', 'vaivat'}},\n",
       " {'b': 189250809.0,\n",
       "  'e': 189258009.0,\n",
       "  'u': 'cd6522e9018f2f77332ec74f928f8c45',\n",
       "  'v': '1547992',\n",
       "  'label_u': {'Jalleen', 'enemman', 'ja', 'kerran', 'vahemman'},\n",
       "  'label_v': {'The', 'bilingual', 'collection', 'comprehensive', 'most'}},\n",
       " {'b': 189248519.0,\n",
       "  'e': 189255719.0,\n",
       "  'u': 'cd6522e9018f2f77332ec74f928f8c45',\n",
       "  'v': '400412',\n",
       "  'label_u': {'Runoutta', 'kun', 'pitaisi', 'varsinkin', 'ymmartaa,'},\n",
       "  'label_v': {'Few', 'any', 'introduction', 'need', 'readers'}},\n",
       " {'b': 189246042.0,\n",
       "  'e': 189253242.0,\n",
       "  'u': 'cd6522e9018f2f77332ec74f928f8c45',\n",
       "  'v': '7761224',\n",
       "  'label_u': {'Paras', 'Tunteellinen', 'on', 'runo', 'siili,'},\n",
       "  'label_v': {'Suomen',\n",
       "   'ajaton',\n",
       "   'klassikko,',\n",
       "   'lastenlorukokoelma,',\n",
       "   'rakastetuin'}},\n",
       " {'b': 188987474.0,\n",
       "  'e': 188994674.0,\n",
       "  'u': 'cd6522e9018f2f77332ec74f928f8c45',\n",
       "  'v': '7922889',\n",
       "  'label_u': {':).', 'Erittain', 'Taas', 'hihityttavaa', 'luettavaa'},\n",
       "  'label_v': {'Elottomat', 'Sellainen', 'jalat?', 'on', 'pippuri?\\nLaulujen'}},\n",
       " {'b': 309048559.0,\n",
       "  'e': 309055759.0,\n",
       "  'u': 'f2f95653b98e1a4a68c3beab1a7f8f5e',\n",
       "  'v': '704880',\n",
       "  'label_u': {'A', 'amusing', 'and', 'quick', 'read'},\n",
       "  'label_v': {'Why', 'slogging', 'spend', 'through', 'weeks'}},\n",
       " {'b': 190356602.0,\n",
       "  'e': 190363802.0,\n",
       "  'u': '7e4945a6266566e39e3f251fff0fdde1',\n",
       "  'v': '128436',\n",
       "  'label_u': {'This', 'a', 'book', 'was', 'wonderful'},\n",
       "  'label_v': {'Sacred', 'from', 'mystics', 'poetry', 'twelve'}},\n",
       " {'b': 304761000.0,\n",
       "  'e': 304768200.0,\n",
       "  'u': '6665fe2d574221577f8a5483a6f17844',\n",
       "  'v': '11958313',\n",
       "  'label_u': {'Afterlives', 'TITLE:', 'The', 'Trees', 'of'},\n",
       "  'label_v': {''}},\n",
       " {'b': 36844579.0,\n",
       "  'e': 36851779.0,\n",
       "  'u': 'd4b1dcb35db677f20ee45225a5e43be2',\n",
       "  'v': '217972',\n",
       "  'label_u': {'Wakoski', 'by', 'far', 'is', 'my'},\n",
       "  'label_v': {''}},\n",
       " {'b': 35991084.0,\n",
       "  'e': 35998284.0,\n",
       "  'u': 'd4b1dcb35db677f20ee45225a5e43be2',\n",
       "  'v': '17648',\n",
       "  'label_u': {'Atwood', 'is', 'my', 'of', 'one'},\n",
       "  'label_v': {'Celebrated', 'a', 'as', 'major', 'novelist'}},\n",
       " {'b': 306803540.0,\n",
       "  'e': 306810740.0,\n",
       "  'u': 'c8bf6c854005db63d0b29f218dfed131',\n",
       "  'v': '2547',\n",
       "  'label_u': {'An', 'absolutely', 'beautiful', 'collection', 'of'},\n",
       "  'label_v': {\"Gibran's\", 'Kahlil', 'Prophet,', 'The', 'masterpiece,'}},\n",
       " {'b': 337045607.0,\n",
       "  'e': 337052807.0,\n",
       "  'u': '1afe8b35c5e568e95bc17e5b5cdbfd1b',\n",
       "  'v': '30075802',\n",
       "  'label_u': {'While', 'i', 'related', 'some', 'to'},\n",
       "  'label_v': {'\"Ah,', 'life-', 'that', 'the', 'thing'}},\n",
       " {'b': 311960215.0,\n",
       "  'e': 311967415.0,\n",
       "  'u': '601509eb575b04b62a647536033e5c98',\n",
       "  'v': '30075802',\n",
       "  'label_u': {'Wow....Not', 'first', 'for', 'the', 'time,'},\n",
       "  'label_v': {'\"Ah,', 'life-', 'that', 'the', 'thing'}},\n",
       " {'b': 325268277.0,\n",
       "  'e': 325275477.0,\n",
       "  'u': 'f67cc8786583247a1fbf3ee190cbbbc2',\n",
       "  'v': '29431081',\n",
       "  'label_u': {'3.5', '5', 'of', 'out'},\n",
       "  'label_v': {'Lang', 'Leav', 'a', 'completely', 'presents'}},\n",
       " {'b': 31652948.0,\n",
       "  'e': 31660148.0,\n",
       "  'u': '5d557321372d8272e95e09b3b7660294',\n",
       "  'v': '499933',\n",
       "  'label_u': {'book', 'easiest', 'not', 'the', 'to'},\n",
       "  'label_v': {'Fire', 'In', 'Nabokov', 'Pale', 'offers'}},\n",
       " {'b': 200497786.0,\n",
       "  'e': 200504986.0,\n",
       "  'u': 'ec834a076f8236b855e273cfd8ba21e7',\n",
       "  'v': '1715',\n",
       "  'label_u': {'&', 'Daphne', 'My', 'are:', 'favourites'},\n",
       "  'label_v': {'(from', 'Greek', 'Metamorphoses', 'meta'}},\n",
       " {'b': 198202584.0,\n",
       "  'e': 198209784.0,\n",
       "  'u': 'ec834a076f8236b855e273cfd8ba21e7',\n",
       "  'v': '119079',\n",
       "  'label_u': {'This', 'book', 'that', 'the', 'was'},\n",
       "  'label_v': {'This', 'a', 'is', 'prose', 'translation'}},\n",
       " {'b': 332783714.0,\n",
       "  'e': 332790914.0,\n",
       "  'u': '467ed8f03548be6c2d9228f9a2f7b2ea',\n",
       "  'v': '28645638',\n",
       "  'label_u': {'This', 'age', 'answers', 'book', 'the'},\n",
       "  'label_v': {\"There's\", 'a', 'cat', 'in', 'new'}},\n",
       " {'b': 296452961.0,\n",
       "  'e': 296460161.0,\n",
       "  'u': '467ed8f03548be6c2d9228f9a2f7b2ea',\n",
       "  'v': '410739',\n",
       "  'label_u': {'These', 'and', 'dry', 'satirical', 'witty'},\n",
       "  'label_v': {'(1874-1942)', 'Alice', 'Duer', 'Miller', 'was'}},\n",
       " {'b': 278002153.0,\n",
       "  'e': 278009353.0,\n",
       "  'u': '467ed8f03548be6c2d9228f9a2f7b2ea',\n",
       "  'v': '22716470',\n",
       "  'label_u': {'\\n', 'FORTY', 'Maya', 'ON', 'REACHING'},\n",
       "  'label_v': {''}},\n",
       " {'b': 195088350.0,\n",
       "  'e': 195095550.0,\n",
       "  'u': '467ed8f03548be6c2d9228f9a2f7b2ea',\n",
       "  'v': '57632',\n",
       "  'label_u': {'His', 'my', 'speak', 'to', 'words'},\n",
       "  'label_v': {'Merwinwas', 'New', 'W.S.', 'born', 'in'}},\n",
       " {'b': 328713424.0,\n",
       "  'e': 328720624.0,\n",
       "  'u': '34216df2a5f3846b17e3f96bea6c2ad7',\n",
       "  'v': '30521948',\n",
       "  'label_u': {'Shire', 'Warsan', 'favorite', 'is', 'my'},\n",
       "  'label_v': {''}},\n",
       " {'b': 328265713.0,\n",
       "  'e': 328272913.0,\n",
       "  'u': '34216df2a5f3846b17e3f96bea6c2ad7',\n",
       "  'v': '20613761',\n",
       "  'label_u': {'My', 'assigned', 'for', 'last', 'reading'},\n",
       "  'label_v': {'A', 'meditation', 'on', 'provocative', 'race,'}},\n",
       " {'b': 327873392.0,\n",
       "  'e': 327880592.0,\n",
       "  'u': '34216df2a5f3846b17e3f96bea6c2ad7',\n",
       "  'v': '13376363',\n",
       "  'label_u': {'Another', 'creative', 'for', 'my', 'read'},\n",
       "  'label_v': {\"'teaching\", 'What', 'elevates', 'mother', 'my'}},\n",
       " {'b': 323123791.0,\n",
       "  'e': 323130991.0,\n",
       "  'u': '34216df2a5f3846b17e3f96bea6c2ad7',\n",
       "  'v': '6555075',\n",
       "  'label_u': {'Read', 'an', 'as', 'assignment', 'for'},\n",
       "  'label_v': {'\"Like', 'Chicago,', 'native', \"poet's\", 'the'}},\n",
       " {'b': 272544813.0,\n",
       "  'e': 272552013.0,\n",
       "  'u': '34216df2a5f3846b17e3f96bea6c2ad7',\n",
       "  'v': '20821284',\n",
       "  'label_u': {'This', 'is', 'just', 'of', 'one'},\n",
       "  'label_v': {'Jacqueline', 'Woodson,', 'of', 'one', \"today's\"}},\n",
       " {'b': 183022381.0,\n",
       "  'e': 183029581.0,\n",
       "  'u': 'c6237533dc14102048c38661051da41c',\n",
       "  'v': '7846602',\n",
       "  'label_u': {'Again,', 'Hahn', 'Kimiko', 'my', 'takes'},\n",
       "  'label_v': {'For', 'Hahn,', 'Kimiko', 'language', 'the'}},\n",
       " {'b': 136364602.0,\n",
       "  'e': 136371802.0,\n",
       "  'u': 'c6237533dc14102048c38661051da41c',\n",
       "  'v': '6838356',\n",
       "  'label_u': {'Lovely', 'and', 'collection', 'lush,', 'this'},\n",
       "  'label_v': {'Lux', 'Thomas', 'debut', 'selected', 'this'}},\n",
       " {'b': 49539565.0,\n",
       "  'e': 49546765.0,\n",
       "  'u': 'c6237533dc14102048c38661051da41c',\n",
       "  'v': '220061',\n",
       "  'label_u': {'An', 'but', 'early', 'lovely', 'work,'},\n",
       "  'label_v': {'In', 'book', 'first', 'outstanding', 'this'}},\n",
       " {'b': 49539468.0,\n",
       "  'e': 49546668.0,\n",
       "  'u': 'c6237533dc14102048c38661051da41c',\n",
       "  'v': '47734',\n",
       "  'label_u': {'A', 'fairy', 'for', 'must-read', 'tale'},\n",
       "  'label_v': {'The', 'fairy', 'of', 'tale-based', 'works'}},\n",
       " {'b': 30396264.0,\n",
       "  'e': 30403464.0,\n",
       "  'u': 'c6237533dc14102048c38661051da41c',\n",
       "  'v': '455000',\n",
       "  'label_u': {'Transcendental.'},\n",
       "  'label_v': {'From', 'Hahn,', 'Kimiko', 'celebrated', 'the'}},\n",
       " {'b': 263645429.0,\n",
       "  'e': 263652629.0,\n",
       "  'u': '887b209a7c69197a1342981c583ac1f6',\n",
       "  'v': '21561020',\n",
       "  'label_u': {'Add', 'list', 'the', 'this', 'to'},\n",
       "  'label_v': {''}},\n",
       " {'b': 231087253.0,\n",
       "  'e': 231094453.0,\n",
       "  'u': '3e848f41800da256ac6bb21ae7f88af3',\n",
       "  'v': '7092964',\n",
       "  'label_u': {\"'Hb\", 'hdh', 'lnw`', 'm', 'mn'},\n",
       "  'label_v': {'lflsfy@', 'ljbrn', 'lkhwTr', 'mjmw`@', 'mn'}},\n",
       " {'b': 225752486.0,\n",
       "  'e': 225759686.0,\n",
       "  'u': '3e848f41800da256ac6bb21ae7f88af3',\n",
       "  'v': '13449283',\n",
       "  'label_u': {'kwrsw', 'lhdh', 'nS', 'shf`', 'shr`'},\n",
       "  'label_v': {'Sdr@', '`n', 'dr', 'lfkr', 'nSwS'}},\n",
       " {'b': 221774596.0,\n",
       "  'e': 221781796.0,\n",
       "  'u': '3e848f41800da256ac6bb21ae7f88af3',\n",
       "  'v': '7780749',\n",
       "  'label_u': {\"'wl\", 'lGzy', 'lqSyby', 'mrh', \"qr'\"},\n",
       "  'label_v': {''}},\n",
       " {'b': 221746610.0,\n",
       "  'e': 221753810.0,\n",
       "  'u': '3e848f41800da256ac6bb21ae7f88af3',\n",
       "  'v': '16089152',\n",
       "  'label_u': {'45', 'SfH@', '`l~', 'qlby', 'thqyl@'},\n",
       "  'label_v': {\"'fkrh,\", \"'nmlh,\", 'm`', 'wmwsyq~', 'yq`t'}},\n",
       " {'b': 215479066.0,\n",
       "  'e': 215486266.0,\n",
       "  'u': '3e848f41800da256ac6bb21ae7f88af3',\n",
       "  'v': '12068397',\n",
       "  'label_u': {'jbrn', 'jdan', 'jmyl@', 'lG@', 'wrwHnyth'},\n",
       "  'label_v': {'fyh', 'jbrn', \"l'jnH@\", 'lmtksr@..yrwy', 'qSth'}},\n",
       " {'b': 215283579.0,\n",
       "  'e': 215290779.0,\n",
       "  'u': '3e848f41800da256ac6bb21ae7f88af3',\n",
       "  'v': '5865404',\n",
       "  'label_u': {'\\n', \"'`rf\", \"'n\", 'sydty', 'y'},\n",
       "  'label_v': {''}},\n",
       " {'b': 214588175.0,\n",
       "  'e': 214595375.0,\n",
       "  'u': '3e848f41800da256ac6bb21ae7f88af3',\n",
       "  'v': '5865933',\n",
       "  'label_u': {\"'Hbki\", '..', 'Znwn', 'fwq', 'lZnwni'},\n",
       "  'label_v': {\":\\nhttp://bit.ly/'nt-ly\", 'hn', 'ldywn', 'mn', 'sh`r\\nltHmyl'}},\n",
       " {'b': 214583076.0,\n",
       "  'e': 214590276.0,\n",
       "  'u': '3e848f41800da256ac6bb21ae7f88af3',\n",
       "  'v': '12664643',\n",
       "  'label_u': {\"'wl\", 'Gyr', 'mrh', \"qr'\", 'sh`ran'},\n",
       "  'label_v': {\"'n\", 'hw', 'ldywn', 'sh`ran', 'tkwn'}},\n",
       " {'b': 211203033.0,\n",
       "  'e': 211210233.0,\n",
       "  'u': '3e848f41800da256ac6bb21ae7f88af3',\n",
       "  'v': '13104981',\n",
       "  'label_u': {'bl', 'bmstw~', 'lyst', 'lyth', \"tqr'\"},\n",
       "  'label_v': {'\"SbH', 'lthlth\"', 'sh`r,', 'trnymt', 'yrslh'}},\n",
       " {'b': 202888740.0,\n",
       "  'e': 202895940.0,\n",
       "  'u': '3e848f41800da256ac6bb21ae7f88af3',\n",
       "  'v': '10796811',\n",
       "  'label_u': {',', 'jd', 'jmyl@', 'klmth', \"qr'th\"},\n",
       "  'label_v': {'lbbi', 'lmDy', 'lmwrb\\nSdr', 'lnSf', 'mn'}},\n",
       " {'b': 327864445.0,\n",
       "  'e': 327871645.0,\n",
       "  'u': '5f550cc8d90df1759eda1496621187d8',\n",
       "  'v': '20613761',\n",
       "  'label_u': {'A', 'and', 'eye-opening', 'lyrical', 'soft,'},\n",
       "  'label_v': {'A', 'meditation', 'on', 'provocative', 'race,'}},\n",
       " {'b': 324671253.0,\n",
       "  'e': 324678453.0,\n",
       "  'u': '5f550cc8d90df1759eda1496621187d8',\n",
       "  'v': '24925181',\n",
       "  'label_u': {'Extremely', 'much', 'of', 'poetry,', 'smart'},\n",
       "  'label_v': {'Alissa', \"Quart's\", 'book', 'first', 'of'}},\n",
       " {'b': 311209349.0,\n",
       "  'e': 311216549.0,\n",
       "  'u': '5f550cc8d90df1759eda1496621187d8',\n",
       "  'v': '20821025',\n",
       "  'label_u': {'Michael', \"Robbins'\", 'are', 'carefully', 'poems'},\n",
       "  'label_v': {'A', 'a', 'collection', 'from', 'second'}},\n",
       " {'b': 243116021.0,\n",
       "  'e': 243123221.0,\n",
       "  'u': '5f550cc8d90df1759eda1496621187d8',\n",
       "  'v': '143505',\n",
       "  'label_u': {'I', 'liked', 'poems', 'selected,', 'the'},\n",
       "  'label_v': {'Rich', 'from', 'of', 'treasury', 'verse'}},\n",
       " {'b': 240098625.0,\n",
       "  'e': 240105825.0,\n",
       "  'u': '5f550cc8d90df1759eda1496621187d8',\n",
       "  'v': '11737010',\n",
       "  'label_u': {'A', 'collection', 'of', 'pithy', 'wry'},\n",
       "  'label_v': {'The', 'a', 'collection', 'debut', 'of'}},\n",
       " {'b': 235353649.0,\n",
       "  'e': 235360849.0,\n",
       "  'u': '5f550cc8d90df1759eda1496621187d8',\n",
       "  'v': '15997',\n",
       "  'label_u': {'Devil', 'The', 'is', 'star', 'the'},\n",
       "  'label_v': {'John', 'Lost', \"Milton's\", 'Paradise', 'is'}},\n",
       " {'b': 188591824.0,\n",
       "  'e': 188599024.0,\n",
       "  'u': '5f550cc8d90df1759eda1496621187d8',\n",
       "  'v': '77760',\n",
       "  'label_u': {'is', 'there', 'think.', 'to', 'what'},\n",
       "  'label_v': {'One', 'great', 'innovative', 'of', 'the'}},\n",
       " {'b': 346680206.0,\n",
       "  'e': 346687406.0,\n",
       "  'u': 'd1e368a7d2870eb6fbf6e0d350568a2d',\n",
       "  'v': '30320055',\n",
       "  'label_u': {'An', 'interesting,', 'modern', 'of', 'retelling'},\n",
       "  'label_v': {'This', 'and', 'beautiful', 'lyrical', 'novel'}},\n",
       " {'b': 337848749.0,\n",
       "  'e': 337855949.0,\n",
       "  'u': 'd1e368a7d2870eb6fbf6e0d350568a2d',\n",
       "  'v': '29102892',\n",
       "  'label_u': {'A', 'about', 'quiet', 'story', 'very'},\n",
       "  'label_v': {'Tony', 'all', 'sturdy,\\nwith', 'was', 'white,\\nlarge,'}},\n",
       " {'b': 336829682.0,\n",
       "  'e': 336836882.0,\n",
       "  'u': 'd1e368a7d2870eb6fbf6e0d350568a2d',\n",
       "  'v': '9630712',\n",
       "  'label_u': {'The', 'and', 'colorful', 'illustrations', 'updated'},\n",
       "  'label_v': {'Presents', 'nursery', 'rhyme', 'the', 'traditional'}},\n",
       " {'b': 334423542.0,\n",
       "  'e': 334430742.0,\n",
       "  'u': 'd1e368a7d2870eb6fbf6e0d350568a2d',\n",
       "  'v': '25066584',\n",
       "  'label_u': {'Dav', \"Pilkey's\", 'are', 'illustrations', 'so'},\n",
       "  'label_v': {'One', 'Today', 'a', 'is', 'poem'}},\n",
       " {'b': 271498366.0,\n",
       "  'e': 271505566.0,\n",
       "  'u': 'd1e368a7d2870eb6fbf6e0d350568a2d',\n",
       "  'v': '14950010',\n",
       "  'label_u': {'This', 'is', 'of', 'one', 'the'},\n",
       "  'label_v': {''}},\n",
       " {'b': 270983028.0,\n",
       "  'e': 270990228.0,\n",
       "  'u': 'd1e368a7d2870eb6fbf6e0d350568a2d',\n",
       "  'v': '17243953',\n",
       "  'label_u': {'The', 'artwork', 'book', 'in', 'this'},\n",
       "  'label_v': {'Caldecott', 'Honoree', 'NEW', 'YORK', 'and'}},\n",
       " {'b': 270138387.0,\n",
       "  'e': 270145587.0,\n",
       "  'u': 'd1e368a7d2870eb6fbf6e0d350568a2d',\n",
       "  'v': '20708745',\n",
       "  'label_u': {'The', 'book', 'in', 'poetry', 'this'},\n",
       "  'label_v': {'David', \"Elliott's\", 'takes', 'verse', 'witty'}},\n",
       " {'b': 264775880.0,\n",
       "  'e': 264783080.0,\n",
       "  'u': 'd1e368a7d2870eb6fbf6e0d350568a2d',\n",
       "  'v': '18166919',\n",
       "  'label_u': {'A', 'collection', 'of', 'short', 'very'},\n",
       "  'label_v': {'Celebrated', 'Paul', 'and', 'anthologist', 'poet'}},\n",
       " {'b': 254826355.0,\n",
       "  'e': 254833555.0,\n",
       "  'u': 'd1e368a7d2870eb6fbf6e0d350568a2d',\n",
       "  'v': '1577264',\n",
       "  'label_u': {'Fun', 'nursery', 'of', 'rhymes', 'set'},\n",
       "  'label_v': {'Goose', 'Monster', 'Old', 'has', 'turned'}},\n",
       " {'b': 247852351.0,\n",
       "  'e': 247859551.0,\n",
       "  'u': 'd1e368a7d2870eb6fbf6e0d350568a2d',\n",
       "  'v': '20143862',\n",
       "  'label_u': {'Very', 'book', 'colorful', 'lists', 'that'},\n",
       "  'label_v': {'Dive', 'deep', 'down', 'into', 'the'}},\n",
       " {'b': 245503996.0,\n",
       "  'e': 245511196.0,\n",
       "  'u': 'd1e368a7d2870eb6fbf6e0d350568a2d',\n",
       "  'v': '7014471',\n",
       "  'label_u': {'This', 'be', 'book', 'fun', 'might'},\n",
       "  'label_v': {'\"A', 'frogs', 'gathering', 'high-jumping', 'of'}},\n",
       " {'b': 191146133.0,\n",
       "  'e': 191153333.0,\n",
       "  'u': 'd1e368a7d2870eb6fbf6e0d350568a2d',\n",
       "  'v': '14361553',\n",
       "  'label_u': {'Fantastic!', 'These', 'animal', 'are', 'epitaphs'},\n",
       "  'label_v': {'Irony', 'and', 'permeate', 'this', 'wit'}},\n",
       " {'b': 181815364.0,\n",
       "  'e': 181822564.0,\n",
       "  'u': 'd1e368a7d2870eb6fbf6e0d350568a2d',\n",
       "  'v': '397743',\n",
       "  'label_u': {'This', 'better', 'is', 'one', 'than'},\n",
       "  'label_v': {'Start', 'at', 'of', 'the', 'tips'}},\n",
       " {'b': 172759516.0,\n",
       "  'e': 172766716.0,\n",
       "  'u': 'd1e368a7d2870eb6fbf6e0d350568a2d',\n",
       "  'v': '10339809',\n",
       "  'label_u': {'What', 'a', 'combination!', 'perfect'},\n",
       "  'label_v': {'If', 'clockwork', 'combined', 'gears,', 'you'}},\n",
       " {'b': 128237279.0,\n",
       "  'e': 128244479.0,\n",
       "  'u': 'd1e368a7d2870eb6fbf6e0d350568a2d',\n",
       "  'v': '3873511',\n",
       "  'label_u': {'It', 'bad,', 'just', 'not', \"wasn't\"},\n",
       "  'label_v': {'Before', 'Billie', 'legend', 'of', 'the'}},\n",
       " {'b': 85577963.0,\n",
       "  'e': 85585163.0,\n",
       "  'u': 'a4f283aafe153b1997dc6a9fcd2e8e58',\n",
       "  'v': '1925429',\n",
       "  'label_u': {'One', 'favorite', 'my', 'of', \"students'\"},\n",
       "  'label_v': {'Everything', \"What's\", 'YUMMY?', 'from', 'the'}},\n",
       " {'b': 85571659.0,\n",
       "  'e': 85578859.0,\n",
       "  'u': 'a4f283aafe153b1997dc6a9fcd2e8e58',\n",
       "  'v': '160192',\n",
       "  'label_u': {'A', 'concept', 'fun', 'of', 'poetry'},\n",
       "  'label_v': {'From', 'Medal-winning', 'Newbery', 'author', 'the'}},\n",
       " {'b': 61709204.0,\n",
       "  'e': 61716404.0,\n",
       "  'u': 'a4f283aafe153b1997dc6a9fcd2e8e58',\n",
       "  'v': '397637',\n",
       "  'label_u': {'Yet', 'another', 'book', 'from', 'our'},\n",
       "  'label_v': {'Blast', 'Douglas', \"Florian's\", 'off', 'with'}},\n",
       " {'b': 250685624.0,\n",
       "  'e': 250692824.0,\n",
       "  'u': '753746d5d26fea030b33299b34ea1299',\n",
       "  'v': '27041',\n",
       "  'label_u': {'This', 'book', 'focuses', 'on', 'the'},\n",
       "  'label_v': {'Fans', 'For', 'best-selling', 'of', 'the'}},\n",
       " {'b': 125755327.0,\n",
       "  'e': 125762527.0,\n",
       "  'u': '753746d5d26fea030b33299b34ea1299',\n",
       "  'v': '740721',\n",
       "  'label_u': {'A', 'and', 'premise,', 'really', 'sweet'},\n",
       "  'label_v': {'Twinkle,', 'beloved', 'little', 'star...\"A', 'twinkle,'}},\n",
       " {'b': 123789989.0,\n",
       "  'e': 123797189.0,\n",
       "  'u': '753746d5d26fea030b33299b34ea1299',\n",
       "  'v': '7055794',\n",
       "  'label_u': {\"Schmid's\", 'book,', 'illustrations', 'make', 'this'},\n",
       "  'label_v': {'From', 'New', 'York', 'beloved', 'the'}},\n",
       " {'b': 208374298.0,\n",
       "  'e': 208381498.0,\n",
       "  'u': 'bda576847fc8af9494d83d73bb8fea96',\n",
       "  'v': '725805',\n",
       "  'label_u': {'I', 'ever', 'have', 'probably', \"wouldn't\"},\n",
       "  'label_v': {'From', 'first', \"spring's\", 'thaw', 'to'}},\n",
       " {'b': 207328304.0,\n",
       "  'e': 207335504.0,\n",
       "  'u': 'bda576847fc8af9494d83d73bb8fea96',\n",
       "  'v': '11085473',\n",
       "  'label_u': {'Mambo', 'Moon', 'Under', 'allows', 'the'},\n",
       "  'label_v': {'Marisol', 'On', 'helps', 'nights', 'summer'}},\n",
       " {'b': 239648528.0,\n",
       "  'e': 239655728.0,\n",
       "  'u': 'db5bc9792b1f5b25e8d9d4799e215446',\n",
       "  'v': '1420',\n",
       "  'label_u': {\"It's\", 'What', 'can', 'say?', 'you'},\n",
       "  'label_v': {'One', 'greatest', 'of', 'plays', 'the'}},\n",
       " {'b': 32262173.0,\n",
       "  'e': 32269373.0,\n",
       "  'u': 'db5bc9792b1f5b25e8d9d4799e215446',\n",
       "  'v': '72910',\n",
       "  'label_u': {'I', 'book', 'has', 'think', 'this'},\n",
       "  'label_v': {'More', 'Persian', 'any', 'other', 'than'}},\n",
       " {'b': 331868704.0,\n",
       "  'e': 331875904.0,\n",
       "  'u': '0aa3757d0211254712a16bd8289b461d',\n",
       "  'v': '1948294',\n",
       "  'label_u': {'Beastly', 'Boys', 'Buku', 'Ghastly', 'and'},\n",
       "  'label_v': {''}},\n",
       " {'b': 329754101.0,\n",
       "  'e': 329761301.0,\n",
       "  'u': '0aa3757d0211254712a16bd8289b461d',\n",
       "  'v': '25325367',\n",
       "  'label_u': {'Api', 'Bekerja', 'Melihat', 'sebagai', 'sebuah'},\n",
       "  'label_v': {'Aku', 'antara', 'benci', 'berada', 'di'}},\n",
       " {'b': 326812560.0,\n",
       "  'e': 326819760.0,\n",
       "  'u': '0aa3757d0211254712a16bd8289b461d',\n",
       "  'v': '2547',\n",
       "  'label_u': {'Prophet', 'The', 'is', 'of', 'one'},\n",
       "  'label_v': {\"Gibran's\", 'Kahlil', 'Prophet,', 'The', 'masterpiece,'}}]"
      ]
     },
     "execution_count": 110,
     "metadata": {},
     "output_type": "execute_result"
    }
   ],
   "source": [
    "# POUR LUNDI 6 AVRIL\n",
    "# Le cas avec deux liens entre en boucle infinie (éclate la stack)\n",
    "# Piste : il considère des candidats qui ne mènent à rien mais ne les exclut jamais\n",
    "# Piste 2 : Bug dans interior, on ne peut pas avoir des stars sans sat.\n",
    "s.E"
   ]
  },
  {
   "cell_type": "code",
   "execution_count": 111,
   "metadata": {},
   "outputs": [],
   "source": [
    "I = set()\n",
    "for l in s.E:\n",
    "    I = I.union(l[\"label_u\"])\n",
    "    I = I.union(l[\"label_v\"])\n",
    "s.I = I"
   ]
  },
  {
   "cell_type": "code",
   "execution_count": 112,
   "metadata": {},
   "outputs": [
    {
     "data": {
      "text/plain": [
       "607"
      ]
     },
     "execution_count": 112,
     "metadata": {},
     "output_type": "execute_result"
    }
   ],
   "source": [
    "len(s.I)"
   ]
  },
  {
   "cell_type": "code",
   "execution_count": 113,
   "metadata": {},
   "outputs": [
    {
     "name": "stdout",
     "output_type": "stream",
     "text": [
      "Done X1,X2\n",
      "0.011536584002897143\n"
     ]
    }
   ],
   "source": [
    "import time\n",
    "start = time.perf_counter()\n",
    "X1 = [(x[\"u\"], (x[\"b\"], x[\"e\"])) for x in s.E ]\n",
    "X2 = [(x[\"v\"], (x[\"b\"], x[\"e\"])) for x in s.E ]\n",
    "print(\"Done X1,X2\")\n",
    "res_int = s.interior(X1, X2)\n",
    "end = time.perf_counter()\n",
    "print(end - start)"
   ]
  },
  {
   "cell_type": "code",
   "execution_count": 114,
   "metadata": {},
   "outputs": [
    {
     "name": "stdout",
     "output_type": "stream",
     "text": [
      "5 11\n"
     ]
    },
    {
     "data": {
      "text/plain": [
       "<matplotlib.legend.Legend at 0x7f2410acf390>"
      ]
     },
     "execution_count": 114,
     "metadata": {},
     "output_type": "execute_result"
    },
    {
     "name": "stderr",
     "output_type": "stream",
     "text": [
      "DEBUG:matplotlib.axes._base:update_title_pos\n",
      "DEBUG:matplotlib.axes._base:update_title_pos\n",
      "DEBUG:matplotlib.axes._base:update_title_pos\n",
      "DEBUG:matplotlib.axes._base:update_title_pos\n",
      "DEBUG:matplotlib.axes._base:update_title_pos\n"
     ]
    },
    {
     "data": {
      "image/png": "[encoded data removed]",
      "text/plain": [
       "<Figure size 432x288 with 1 Axes>"
      ]
     },
     "metadata": {
      "needs_background": "light"
     },
     "output_type": "display_data"
    }
   ],
   "source": [
    "print(len(res_int[0]), len(res_int[1]))\n",
    "c = Utils.ccdf([ i.e - i.b for i in res_int[0].values() ])\n",
    "c_2 = Utils.ccdf([ i.e - i.b for i in res_int[1].values() ])\n",
    "\n",
    "plt.plot(c[0], c[1], label=\"Star\")\n",
    "plt.plot(c_2[0], c_2[1], label=\"Sat\")\n",
    "plt.legend()"
   ]
  },
  {
   "cell_type": "code",
   "execution_count": 115,
   "metadata": {},
   "outputs": [
    {
     "ename": "RecursionError",
     "evalue": "maximum recursion depth exceeded while getting the str of an object",
     "output_type": "error",
     "traceback": [
      "\u001b[0;31m---------------------------------------------------------------------------\u001b[0m",
      "\u001b[0;31mRecursionError\u001b[0m                            Traceback (most recent call last)",
      "\u001b[0;32m<ipython-input-115-4e53f4e128cf>\u001b[0m in \u001b[0;36m<module>\u001b[0;34m()\u001b[0m\n\u001b[1;32m      1\u001b[0m \u001b[0mstart\u001b[0m \u001b[0;34m=\u001b[0m \u001b[0mtime\u001b[0m\u001b[0;34m.\u001b[0m\u001b[0mperf_counter\u001b[0m\u001b[0;34m(\u001b[0m\u001b[0;34m)\u001b[0m\u001b[0;34m\u001b[0m\u001b[0;34m\u001b[0m\u001b[0m\n\u001b[1;32m      2\u001b[0m \u001b[0;31m# r = s.bipatterns(s.V, s.V)\u001b[0m\u001b[0;34m\u001b[0m\u001b[0;34m\u001b[0m\u001b[0;34m\u001b[0m\u001b[0m\n\u001b[0;32m----> 3\u001b[0;31m \u001b[0mr\u001b[0m \u001b[0;34m=\u001b[0m \u001b[0ms\u001b[0m\u001b[0;34m.\u001b[0m\u001b[0mbipatterns\u001b[0m\u001b[0;34m(\u001b[0m\u001b[0mX1\u001b[0m\u001b[0;34m,\u001b[0m \u001b[0mX2\u001b[0m\u001b[0;34m)\u001b[0m\u001b[0;34m\u001b[0m\u001b[0;34m\u001b[0m\u001b[0m\n\u001b[0m\u001b[1;32m      4\u001b[0m \u001b[0mend\u001b[0m \u001b[0;34m=\u001b[0m \u001b[0mtime\u001b[0m\u001b[0;34m.\u001b[0m\u001b[0mperf_counter\u001b[0m\u001b[0;34m(\u001b[0m\u001b[0;34m)\u001b[0m\u001b[0;34m\u001b[0m\u001b[0;34m\u001b[0m\u001b[0m\n\u001b[1;32m      5\u001b[0m \u001b[0mprint\u001b[0m\u001b[0;34m(\u001b[0m\u001b[0mend\u001b[0m \u001b[0;34m-\u001b[0m \u001b[0mstart\u001b[0m\u001b[0;34m)\u001b[0m\u001b[0;34m\u001b[0m\u001b[0;34m\u001b[0m\u001b[0m\n",
      "\u001b[0;32m~/Documents/pattern-mining/lib/Stream.py\u001b[0m in \u001b[0;36mbipatterns\u001b[0;34m(self, _top, _bot)\u001b[0m\n\u001b[1;32m    245\u001b[0m         pattern = Pattern(self.intent([self.label(x) for x in S[0].union(S[1]).values()]),\n\u001b[1;32m    246\u001b[0m                           S)\n\u001b[0;32m--> 247\u001b[0;31m         \u001b[0mself\u001b[0m\u001b[0;34m.\u001b[0m\u001b[0menum\u001b[0m\u001b[0;34m(\u001b[0m\u001b[0mpattern\u001b[0m\u001b[0;34m,\u001b[0m \u001b[0mset\u001b[0m\u001b[0;34m(\u001b[0m\u001b[0;34m)\u001b[0m\u001b[0;34m)\u001b[0m\u001b[0;34m\u001b[0m\u001b[0;34m\u001b[0m\u001b[0m\n\u001b[0m\u001b[1;32m    248\u001b[0m \u001b[0;34m\u001b[0m\u001b[0m\n\u001b[1;32m    249\u001b[0m     \u001b[0;32mdef\u001b[0m \u001b[0menum\u001b[0m\u001b[0;34m(\u001b[0m\u001b[0mself\u001b[0m\u001b[0;34m,\u001b[0m \u001b[0mpattern\u001b[0m\u001b[0;34m,\u001b[0m \u001b[0mEL\u001b[0m\u001b[0;34m=\u001b[0m\u001b[0mset\u001b[0m\u001b[0;34m(\u001b[0m\u001b[0;34m)\u001b[0m\u001b[0;34m,\u001b[0m \u001b[0mdepth\u001b[0m\u001b[0;34m=\u001b[0m\u001b[0;36m0\u001b[0m\u001b[0;34m)\u001b[0m\u001b[0;34m:\u001b[0m\u001b[0;34m\u001b[0m\u001b[0;34m\u001b[0m\u001b[0m\n",
      "\u001b[0;32m~/Documents/pattern-mining/lib/Stream.py\u001b[0m in \u001b[0;36menum\u001b[0;34m(self, pattern, EL, depth)\u001b[0m\n\u001b[1;32m    302\u001b[0m                     \u001b[0mpattern_x\u001b[0m \u001b[0;34m=\u001b[0m \u001b[0mPattern\u001b[0m\u001b[0;34m(\u001b[0m\u001b[0mq_x\u001b[0m\u001b[0;34m,\u001b[0m \u001b[0mS_x\u001b[0m\u001b[0;34m)\u001b[0m\u001b[0;34m\u001b[0m\u001b[0;34m\u001b[0m\u001b[0m\n\u001b[1;32m    303\u001b[0m                     \u001b[0;31m# print(f\"{depth} Calling enum with {pattern_x.lang} ({S_x})\")\u001b[0m\u001b[0;34m\u001b[0m\u001b[0;34m\u001b[0m\u001b[0;34m\u001b[0m\u001b[0m\n\u001b[0;32m--> 304\u001b[0;31m                     \u001b[0mself\u001b[0m\u001b[0;34m.\u001b[0m\u001b[0menum\u001b[0m\u001b[0;34m(\u001b[0m\u001b[0mpattern_x\u001b[0m\u001b[0;34m,\u001b[0m \u001b[0mself\u001b[0m\u001b[0;34m.\u001b[0m\u001b[0mEL\u001b[0m\u001b[0;34m,\u001b[0m \u001b[0mdepth\u001b[0m\u001b[0;34m+\u001b[0m\u001b[0;36m1\u001b[0m\u001b[0;34m)\u001b[0m\u001b[0;34m\u001b[0m\u001b[0;34m\u001b[0m\u001b[0m\n\u001b[0m\u001b[1;32m    305\u001b[0m \u001b[0;34m\u001b[0m\u001b[0m\n\u001b[1;32m    306\u001b[0m                     \u001b[0;31m# We reached a leaf of the recursion tree, add item to exclusion list\u001b[0m\u001b[0;34m\u001b[0m\u001b[0;34m\u001b[0m\u001b[0;34m\u001b[0m\u001b[0m\n",
      "... last 1 frames repeated, from the frame below ...\n",
      "\u001b[0;32m~/Documents/pattern-mining/lib/Stream.py\u001b[0m in \u001b[0;36menum\u001b[0;34m(self, pattern, EL, depth)\u001b[0m\n\u001b[1;32m    302\u001b[0m                     \u001b[0mpattern_x\u001b[0m \u001b[0;34m=\u001b[0m \u001b[0mPattern\u001b[0m\u001b[0;34m(\u001b[0m\u001b[0mq_x\u001b[0m\u001b[0;34m,\u001b[0m \u001b[0mS_x\u001b[0m\u001b[0;34m)\u001b[0m\u001b[0;34m\u001b[0m\u001b[0;34m\u001b[0m\u001b[0m\n\u001b[1;32m    303\u001b[0m                     \u001b[0;31m# print(f\"{depth} Calling enum with {pattern_x.lang} ({S_x})\")\u001b[0m\u001b[0;34m\u001b[0m\u001b[0;34m\u001b[0m\u001b[0;34m\u001b[0m\u001b[0m\n\u001b[0;32m--> 304\u001b[0;31m                     \u001b[0mself\u001b[0m\u001b[0;34m.\u001b[0m\u001b[0menum\u001b[0m\u001b[0;34m(\u001b[0m\u001b[0mpattern_x\u001b[0m\u001b[0;34m,\u001b[0m \u001b[0mself\u001b[0m\u001b[0;34m.\u001b[0m\u001b[0mEL\u001b[0m\u001b[0;34m,\u001b[0m \u001b[0mdepth\u001b[0m\u001b[0;34m+\u001b[0m\u001b[0;36m1\u001b[0m\u001b[0;34m)\u001b[0m\u001b[0;34m\u001b[0m\u001b[0;34m\u001b[0m\u001b[0m\n\u001b[0m\u001b[1;32m    305\u001b[0m \u001b[0;34m\u001b[0m\u001b[0m\n\u001b[1;32m    306\u001b[0m                     \u001b[0;31m# We reached a leaf of the recursion tree, add item to exclusion list\u001b[0m\u001b[0;34m\u001b[0m\u001b[0;34m\u001b[0m\u001b[0;34m\u001b[0m\u001b[0m\n",
      "\u001b[0;31mRecursionError\u001b[0m: maximum recursion depth exceeded while getting the str of an object"
     ]
    }
   ],
   "source": [
    "start = time.perf_counter()\n",
    "# r = s.bipatterns(s.V, s.V)\n",
    "r = s.bipatterns(X1, X2)\n",
    "end = time.perf_counter()\n",
    "print(end - start)"
   ]
  },
  {
   "cell_type": "code",
   "execution_count": null,
   "metadata": {},
   "outputs": [],
   "source": [
    "s.fp_close()"
   ]
  },
  {
   "cell_type": "code",
   "execution_count": null,
   "metadata": {},
   "outputs": [],
   "source": [
    "print(s.label((\"fe488adb521619bebb35028a61c5cdde\", 2, 4)))"
   ]
  },
  {
   "cell_type": "code",
   "execution_count": 37,
   "metadata": {},
   "outputs": [
    {
     "data": {
      "text/plain": [
       "['fe488adb521619bebb35028a61c5cdde',\n",
       " 'b41fd369eec21e02a9ad56c8608c3823',\n",
       " 'edb780cdc27b4fe316fbc72c1588ed09',\n",
       " '5153111a7b8025c21253deb34c995e02',\n",
       " 'c12609bcc482938019be17a15ee4d171',\n",
       " '5290036',\n",
       " 'bbb6abbad493a606c959f445f2cc793f',\n",
       " '38b42c397fd456385bc79356a0feacee',\n",
       " '848098',\n",
       " '5956803']"
      ]
     },
     "execution_count": 37,
     "metadata": {},
     "output_type": "execute_result"
    }
   ],
   "source": [
    "list(s.V)[0:10]"
   ]
  },
  {
   "cell_type": "code",
   "execution_count": 10,
   "metadata": {},
   "outputs": [],
   "source": [
    "vectorizer = TfidfVectorizer(use_idf=True)\n",
    "res = vectorizer.fit_transform(reviews)"
   ]
  },
  {
   "cell_type": "markdown",
   "metadata": {},
   "source": [
    "Total number of concepts (i.e. distinct words in reviews)"
   ]
  },
  {
   "cell_type": "code",
   "execution_count": 11,
   "metadata": {},
   "outputs": [
    {
     "name": "stdout",
     "output_type": "stream",
     "text": [
      "47400 users, 36412 books, 154555 reviews, 403416 concepts (i.e. distinct words in reviews)\n"
     ]
    }
   ],
   "source": [
    "n_users, n_books, n_reviews, n_concepts = len(users), len(books), len(reviews), len(vectorizer.get_feature_names())\n",
    "print(f\"{n_users} users, {n_books} books, {n_reviews} reviews, {n_concepts} concepts (i.e. distinct words in reviews)\")"
   ]
  },
  {
   "cell_type": "code",
   "execution_count": 12,
   "metadata": {},
   "outputs": [
    {
     "data": {
      "text/plain": [
       "9292775"
      ]
     },
     "execution_count": 12,
     "metadata": {},
     "output_type": "execute_result"
    }
   ],
   "source": [
    "tfidf_values = [round(i, 3) for i in res.data]\n",
    "len(tfidf_values)"
   ]
  },
  {
   "cell_type": "code",
   "execution_count": 13,
   "metadata": {},
   "outputs": [
    {
     "data": {
      "text/plain": [
       "0.09749984294250118"
      ]
     },
     "execution_count": 13,
     "metadata": {},
     "output_type": "execute_result"
    }
   ],
   "source": [
    "ccdf_values = Utils.ccdf(tfidf_values)\n",
    "import numpy as np\n",
    "np.mean(tfidf_values)"
   ]
  },
  {
   "cell_type": "code",
   "execution_count": 14,
   "metadata": {},
   "outputs": [
    {
     "data": {
      "text/plain": [
       "[<matplotlib.lines.Line2D at 0x7f38e5be1a10>]"
      ]
     },
     "execution_count": 14,
     "metadata": {},
     "output_type": "execute_result"
    },
    {
     "data": {
      "image/png": "[encoded data removed]",
      "text/plain": [
       "<Figure size 432x288 with 1 Axes>"
      ]
     },
     "metadata": {
      "needs_background": "light"
     },
     "output_type": "display_data"
    }
   ],
   "source": [
    "plt.plot(ccdf_values[0], ccdf_values[1])"
   ]
  },
  {
   "cell_type": "code",
   "execution_count": 15,
   "metadata": {},
   "outputs": [],
   "source": [
    "def parse_review(text, threshold=0.0):\n",
    "    print(vectorizer.get_feature_names()[143450:143550])\n",
    "\n",
    "import pandas as pd"
   ]
  },
  {
   "cell_type": "code",
   "execution_count": 59,
   "metadata": {},
   "outputs": [
    {
     "name": "stdout",
     "output_type": "stream",
     "text": [
      "0\n"
     ]
    },
    {
     "ename": "AttributeError",
     "evalue": "'NoneType' object has no attribute 'toarray'",
     "output_type": "error",
     "traceback": [
      "\u001b[0;31m---------------------------------------------------------------------------\u001b[0m",
      "\u001b[0;31mAttributeError\u001b[0m                            Traceback (most recent call last)",
      "\u001b[0;32m<ipython-input-59-853ffd79e611>\u001b[0m in \u001b[0;36m<module>\u001b[0;34m\u001b[0m\n\u001b[1;32m      9\u001b[0m         \u001b[0mprint\u001b[0m\u001b[0;34m(\u001b[0m\u001b[0mi\u001b[0m\u001b[0;34m)\u001b[0m\u001b[0;34m\u001b[0m\u001b[0;34m\u001b[0m\u001b[0m\n\u001b[1;32m     10\u001b[0m \u001b[0;34m\u001b[0m\u001b[0m\n\u001b[0;32m---> 11\u001b[0;31m     \u001b[0mtfidf_scores\u001b[0m \u001b[0;34m=\u001b[0m \u001b[0mr\u001b[0m\u001b[0;34m.\u001b[0m\u001b[0meliminate_zeros\u001b[0m\u001b[0;34m(\u001b[0m\u001b[0;34m)\u001b[0m\u001b[0;34m.\u001b[0m\u001b[0mtoarray\u001b[0m\u001b[0;34m(\u001b[0m\u001b[0;34m)\u001b[0m\u001b[0;34m[\u001b[0m\u001b[0;36m0\u001b[0m\u001b[0;34m]\u001b[0m\u001b[0;34m\u001b[0m\u001b[0;34m\u001b[0m\u001b[0m\n\u001b[0m\u001b[1;32m     12\u001b[0m     \u001b[0mresult\u001b[0m \u001b[0;34m=\u001b[0m \u001b[0mfilter_tfidf_scores\u001b[0m\u001b[0;34m(\u001b[0m\u001b[0mtfidf_scores\u001b[0m\u001b[0;34m)\u001b[0m\u001b[0;34m\u001b[0m\u001b[0;34m\u001b[0m\u001b[0m\n\u001b[1;32m     13\u001b[0m     \u001b[0mwords_per_review\u001b[0m\u001b[0;34m.\u001b[0m\u001b[0mappend\u001b[0m\u001b[0;34m(\u001b[0m\u001b[0mlen\u001b[0m\u001b[0;34m(\u001b[0m\u001b[0mresult\u001b[0m\u001b[0;34m)\u001b[0m\u001b[0;34m)\u001b[0m\u001b[0;34m\u001b[0m\u001b[0;34m\u001b[0m\u001b[0m\n",
      "\u001b[0;31mAttributeError\u001b[0m: 'NoneType' object has no attribute 'toarray'"
     ]
    }
   ],
   "source": [
    "# vectorizer.get_feature_names()[i], for a given i, will output the associated word\n",
    "# However, it's slow, and we don't really need it so far, so we keep to integers indices\n",
    "filter_tfidf_scores = lambda r: [ (i, v) for i, v in enumerate(r) if v > 0.1 ]\n",
    "filter_tfidf_scores = lambda r: r.eliminate_zeros() # [ (i, v) for i, v in enumerate(r) if v > 0.1 ]\n",
    "\n",
    "words_per_review = []\n",
    "for i, r in enumerate(res):\n",
    "    if i % 10000 == 0:\n",
    "        print(i)\n",
    "    \n",
    "    tfidf_scores = r.eliminate_zeros().toarray()[0]\n",
    "    result = filter_tfidf_scores(tfidf_scores)\n",
    "    words_per_review.append(len(result))"
   ]
  },
  {
   "cell_type": "code",
   "execution_count": 1,
   "metadata": {},
   "outputs": [
    {
     "ename": "NameError",
     "evalue": "name 'words_per_review' is not defined",
     "output_type": "error",
     "traceback": [
      "\u001b[0;31m---------------------------------------------------------------------------\u001b[0m",
      "\u001b[0;31mNameError\u001b[0m                                 Traceback (most recent call last)",
      "\u001b[0;32m<ipython-input-1-74c13bffdd2b>\u001b[0m in \u001b[0;36m<module>\u001b[0;34m\u001b[0m\n\u001b[0;32m----> 1\u001b[0;31m \u001b[0mwords_per_review\u001b[0m\u001b[0;34m[\u001b[0m\u001b[0;36m0\u001b[0m\u001b[0;34m]\u001b[0m\u001b[0;34m\u001b[0m\u001b[0;34m\u001b[0m\u001b[0m\n\u001b[0m",
      "\u001b[0;31mNameError\u001b[0m: name 'words_per_review' is not defined"
     ]
    }
   ],
   "source": [
    "words_per_review[0]"
   ]
  },
  {
   "cell_type": "code",
   "execution_count": null,
   "metadata": {},
   "outputs": [],
   "source": []
  }
 ],
 "metadata": {
  "kernelspec": {
   "display_name": "Python 3",
   "language": "python",
   "name": "python3"
  },
  "language_info": {
   "codemirror_mode": {
    "name": "ipython",
    "version": 3
   },
   "file_extension": ".py",
   "mimetype": "text/x-python",
   "name": "python",
   "nbconvert_exporter": "python",
   "pygments_lexer": "ipython3",
   "version": "3.6.8"
  }
 },
 "nbformat": 4,
 "nbformat_minor": 4
}
