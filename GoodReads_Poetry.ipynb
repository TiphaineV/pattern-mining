{
 "cells": [
  {
   "cell_type": "code",
   "execution_count": 98,
   "metadata": {},
   "outputs": [
    {
     "name": "stdout",
     "output_type": "stream",
     "text": [
      "The autoreload extension is already loaded. To reload it, use:\n",
      "  %reload_ext autoreload\n"
     ]
    }
   ],
   "source": [
    "%load_ext autoreload\n",
    "%autoreload 2"
   ]
  },
  {
   "cell_type": "markdown",
   "metadata": {},
   "source": [
    "TODO : \n",
    "\n",
    "- Corriger bug qui fait que c'est StarSat dans tout le stream et pas seulement dans le sous-stream (uniquement pour BHA-core, graphes ?)\n",
    "- Retirer les valeurs en dur pour b,e et le langage\n",
    "- Lancer :D\n",
    "- Installer jupyter lab sur tiphaineviard.com ?\n",
    "- Avoir un moyen de dessiner les interieurs etc. ?"
   ]
  },
  {
   "cell_type": "markdown",
   "metadata": {},
   "source": [
    "# GoodReads Poetry dataset\n",
    "\n",
    "The full dataset (including other genres) is available at: https://sites.google.com/eng.ucsd.edu/ucsdbookgraph/home. We focus here on the _Poetry_ dataset for tractability, as it is the one with the least number of books and reviews.\n",
    "\n",
    "The files in the `./data/goodreads/` directory are:\n",
    "\n",
    "- `goodreads_books_poetry.json` : contains information about the books (i.e. nodes)\n",
    "- `reviews.json` : contains reviews of books by users, with the associated timestamp and ratings\n",
    "\n",
    "Note that the number of reviews is significantly lower than the number of interactions; indeed, \"interacting\" on goodreads can be \"shelving\", posting a review, a rating, etc."
   ]
  },
  {
   "cell_type": "code",
   "execution_count": 99,
   "metadata": {},
   "outputs": [],
   "source": [
    "import ujson as json\n",
    "import math\n",
    "from sklearn.feature_extraction.text import TfidfVectorizer\n",
    "import matplotlib.pyplot as plt\n",
    "\n",
    "from lib.Stream import Stream, StreamStarSat\n",
    "from datetime import datetime\n",
    "from lib.Utils import Utils\n",
    "\n",
    "# nltk.download(\"punkt\")\n",
    "\n",
    "DELTA = 3600"
   ]
  },
  {
   "cell_type": "markdown",
   "metadata": {},
   "source": [
    "We isolate relevant words by TF-IDF (Term Frequency - Inverse Document Frequency) score. For a term i in a document d within corpus D, the the TF-IDF is:\n",
    "$$\n",
    "    TFIDF_D(i,d) = tf_{i,d} \\cdot \\log\\left(\\frac{|D|}{|\\{d \\in D : i\\in d\\}|}\\right)\n",
    "$$"
   ]
  },
  {
   "cell_type": "code",
   "execution_count": 100,
   "metadata": {},
   "outputs": [],
   "source": [
    "def tf_idf(term, document, corpus):\n",
    "    # TF\n",
    "    count = 0\n",
    "    for i in document:\n",
    "        if i == term:\n",
    "            count += 1\n",
    "    frequency = count / len(document)\n",
    "    # IDF\n",
    "    df = 0\n",
    "    for d in corpus:\n",
    "        if term in set(d):\n",
    "            df += 1\n",
    "    return frequency * math.log10(len(corpus) / df)"
   ]
  },
  {
   "cell_type": "markdown",
   "metadata": {},
   "source": [
    "## Prepare books information"
   ]
  },
  {
   "cell_type": "code",
   "execution_count": 101,
   "metadata": {},
   "outputs": [
    {
     "data": {
      "text/plain": [
       "['Number', '30', 'in', 'a', 'series']"
      ]
     },
     "execution_count": 101,
     "metadata": {},
     "output_type": "execute_result"
    }
   ],
   "source": [
    "books_file = open(\"data/goodreads/goodreads_books_poetry.json\")\n",
    "books = {}\n",
    "has_reviews = 0\n",
    "\n",
    "for (i, line) in enumerate(books_file):\n",
    "    data = json.loads(line)\n",
    "    books[data[\"book_id\"]] = data[\"description\"].split(\" \")[0:5]\n",
    "books[\"16037549\"]"
   ]
  },
  {
   "cell_type": "markdown",
   "metadata": {},
   "source": [
    "## Prepare reviews information"
   ]
  },
  {
   "cell_type": "code",
   "execution_count": 140,
   "metadata": {},
   "outputs": [],
   "source": [
    "reviews_file = open(\"data/goodreads/goodreads_reviews_poetry.json\")\n",
    "reviews = []\n",
    "users_ids = set()\n",
    "books_ids = set()\n",
    "labels_users = []\n",
    "labels_books = []\n",
    "ratings = {} # sparse matrix ?\n",
    "links = []\n",
    "min_date_added = None\n",
    "\n",
    "for (i,line) in enumerate(reviews_file):\n",
    "    data = json.loads(line)\n",
    "    \n",
    "    # Transform date to timestamp\n",
    "    date_added = datetime.strptime(data[\"date_added\"], \"%a %b %d %H:%M:%S %z %Y\")\n",
    "    date_added = date_added.timestamp()\n",
    "    \n",
    "    if min_date_added is None or date_added < min_date_added:\n",
    "        min_date_added = date_added\n",
    "    \n",
    "    users_ids.add(data[\"user_id\"])\n",
    "    books_ids.add(data[\"book_id\"])\n",
    "    reviews.append(data[\"review_text\"])\n",
    "    \n",
    "    u = data[\"user_id\"]\n",
    "    v = data[\"book_id\"]\n",
    "\n",
    "    b = date_added - DELTA\n",
    "    e = date_added + DELTA\n",
    "    \n",
    "    # Pick first 5 words of review and description for each node -- FOR TESTS ONLY --\n",
    "    label_u = set(data[\"review_text\"].split(\" \")[0:5])\n",
    "    label_v = set(books[v])\n",
    "    labels_users.extend(label_u)\n",
    "    labels_books.extend(label_v)\n",
    "    \n",
    "    link = {\"b\": b, \"e\": e, \"u\": u, \"v\": v, \"label_u\": label_u, \"label_v\": label_v }\n",
    "    links.append(link)\n",
    "\n",
    "for i in range(0, len(links)):\n",
    "    links[i][\"b\"] -= min_date_added\n",
    "    links[i][\"e\"] -= min_date_added\n",
    "    "
   ]
  },
  {
   "cell_type": "code",
   "execution_count": 141,
   "metadata": {},
   "outputs": [
    {
     "data": {
      "text/plain": [
       "({'b': 189158344.0,\n",
       "  'e': 189165544.0,\n",
       "  'u': '3ca7375dba942a760e53b726c472a7dd',\n",
       "  'v': '402128',\n",
       "  'label_u': {'I', 'have', 'siblings', 'three', 'younger'},\n",
       "  'label_v': {\"Eliot's\", 'S.', 'T.', 'cat', 'playful'}},\n",
       " 98240,\n",
       " 35178)"
      ]
     },
     "execution_count": 141,
     "metadata": {},
     "output_type": "execute_result"
    }
   ],
   "source": [
    "links[0], len(set(labels_users)), len(set(labels_books))"
   ]
  },
  {
   "cell_type": "code",
   "execution_count": 204,
   "metadata": {},
   "outputs": [],
   "source": [
    "s = Stream(lang=set(labels_users + labels_books), _fp=open(\"results.txt\", \"w+\"))\n",
    "core_property = StreamStarSat(s, threshold=2)\n",
    "s.setCoreProperty(core_property)\n",
    "s.add_links(links[:1000])"
   ]
  },
  {
   "cell_type": "code",
   "execution_count": 205,
   "metadata": {},
   "outputs": [],
   "source": [
    "I = set()\n",
    "for l in s.E:\n",
    "    I = I.union(l[\"label_u\"])\n",
    "    I = I.union(l[\"label_v\"])\n",
    "s.I = I"
   ]
  },
  {
   "cell_type": "code",
   "execution_count": 206,
   "metadata": {},
   "outputs": [
    {
     "name": "stdout",
     "output_type": "stream",
     "text": [
      "Done X1,X2\n",
      "0.024276404990814626\n"
     ]
    }
   ],
   "source": [
    "import time\n",
    "start = time.perf_counter()\n",
    "X1 = [(x[\"u\"], (x[\"b\"], x[\"e\"])) for x in s.E ]\n",
    "X2 = [(x[\"v\"], (x[\"b\"], x[\"e\"])) for x in s.E ]\n",
    "print(\"Done X1,X2\")\n",
    "res_int = s.interior(X1, X2)\n",
    "end = time.perf_counter()\n",
    "print(end - start)"
   ]
  },
  {
   "cell_type": "code",
   "execution_count": 207,
   "metadata": {},
   "outputs": [
    {
     "name": "stdout",
     "output_type": "stream",
     "text": [
      "54 127\n"
     ]
    },
    {
     "data": {
      "text/plain": [
       "<matplotlib.legend.Legend at 0x7eff4138fac8>"
      ]
     },
     "execution_count": 207,
     "metadata": {},
     "output_type": "execute_result"
    },
    {
     "data": {
      "image/png": "[encoded data removed]",
      "text/plain": [
       "<Figure size 432x288 with 1 Axes>"
      ]
     },
     "metadata": {
      "needs_background": "light"
     },
     "output_type": "display_data"
    }
   ],
   "source": [
    "print(len(res_int[0]), len(res_int[1]))\n",
    "c = Utils.ccdf([ i[2]-i[1] for i in res_int[0] ])\n",
    "c_2 = Utils.ccdf([ i[2]-i[1] for i in res_int[1] ])\n",
    "\n",
    "plt.plot(c[0], c[1], label=\"Star\")\n",
    "plt.plot(c_2[0], c_2[1], label=\"Sat\")\n",
    "plt.legend()"
   ]
  },
  {
   "cell_type": "code",
   "execution_count": 208,
   "metadata": {},
   "outputs": [
    {
     "ename": "RecursionError",
     "evalue": "maximum recursion depth exceeded while getting the repr of an object",
     "output_type": "error",
     "traceback": [
      "\u001b[0;31m---------------------------------------------------------------------------\u001b[0m",
      "\u001b[0;31mRecursionError\u001b[0m                            Traceback (most recent call last)",
      "\u001b[0;32m<ipython-input-208-4e53f4e128cf>\u001b[0m in \u001b[0;36m<module>\u001b[0;34m()\u001b[0m\n\u001b[1;32m      1\u001b[0m \u001b[0mstart\u001b[0m \u001b[0;34m=\u001b[0m \u001b[0mtime\u001b[0m\u001b[0;34m.\u001b[0m\u001b[0mperf_counter\u001b[0m\u001b[0;34m(\u001b[0m\u001b[0;34m)\u001b[0m\u001b[0;34m\u001b[0m\u001b[0;34m\u001b[0m\u001b[0m\n\u001b[1;32m      2\u001b[0m \u001b[0;31m# r = s.bipatterns(s.V, s.V)\u001b[0m\u001b[0;34m\u001b[0m\u001b[0;34m\u001b[0m\u001b[0;34m\u001b[0m\u001b[0m\n\u001b[0;32m----> 3\u001b[0;31m \u001b[0mr\u001b[0m \u001b[0;34m=\u001b[0m \u001b[0ms\u001b[0m\u001b[0;34m.\u001b[0m\u001b[0mbipatterns\u001b[0m\u001b[0;34m(\u001b[0m\u001b[0mX1\u001b[0m\u001b[0;34m,\u001b[0m \u001b[0mX2\u001b[0m\u001b[0;34m)\u001b[0m\u001b[0;34m\u001b[0m\u001b[0;34m\u001b[0m\u001b[0m\n\u001b[0m\u001b[1;32m      4\u001b[0m \u001b[0mend\u001b[0m \u001b[0;34m=\u001b[0m \u001b[0mtime\u001b[0m\u001b[0;34m.\u001b[0m\u001b[0mperf_counter\u001b[0m\u001b[0;34m(\u001b[0m\u001b[0;34m)\u001b[0m\u001b[0;34m\u001b[0m\u001b[0;34m\u001b[0m\u001b[0m\n\u001b[1;32m      5\u001b[0m \u001b[0mprint\u001b[0m\u001b[0;34m(\u001b[0m\u001b[0mend\u001b[0m \u001b[0;34m-\u001b[0m \u001b[0mstart\u001b[0m\u001b[0;34m)\u001b[0m\u001b[0;34m\u001b[0m\u001b[0;34m\u001b[0m\u001b[0m\n",
      "\u001b[0;32m~/Documents/pattern-mining/lib/Stream.py\u001b[0m in \u001b[0;36mbipatterns\u001b[0;34m(self, _top, _bot)\u001b[0m\n\u001b[1;32m    284\u001b[0m         pattern = Pattern(self.intent([self.label(x) for x in S[0].union(S[1])]),\n\u001b[1;32m    285\u001b[0m                           S)\n\u001b[0;32m--> 286\u001b[0;31m         \u001b[0mself\u001b[0m\u001b[0;34m.\u001b[0m\u001b[0menum\u001b[0m\u001b[0;34m(\u001b[0m\u001b[0mpattern\u001b[0m\u001b[0;34m,\u001b[0m \u001b[0mset\u001b[0m\u001b[0;34m(\u001b[0m\u001b[0;34m)\u001b[0m\u001b[0;34m)\u001b[0m\u001b[0;34m\u001b[0m\u001b[0;34m\u001b[0m\u001b[0m\n\u001b[0m\u001b[1;32m    287\u001b[0m \u001b[0;34m\u001b[0m\u001b[0m\n\u001b[1;32m    288\u001b[0m     \u001b[0;32mdef\u001b[0m \u001b[0menum\u001b[0m\u001b[0;34m(\u001b[0m\u001b[0mself\u001b[0m\u001b[0;34m,\u001b[0m \u001b[0mpattern\u001b[0m\u001b[0;34m,\u001b[0m \u001b[0mEL\u001b[0m\u001b[0;34m=\u001b[0m\u001b[0mset\u001b[0m\u001b[0;34m(\u001b[0m\u001b[0;34m)\u001b[0m\u001b[0;34m,\u001b[0m \u001b[0mdepth\u001b[0m\u001b[0;34m=\u001b[0m\u001b[0;36m0\u001b[0m\u001b[0;34m)\u001b[0m\u001b[0;34m:\u001b[0m\u001b[0;34m\u001b[0m\u001b[0;34m\u001b[0m\u001b[0m\n",
      "\u001b[0;32m~/Documents/pattern-mining/lib/Stream.py\u001b[0m in \u001b[0;36menum\u001b[0;34m(self, pattern, EL, depth)\u001b[0m\n\u001b[1;32m    333\u001b[0m                     \u001b[0mpattern_x\u001b[0m \u001b[0;34m=\u001b[0m \u001b[0mPattern\u001b[0m\u001b[0;34m(\u001b[0m\u001b[0mq_x\u001b[0m\u001b[0;34m,\u001b[0m \u001b[0mS_x\u001b[0m\u001b[0;34m)\u001b[0m\u001b[0;34m\u001b[0m\u001b[0;34m\u001b[0m\u001b[0m\n\u001b[1;32m    334\u001b[0m                     \u001b[0;31m# print(f\"Calling enum with {pattern_x.lang} ({q_x})\")\u001b[0m\u001b[0;34m\u001b[0m\u001b[0;34m\u001b[0m\u001b[0;34m\u001b[0m\u001b[0m\n\u001b[0;32m--> 335\u001b[0;31m                     \u001b[0mself\u001b[0m\u001b[0;34m.\u001b[0m\u001b[0menum\u001b[0m\u001b[0;34m(\u001b[0m\u001b[0mpattern_x\u001b[0m\u001b[0;34m,\u001b[0m \u001b[0mEL\u001b[0m\u001b[0;34m,\u001b[0m \u001b[0mdepth\u001b[0m\u001b[0;34m+\u001b[0m\u001b[0;36m1\u001b[0m\u001b[0;34m)\u001b[0m\u001b[0;34m\u001b[0m\u001b[0;34m\u001b[0m\u001b[0m\n\u001b[0m\u001b[1;32m    336\u001b[0m \u001b[0;34m\u001b[0m\u001b[0m\n\u001b[1;32m    337\u001b[0m                     \u001b[0;31m# We reached a leaf of the recursion tree, add item to exclusion list\u001b[0m\u001b[0;34m\u001b[0m\u001b[0;34m\u001b[0m\u001b[0;34m\u001b[0m\u001b[0m\n",
      "... last 1 frames repeated, from the frame below ...\n",
      "\u001b[0;32m~/Documents/pattern-mining/lib/Stream.py\u001b[0m in \u001b[0;36menum\u001b[0;34m(self, pattern, EL, depth)\u001b[0m\n\u001b[1;32m    333\u001b[0m                     \u001b[0mpattern_x\u001b[0m \u001b[0;34m=\u001b[0m \u001b[0mPattern\u001b[0m\u001b[0;34m(\u001b[0m\u001b[0mq_x\u001b[0m\u001b[0;34m,\u001b[0m \u001b[0mS_x\u001b[0m\u001b[0;34m)\u001b[0m\u001b[0;34m\u001b[0m\u001b[0;34m\u001b[0m\u001b[0m\n\u001b[1;32m    334\u001b[0m                     \u001b[0;31m# print(f\"Calling enum with {pattern_x.lang} ({q_x})\")\u001b[0m\u001b[0;34m\u001b[0m\u001b[0;34m\u001b[0m\u001b[0;34m\u001b[0m\u001b[0m\n\u001b[0;32m--> 335\u001b[0;31m                     \u001b[0mself\u001b[0m\u001b[0;34m.\u001b[0m\u001b[0menum\u001b[0m\u001b[0;34m(\u001b[0m\u001b[0mpattern_x\u001b[0m\u001b[0;34m,\u001b[0m \u001b[0mEL\u001b[0m\u001b[0;34m,\u001b[0m \u001b[0mdepth\u001b[0m\u001b[0;34m+\u001b[0m\u001b[0;36m1\u001b[0m\u001b[0;34m)\u001b[0m\u001b[0;34m\u001b[0m\u001b[0;34m\u001b[0m\u001b[0m\n\u001b[0m\u001b[1;32m    336\u001b[0m \u001b[0;34m\u001b[0m\u001b[0m\n\u001b[1;32m    337\u001b[0m                     \u001b[0;31m# We reached a leaf of the recursion tree, add item to exclusion list\u001b[0m\u001b[0;34m\u001b[0m\u001b[0;34m\u001b[0m\u001b[0;34m\u001b[0m\u001b[0m\n",
      "\u001b[0;31mRecursionError\u001b[0m: maximum recursion depth exceeded while getting the repr of an object"
     ]
    }
   ],
   "source": [
    "start = time.perf_counter()\n",
    "# r = s.bipatterns(s.V, s.V)\n",
    "r = s.bipatterns(X1, X2)\n",
    "end = time.perf_counter()\n",
    "print(end - start)"
   ]
  },
  {
   "cell_type": "code",
   "execution_count": null,
   "metadata": {},
   "outputs": [],
   "source": [
    "print(s.label((\"fe488adb521619bebb35028a61c5cdde\", 2, 4)))"
   ]
  },
  {
   "cell_type": "code",
   "execution_count": 37,
   "metadata": {},
   "outputs": [
    {
     "data": {
      "text/plain": [
       "['fe488adb521619bebb35028a61c5cdde',\n",
       " 'b41fd369eec21e02a9ad56c8608c3823',\n",
       " 'edb780cdc27b4fe316fbc72c1588ed09',\n",
       " '5153111a7b8025c21253deb34c995e02',\n",
       " 'c12609bcc482938019be17a15ee4d171',\n",
       " '5290036',\n",
       " 'bbb6abbad493a606c959f445f2cc793f',\n",
       " '38b42c397fd456385bc79356a0feacee',\n",
       " '848098',\n",
       " '5956803']"
      ]
     },
     "execution_count": 37,
     "metadata": {},
     "output_type": "execute_result"
    }
   ],
   "source": [
    "list(s.V)[0:10]"
   ]
  },
  {
   "cell_type": "code",
   "execution_count": 10,
   "metadata": {},
   "outputs": [],
   "source": [
    "vectorizer = TfidfVectorizer(use_idf=True)\n",
    "res = vectorizer.fit_transform(reviews)"
   ]
  },
  {
   "cell_type": "markdown",
   "metadata": {},
   "source": [
    "Total number of concepts (i.e. distinct words in reviews)"
   ]
  },
  {
   "cell_type": "code",
   "execution_count": 11,
   "metadata": {},
   "outputs": [
    {
     "name": "stdout",
     "output_type": "stream",
     "text": [
      "47400 users, 36412 books, 154555 reviews, 403416 concepts (i.e. distinct words in reviews)\n"
     ]
    }
   ],
   "source": [
    "n_users, n_books, n_reviews, n_concepts = len(users), len(books), len(reviews), len(vectorizer.get_feature_names())\n",
    "print(f\"{n_users} users, {n_books} books, {n_reviews} reviews, {n_concepts} concepts (i.e. distinct words in reviews)\")"
   ]
  },
  {
   "cell_type": "code",
   "execution_count": 12,
   "metadata": {},
   "outputs": [
    {
     "data": {
      "text/plain": [
       "9292775"
      ]
     },
     "execution_count": 12,
     "metadata": {},
     "output_type": "execute_result"
    }
   ],
   "source": [
    "tfidf_values = [round(i, 3) for i in res.data]\n",
    "len(tfidf_values)"
   ]
  },
  {
   "cell_type": "code",
   "execution_count": 13,
   "metadata": {},
   "outputs": [
    {
     "data": {
      "text/plain": [
       "0.09749984294250118"
      ]
     },
     "execution_count": 13,
     "metadata": {},
     "output_type": "execute_result"
    }
   ],
   "source": [
    "ccdf_values = Utils.ccdf(tfidf_values)\n",
    "import numpy as np\n",
    "np.mean(tfidf_values)"
   ]
  },
  {
   "cell_type": "code",
   "execution_count": 14,
   "metadata": {},
   "outputs": [
    {
     "data": {
      "text/plain": [
       "[<matplotlib.lines.Line2D at 0x7f38e5be1a10>]"
      ]
     },
     "execution_count": 14,
     "metadata": {},
     "output_type": "execute_result"
    },
    {
     "data": {
      "image/png": "[encoded data removed]",
      "text/plain": [
       "<Figure size 432x288 with 1 Axes>"
      ]
     },
     "metadata": {
      "needs_background": "light"
     },
     "output_type": "display_data"
    }
   ],
   "source": [
    "plt.plot(ccdf_values[0], ccdf_values[1])"
   ]
  },
  {
   "cell_type": "code",
   "execution_count": 15,
   "metadata": {},
   "outputs": [],
   "source": [
    "def parse_review(text, threshold=0.0):\n",
    "    print(vectorizer.get_feature_names()[143450:143550])\n",
    "\n",
    "import pandas as pd"
   ]
  },
  {
   "cell_type": "code",
   "execution_count": 59,
   "metadata": {},
   "outputs": [
    {
     "name": "stdout",
     "output_type": "stream",
     "text": [
      "0\n"
     ]
    },
    {
     "ename": "AttributeError",
     "evalue": "'NoneType' object has no attribute 'toarray'",
     "output_type": "error",
     "traceback": [
      "\u001b[0;31m---------------------------------------------------------------------------\u001b[0m",
      "\u001b[0;31mAttributeError\u001b[0m                            Traceback (most recent call last)",
      "\u001b[0;32m<ipython-input-59-853ffd79e611>\u001b[0m in \u001b[0;36m<module>\u001b[0;34m\u001b[0m\n\u001b[1;32m      9\u001b[0m         \u001b[0mprint\u001b[0m\u001b[0;34m(\u001b[0m\u001b[0mi\u001b[0m\u001b[0;34m)\u001b[0m\u001b[0;34m\u001b[0m\u001b[0;34m\u001b[0m\u001b[0m\n\u001b[1;32m     10\u001b[0m \u001b[0;34m\u001b[0m\u001b[0m\n\u001b[0;32m---> 11\u001b[0;31m     \u001b[0mtfidf_scores\u001b[0m \u001b[0;34m=\u001b[0m \u001b[0mr\u001b[0m\u001b[0;34m.\u001b[0m\u001b[0meliminate_zeros\u001b[0m\u001b[0;34m(\u001b[0m\u001b[0;34m)\u001b[0m\u001b[0;34m.\u001b[0m\u001b[0mtoarray\u001b[0m\u001b[0;34m(\u001b[0m\u001b[0;34m)\u001b[0m\u001b[0;34m[\u001b[0m\u001b[0;36m0\u001b[0m\u001b[0;34m]\u001b[0m\u001b[0;34m\u001b[0m\u001b[0;34m\u001b[0m\u001b[0m\n\u001b[0m\u001b[1;32m     12\u001b[0m     \u001b[0mresult\u001b[0m \u001b[0;34m=\u001b[0m \u001b[0mfilter_tfidf_scores\u001b[0m\u001b[0;34m(\u001b[0m\u001b[0mtfidf_scores\u001b[0m\u001b[0;34m)\u001b[0m\u001b[0;34m\u001b[0m\u001b[0;34m\u001b[0m\u001b[0m\n\u001b[1;32m     13\u001b[0m     \u001b[0mwords_per_review\u001b[0m\u001b[0;34m.\u001b[0m\u001b[0mappend\u001b[0m\u001b[0;34m(\u001b[0m\u001b[0mlen\u001b[0m\u001b[0;34m(\u001b[0m\u001b[0mresult\u001b[0m\u001b[0;34m)\u001b[0m\u001b[0;34m)\u001b[0m\u001b[0;34m\u001b[0m\u001b[0;34m\u001b[0m\u001b[0m\n",
      "\u001b[0;31mAttributeError\u001b[0m: 'NoneType' object has no attribute 'toarray'"
     ]
    }
   ],
   "source": [
    "# vectorizer.get_feature_names()[i], for a given i, will output the associated word\n",
    "# However, it's slow, and we don't really need it so far, so we keep to integers indices\n",
    "filter_tfidf_scores = lambda r: [ (i, v) for i, v in enumerate(r) if v > 0.1 ]\n",
    "filter_tfidf_scores = lambda r: r.eliminate_zeros() # [ (i, v) for i, v in enumerate(r) if v > 0.1 ]\n",
    "\n",
    "words_per_review = []\n",
    "for i, r in enumerate(res):\n",
    "    if i % 10000 == 0:\n",
    "        print(i)\n",
    "    \n",
    "    tfidf_scores = r.eliminate_zeros().toarray()[0]\n",
    "    result = filter_tfidf_scores(tfidf_scores)\n",
    "    words_per_review.append(len(result))"
   ]
  },
  {
   "cell_type": "code",
   "execution_count": 1,
   "metadata": {},
   "outputs": [
    {
     "ename": "NameError",
     "evalue": "name 'words_per_review' is not defined",
     "output_type": "error",
     "traceback": [
      "\u001b[0;31m---------------------------------------------------------------------------\u001b[0m",
      "\u001b[0;31mNameError\u001b[0m                                 Traceback (most recent call last)",
      "\u001b[0;32m<ipython-input-1-74c13bffdd2b>\u001b[0m in \u001b[0;36m<module>\u001b[0;34m\u001b[0m\n\u001b[0;32m----> 1\u001b[0;31m \u001b[0mwords_per_review\u001b[0m\u001b[0;34m[\u001b[0m\u001b[0;36m0\u001b[0m\u001b[0;34m]\u001b[0m\u001b[0;34m\u001b[0m\u001b[0;34m\u001b[0m\u001b[0m\n\u001b[0m",
      "\u001b[0;31mNameError\u001b[0m: name 'words_per_review' is not defined"
     ]
    }
   ],
   "source": [
    "words_per_review[0]"
   ]
  },
  {
   "cell_type": "code",
   "execution_count": null,
   "metadata": {},
   "outputs": [],
   "source": []
  }
 ],
 "metadata": {
  "kernelspec": {
   "display_name": "Python 3",
   "language": "python",
   "name": "python3"
  },
  "language_info": {
   "codemirror_mode": {
    "name": "ipython",
    "version": 3
   },
   "file_extension": ".py",
   "mimetype": "text/x-python",
   "name": "python",
   "nbconvert_exporter": "python",
   "pygments_lexer": "ipython3",
   "version": "3.6.8"
  }
 },
 "nbformat": 4,
 "nbformat_minor": 4
}
