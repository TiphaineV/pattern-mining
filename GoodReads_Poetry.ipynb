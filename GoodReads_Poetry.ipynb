{
 "cells": [
  {
   "cell_type": "code",
   "execution_count": 2,
   "metadata": {},
   "outputs": [],
   "source": [
    "%load_ext autoreload\n",
    "%autoreload 2"
   ]
  },
  {
   "cell_type": "markdown",
   "metadata": {},
   "source": [
    "TODO : \n",
    "\n",
    "- Corriger bug qui fait que c'est StarSat dans tout le stream et pas seulement dans le sous-stream (uniquement pour BHA-core, graphes ?)\n",
    "- Retirer les valeurs en dur pour b,e et le langage\n",
    "- Lancer :D\n",
    "- Installer jupyter lab sur tiphaineviard.com ?\n",
    "- Avoir un moyen de dessiner les interieurs etc. ?"
   ]
  },
  {
   "cell_type": "markdown",
   "metadata": {},
   "source": [
    "# GoodReads Poetry dataset\n",
    "\n",
    "The full dataset (including other genres) is available at: https://sites.google.com/eng.ucsd.edu/ucsdbookgraph/home. We focus here on the _Poetry_ dataset for tractability, as it is the one with the least number of books and reviews.\n",
    "\n",
    "The files in the `./data/goodreads/` directory are:\n",
    "\n",
    "- `goodreads_books_poetry.json` : contains information about the books (i.e. nodes)\n",
    "- `reviews.json` : contains reviews of books by users, with the associated timestamp and ratings\n",
    "\n",
    "Note that the number of reviews is significantly lower than the number of interactions; indeed, \"interacting\" on goodreads can be \"shelving\", posting a review, a rating, etc."
   ]
  },
  {
   "cell_type": "code",
   "execution_count": 3,
   "metadata": {},
   "outputs": [],
   "source": [
    "import ujson as json\n",
    "import math\n",
    "from sklearn.feature_extraction.text import TfidfVectorizer\n",
    "import matplotlib.pyplot as plt\n",
    "\n",
    "from lib.Stream import Stream, StreamStarSat\n",
    "from datetime import datetime\n",
    "from lib.Utils import Utils\n",
    "\n",
    "# nltk.download(\"punkt\")\n",
    "\n",
    "DELTA = 3600"
   ]
  },
  {
   "cell_type": "markdown",
   "metadata": {},
   "source": [
    "We isolate relevant words by TF-IDF (Term Frequency - Inverse Document Frequency) score. For a term i in a document d within corpus D, the the TF-IDF is:\n",
    "$$\n",
    "    TFIDF_D(i,d) = tf_{i,d} \\cdot \\log\\left(\\frac{|D|}{|\\{d \\in D : i\\in d\\}|}\\right)\n",
    "$$"
   ]
  },
  {
   "cell_type": "code",
   "execution_count": 4,
   "metadata": {},
   "outputs": [],
   "source": [
    "def tf_idf(term, document, corpus):\n",
    "    # TF\n",
    "    count = 0\n",
    "    for i in document:\n",
    "        if i == term:\n",
    "            count += 1\n",
    "    frequency = count / len(document)\n",
    "    # IDF\n",
    "    df = 0\n",
    "    for d in corpus:\n",
    "        if term in set(d):\n",
    "            df += 1\n",
    "    return frequency * math.log10(len(corpus) / df)"
   ]
  },
  {
   "cell_type": "code",
   "execution_count": 5,
   "metadata": {},
   "outputs": [],
   "source": [
    "a = \"The car is driven on the road\"\n",
    "b = \"The truck is driven on the highway\"\n",
    "corpus = [a,b]"
   ]
  },
  {
   "cell_type": "code",
   "execution_count": 6,
   "metadata": {},
   "outputs": [],
   "source": [
    "reviews_file = open(\"data/goodreads/goodreads_reviews_poetry.json\")\n",
    "reviews = []\n",
    "users = set()\n",
    "books = set()\n",
    "ratings = {} # sparse matrix ?\n",
    "links = []\n",
    "\n",
    "for (i,line) in enumerate(reviews_file):\n",
    "    data = json.loads(line)\n",
    "    \n",
    "    # Transform date to timestamp\n",
    "    date_added = datetime.strptime(data[\"date_added\"], \"%a %b %d %H:%M:%S %z %Y\")\n",
    "    date_added = date_added.timestamp()\n",
    "    \n",
    "    users.add(data[\"user_id\"])\n",
    "    books.add(data[\"book_id\"])\n",
    "    reviews.append(data[\"review_text\"])\n",
    "    \n",
    "    u = data[\"user_id\"]\n",
    "    v = data[\"book_id\"]\n",
    "\n",
    "    b = date_added - DELTA\n",
    "    e = date_added + DELTA\n",
    "    link = {\"b\": b, \"e\": e, \"u\": u, \"v\": v, \"label_u\": \"abc\", \"label_v\": \"bcd\"}\n",
    "    links.append(link)"
   ]
  },
  {
   "cell_type": "code",
   "execution_count": 7,
   "metadata": {},
   "outputs": [],
   "source": [
    "s = Stream(lang_left=set(\"abc\"), lang_right=set(\"bcd\"))\n",
    "s.add_links(links)"
   ]
  },
  {
   "cell_type": "code",
   "execution_count": 8,
   "metadata": {},
   "outputs": [],
   "source": [
    "res_int = s.interior(s.V, s.V)"
   ]
  },
  {
   "cell_type": "code",
   "execution_count": 9,
   "metadata": {},
   "outputs": [
    {
     "data": {
      "text/plain": [
       "<matplotlib.legend.Legend at 0x7f38e914dc50>"
      ]
     },
     "execution_count": 9,
     "metadata": {},
     "output_type": "execute_result"
    },
    {
     "data": {
      "image/png": "[encoded data removed]",
      "text/plain": [
       "<Figure size 432x288 with 1 Axes>"
      ]
     },
     "metadata": {
      "needs_background": "light"
     },
     "output_type": "display_data"
    }
   ],
   "source": [
    "len(res_int[0]), len(res_int[1])\n",
    "c = Utils.ccdf([ i[2]-i[1] for i in res_int[0] ])\n",
    "c_2 = Utils.ccdf([ i[2]-i[1] for i in res_int[1] ])\n",
    "\n",
    "plt.plot(c[0], c[1], label=\"Star\")\n",
    "plt.plot(c_2[0], c_2[1], label=\"Sat\")\n",
    "plt.legend()"
   ]
  },
  {
   "cell_type": "code",
   "execution_count": 10,
   "metadata": {},
   "outputs": [],
   "source": [
    "vectorizer = TfidfVectorizer(use_idf=True)\n",
    "res = vectorizer.fit_transform(reviews)"
   ]
  },
  {
   "cell_type": "markdown",
   "metadata": {},
   "source": [
    "Total number of concepts (i.e. distinct words in reviews)"
   ]
  },
  {
   "cell_type": "code",
   "execution_count": 11,
   "metadata": {},
   "outputs": [
    {
     "name": "stdout",
     "output_type": "stream",
     "text": [
      "47400 users, 36412 books, 154555 reviews, 403416 concepts (i.e. distinct words in reviews)\n"
     ]
    }
   ],
   "source": [
    "n_users, n_books, n_reviews, n_concepts = len(users), len(books), len(reviews), len(vectorizer.get_feature_names())\n",
    "print(f\"{n_users} users, {n_books} books, {n_reviews} reviews, {n_concepts} concepts (i.e. distinct words in reviews)\")"
   ]
  },
  {
   "cell_type": "code",
   "execution_count": 12,
   "metadata": {},
   "outputs": [
    {
     "data": {
      "text/plain": [
       "9292775"
      ]
     },
     "execution_count": 12,
     "metadata": {},
     "output_type": "execute_result"
    }
   ],
   "source": [
    "tfidf_values = [round(i, 3) for i in res.data]\n",
    "len(tfidf_values)"
   ]
  },
  {
   "cell_type": "code",
   "execution_count": 13,
   "metadata": {},
   "outputs": [
    {
     "data": {
      "text/plain": [
       "0.09749984294250118"
      ]
     },
     "execution_count": 13,
     "metadata": {},
     "output_type": "execute_result"
    }
   ],
   "source": [
    "ccdf_values = Utils.ccdf(tfidf_values)\n",
    "import numpy as np\n",
    "np.mean(tfidf_values)"
   ]
  },
  {
   "cell_type": "code",
   "execution_count": 14,
   "metadata": {},
   "outputs": [
    {
     "data": {
      "text/plain": [
       "[<matplotlib.lines.Line2D at 0x7f38e5be1a10>]"
      ]
     },
     "execution_count": 14,
     "metadata": {},
     "output_type": "execute_result"
    },
    {
     "data": {
      "image/png": "[encoded data removed]",
      "text/plain": [
       "<Figure size 432x288 with 1 Axes>"
      ]
     },
     "metadata": {
      "needs_background": "light"
     },
     "output_type": "display_data"
    }
   ],
   "source": [
    "plt.plot(ccdf_values[0], ccdf_values[1])"
   ]
  },
  {
   "cell_type": "code",
   "execution_count": 15,
   "metadata": {},
   "outputs": [],
   "source": [
    "def parse_review(text, threshold=0.0):\n",
    "    print(vectorizer.get_feature_names()[143450:143550])\n",
    "\n",
    "import pandas as pd"
   ]
  },
  {
   "cell_type": "code",
   "execution_count": 59,
   "metadata": {},
   "outputs": [
    {
     "name": "stdout",
     "output_type": "stream",
     "text": [
      "0\n"
     ]
    },
    {
     "ename": "AttributeError",
     "evalue": "'NoneType' object has no attribute 'toarray'",
     "output_type": "error",
     "traceback": [
      "\u001b[0;31m---------------------------------------------------------------------------\u001b[0m",
      "\u001b[0;31mAttributeError\u001b[0m                            Traceback (most recent call last)",
      "\u001b[0;32m<ipython-input-59-853ffd79e611>\u001b[0m in \u001b[0;36m<module>\u001b[0;34m\u001b[0m\n\u001b[1;32m      9\u001b[0m         \u001b[0mprint\u001b[0m\u001b[0;34m(\u001b[0m\u001b[0mi\u001b[0m\u001b[0;34m)\u001b[0m\u001b[0;34m\u001b[0m\u001b[0;34m\u001b[0m\u001b[0m\n\u001b[1;32m     10\u001b[0m \u001b[0;34m\u001b[0m\u001b[0m\n\u001b[0;32m---> 11\u001b[0;31m     \u001b[0mtfidf_scores\u001b[0m \u001b[0;34m=\u001b[0m \u001b[0mr\u001b[0m\u001b[0;34m.\u001b[0m\u001b[0meliminate_zeros\u001b[0m\u001b[0;34m(\u001b[0m\u001b[0;34m)\u001b[0m\u001b[0;34m.\u001b[0m\u001b[0mtoarray\u001b[0m\u001b[0;34m(\u001b[0m\u001b[0;34m)\u001b[0m\u001b[0;34m[\u001b[0m\u001b[0;36m0\u001b[0m\u001b[0;34m]\u001b[0m\u001b[0;34m\u001b[0m\u001b[0;34m\u001b[0m\u001b[0m\n\u001b[0m\u001b[1;32m     12\u001b[0m     \u001b[0mresult\u001b[0m \u001b[0;34m=\u001b[0m \u001b[0mfilter_tfidf_scores\u001b[0m\u001b[0;34m(\u001b[0m\u001b[0mtfidf_scores\u001b[0m\u001b[0;34m)\u001b[0m\u001b[0;34m\u001b[0m\u001b[0;34m\u001b[0m\u001b[0m\n\u001b[1;32m     13\u001b[0m     \u001b[0mwords_per_review\u001b[0m\u001b[0;34m.\u001b[0m\u001b[0mappend\u001b[0m\u001b[0;34m(\u001b[0m\u001b[0mlen\u001b[0m\u001b[0;34m(\u001b[0m\u001b[0mresult\u001b[0m\u001b[0;34m)\u001b[0m\u001b[0;34m)\u001b[0m\u001b[0;34m\u001b[0m\u001b[0;34m\u001b[0m\u001b[0m\n",
      "\u001b[0;31mAttributeError\u001b[0m: 'NoneType' object has no attribute 'toarray'"
     ]
    }
   ],
   "source": [
    "# vectorizer.get_feature_names()[i], for a given i, will output the associated word\n",
    "# However, it's slow, and we don't really need it so far, so we keep to integers indices\n",
    "filter_tfidf_scores = lambda r: [ (i, v) for i, v in enumerate(r) if v > 0.1 ]\n",
    "filter_tfidf_scores = lambda r: r.eliminate_zeros() # [ (i, v) for i, v in enumerate(r) if v > 0.1 ]\n",
    "\n",
    "words_per_review = []\n",
    "for i, r in enumerate(res):\n",
    "    if i % 10000 == 0:\n",
    "        print(i)\n",
    "    \n",
    "    tfidf_scores = r.eliminate_zeros().toarray()[0]\n",
    "    result = filter_tfidf_scores(tfidf_scores)\n",
    "    words_per_review.append(len(result))"
   ]
  },
  {
   "cell_type": "code",
   "execution_count": 55,
   "metadata": {},
   "outputs": [
    {
     "data": {
      "text/plain": [
       "[403416,\n",
       " 403416,\n",
       " 403416,\n",
       " 403416,\n",
       " 403416,\n",
       " 403416,\n",
       " 403416,\n",
       " 403416,\n",
       " 403416,\n",
       " 403416]"
      ]
     },
     "execution_count": 55,
     "metadata": {},
     "output_type": "execute_result"
    }
   ],
   "source": [
    "words_per_review[0:10]"
   ]
  },
  {
   "cell_type": "code",
   "execution_count": null,
   "metadata": {},
   "outputs": [],
   "source": []
  },
  {
   "cell_type": "code",
   "execution_count": 67,
   "metadata": {},
   "outputs": [
    {
     "data": {
      "text/plain": [
       "array([[False, False, False, ..., False, False, False]])"
      ]
     },
     "execution_count": 67,
     "metadata": {},
     "output_type": "execute_result"
    }
   ],
   "source": []
  },
  {
   "cell_type": "code",
   "execution_count": null,
   "metadata": {},
   "outputs": [],
   "source": []
  }
 ],
 "metadata": {
  "kernelspec": {
   "display_name": "Python 3",
   "language": "python",
   "name": "python3"
  },
  "language_info": {
   "codemirror_mode": {
    "name": "ipython",
    "version": 3
   },
   "file_extension": ".py",
   "mimetype": "text/x-python",
   "name": "python",
   "nbconvert_exporter": "python",
   "pygments_lexer": "ipython3",
   "version": "3.7.4"
  }
 },
 "nbformat": 4,
 "nbformat_minor": 4
}
