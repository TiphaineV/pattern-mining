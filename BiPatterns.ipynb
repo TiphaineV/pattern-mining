{
 "cells": [
  {
   "cell_type": "code",
   "execution_count": 1,
   "metadata": {},
   "outputs": [],
   "source": [
    "%load_ext autoreload\n",
    "%autoreload 2"
   ]
  },
  {
   "cell_type": "code",
   "execution_count": 2,
   "metadata": {},
   "outputs": [],
   "source": [
    "from lib.Stream import Stream, BipartiteStream\n",
    "from lib.TimeNode import TimeNode, TimeNodeSet\n",
    "from lib.StreamProperties import StreamStarSat\n",
    "from lib.patterns import *\n",
    "from lib.similarities import *\n",
    "import logging\n",
    "import ujson as json\n",
    "from IPython.display import Image, clear_output"
   ]
  },
  {
   "cell_type": "markdown",
   "metadata": {},
   "source": [
    "## Stream graph data format\n",
    "\n",
    "Stream graphs are described as JSON files (see `./tests/integration/fixtures/` for examples), containing the different sets $T$ (the time interval of the whole stream), $V$ (the set of nodes), $W$ (the set of nodes' presences in time), $E$ (the set of edges) and $I$ (the attribute language). If the stream is bipartite, $V$, instead of a single set, contains a dictionary with two keys `left` and `right`, both containing the respective sets of nodes. If $W$ is empty, it is assumed that all nodes of $V$ are present over the full interval $T$.\n",
    "\n",
    "Similarly for the attribute language $I$: if we are considering bipatterns, we have two keys `left` and `right` corresponding to the attributes associated.\n",
    "\n",
    "### Bipatterns on bipartite stream\n",
    "As an example, we show here one bipartite stream formatted for bipatterns enumeration:"
   ]
  },
  {
   "cell_type": "code",
   "execution_count": 10,
   "metadata": {},
   "outputs": [
    {
     "data": {
      "text/plain": [
       "{'settings': {'bipartite': 1, 'weighted': 0, 'directed': 0, 'attributed': 0},\n",
       " 'T': {'alpha': 0, 'omega': 10},\n",
       " 'V': {'left': ['u', 'x', 'y'], 'right': ['v']},\n",
       " 'W': {},\n",
       " 'E': [{'b': 1,\n",
       "   'e': 5,\n",
       "   'u': 'u',\n",
       "   'v': 'v',\n",
       "   'label': {'left': ['a', 'b', 'c', 'd'], 'right': ['w', 'x']}},\n",
       "  {'b': 1,\n",
       "   'e': 3,\n",
       "   'u': 'x',\n",
       "   'v': 'v',\n",
       "   'label': {'left': ['a', 'b', 'c'], 'right': ['w', 'x']}},\n",
       "  {'b': 2,\n",
       "   'e': 4,\n",
       "   'u': 'y',\n",
       "   'v': 'v',\n",
       "   'label': {'left': ['a', 'b', 'd'], 'right': ['w', 'x']}}],\n",
       " 'I': {'left': ['a', 'b', 'c', 'd'], 'right': ['w', 'x', 'y', 'z']}}"
      ]
     },
     "execution_count": 10,
     "metadata": {},
     "output_type": "execute_result"
    }
   ],
   "source": [
    "basename = \"Bipattern-ChangingNeighbours-StSa\"\n",
    "json.load(open(f\"./tests/integration/fixtures/{basename}.json\"))"
   ]
  },
  {
   "cell_type": "markdown",
   "metadata": {},
   "source": [
    "And the corresponding stream:"
   ]
  },
  {
   "cell_type": "code",
   "execution_count": 11,
   "metadata": {},
   "outputs": [
    {
     "name": "stdout",
     "output_type": "stream",
     "text": [
      "6 4 (150 percent improvement) \n"
     ]
    },
    {
     "data": {
      "image/png": "[encoded data removed]",
      "text/plain": [
       "<IPython.core.display.Image object>"
      ]
     },
     "execution_count": 11,
     "metadata": {},
     "output_type": "execute_result"
    }
   ],
   "source": [
    "bip_s = BipartiteStream(_loglevel=logging.DEBUG)\n",
    "core_property = StreamStarSat(bip_s, threshold=2)\n",
    "bip_s.setCoreProperty(core_property)\n",
    "bip_s.readStream(f\"./tests/integration/fixtures/{basename}.json\")\n",
    "bip_s.draw()"
   ]
  },
  {
   "cell_type": "markdown",
   "metadata": {},
   "source": [
    "### Patterns on unipartite stream\n",
    "\n",
    "Similarly, let us show an example of a toy unipartite stream on which we are interested in (mono)patterns."
   ]
  },
  {
   "cell_type": "code",
   "execution_count": 12,
   "metadata": {},
   "outputs": [
    {
     "data": {
      "text/plain": [
       "{'T': {'alpha': 0, 'omega': 10},\n",
       " 'V': ['u', 'v', 'x', 'y'],\n",
       " 'W': {},\n",
       " 'E': [{'b': 1,\n",
       "   'e': 6,\n",
       "   'u': 'u',\n",
       "   'v': 'v',\n",
       "   'label_u': 'abc',\n",
       "   'label_v': 'bcd'},\n",
       "  {'b': 2, 'e': 4, 'u': 'v', 'v': 'x', 'label_u': 'abc', 'label_v': 'bcd'},\n",
       "  {'b': 2, 'e': 4, 'u': 'v', 'v': 'y', 'label_u': 'abc', 'label_v': 'bcd'},\n",
       "  {'b': 5, 'e': 6, 'u': 'v', 'v': 'x', 'label_u': 'abc', 'label_v': 'bcd'},\n",
       "  {'b': 5, 'e': 6, 'u': 'v', 'v': 'y', 'label_u': 'abc', 'label_v': 'bcd'}],\n",
       " 'I': ['a', 'b', 'c', 'd']}"
      ]
     },
     "execution_count": 12,
     "metadata": {},
     "output_type": "execute_result"
    }
   ],
   "source": [
    "# MonoPattern test\n",
    "basename = \"3links-StSa-dupl\"\n",
    "json.load(open(f\"./tests/integration/fixtures/{basename}.json\"))"
   ]
  },
  {
   "cell_type": "code",
   "execution_count": 13,
   "metadata": {},
   "outputs": [
    {
     "name": "stdout",
     "output_type": "stream",
     "text": [
      "11 6 (183 percent improvement) \n"
     ]
    },
    {
     "data": {
      "image/png": "[encoded data removed]",
      "text/plain": [
       "<IPython.core.display.Image object>"
      ]
     },
     "execution_count": 13,
     "metadata": {},
     "output_type": "execute_result"
    }
   ],
   "source": [
    "s = Stream(lang=set(\"abcd\"), _loglevel=logging.DEBUG)\n",
    "core_property = StreamStarSat(s, threshold=2)\n",
    "s.setCoreProperty(core_property)\n",
    "# s.readStream(\"./tests/integration/fixtures/ChangingNeighbours-StSa-Copy1.json\")\n",
    "s.readStream(f\"./tests/integration/fixtures/{basename}.json\")\n",
    "\n",
    "s.draw()"
   ]
  },
  {
   "cell_type": "markdown",
   "metadata": {},
   "source": [
    "## Interiors, core properties and pattern enumeration"
   ]
  },
  {
   "cell_type": "code",
   "execution_count": 14,
   "metadata": {},
   "outputs": [
    {
     "data": {
      "text/plain": [
       "(T: {'alpha': 0, 'omega': 10}\n",
       " V: {'x', 'y', 'v', 'u'},\n",
       " W: {u;[2,4], u;[5,6], v;[2,4], v;[5,6], x;[2,4], x;[5,6], y;[2,4], y;[5,6]},\n",
       " E: (2, 4, v, x)\n",
       " (2, 4, v, y)\n",
       " (5, 6, v, x)\n",
       " (5, 6, v, y)        ,\n",
       " T: {'alpha': 0, 'omega': 10}\n",
       " V: {'left': {'x', 'y', 'u'}, 'right': {'v'}},\n",
       " W: {u;[1,4], v;[1,4], x;[1,3], y;[2,4]},\n",
       " E: (1, 4, u, v)\n",
       " (1, 3, x, v)\n",
       " (2, 4, y, v)        )"
      ]
     },
     "execution_count": 14,
     "metadata": {},
     "output_type": "execute_result"
    }
   ],
   "source": [
    "res_int = interior(s)\n",
    "res_b_int = interior(bip_s)\n",
    "res_int, res_b_int"
   ]
  },
  {
   "cell_type": "code",
   "execution_count": 31,
   "metadata": {},
   "outputs": [],
   "source": [
    "# Move to Stream etc. class\n",
    "def mydraw(s, q, node_clusters=[]):\n",
    "    basename = \"ChangingNeighbours-StSa-Copy1\"\n",
    "    pattern_str = ''.join(sorted(q))\n",
    "    \n",
    "    s_draw = StreamFig.StreamFig(alpha=0, omega=5, streaming=False)\n",
    "    _ = [s_draw.addNode(x) for x in s.nodes()]\n",
    "    for l in s.E:\n",
    "        if set([l[\"u\"], l[\"v\"]]) == set([\"v\", \"y\"]):\n",
    "            s_draw.addLink(l[\"u\"], l[\"v\"], l[\"b\"], l[\"e\"], curving=0.2)\n",
    "        else:\n",
    "            s_draw.addLink(l[\"u\"], l[\"v\"], l[\"b\"], l[\"e\"])\n",
    "\n",
    "    for nc in node_clusters:\n",
    "        v, b, e, color = nc\n",
    "        s_draw.addNodeCluster(v, [(b, e)], color=color)\n",
    "    # s_draw.addTimeLine(ticks=2)\n",
    "    s_draw.save(f\"{basename}-{pattern_str}.fig\")\n",
    "    # For display\n",
    "    from subprocess import call\n",
    "    call(f\"rm {basename}-{pattern_str}.png\", shell=True)\n",
    "    call(f\"fig2dev -Lpng {basename}-{pattern_str}.fig > {basename}-{pattern_str}.png\", shell=True)\n",
    "    call(f\"rm {basename}-{pattern_str}.fig\", shell=True)\n",
    "    \n",
    "    return f\"{basename}-{pattern_str}.png\"\n",
    "\n",
    "\n",
    "#my_nc = [ (x.node, x.b, x.e, 11) for x in res_int[0] ] \n",
    "#my_nc += [ (x.node, x.b, x.e, 12) for x in res_int[1] ] \n",
    "#mydraw(s, set('ab'), node_clusters=my_nc)"
   ]
  },
  {
   "cell_type": "code",
   "execution_count": 32,
   "metadata": {},
   "outputs": [
    {
     "name": "stdout",
     "output_type": "stream",
     "text": [
      "{'b', 'a'} {u;[1,4], v;[1,4], x;[1,3], y;[2,4]}\n",
      "{'b', 'c', 'a'} {u;[1,3], v;[1,3], x;[1,3]}\n",
      "{'b', 'd', 'a'} {u;[2,4], v;[2,4], y;[2,4]}\n"
     ]
    }
   ],
   "source": [
    "patterns(s)"
   ]
  },
  {
   "cell_type": "code",
   "execution_count": 35,
   "metadata": {},
   "outputs": [
    {
     "name": "stdout",
     "output_type": "stream",
     "text": [
      "b|a, x|w {u;[1,4], v;[1,4], x;[1,3], y;[2,4]}\n",
      "b|c|a, x|w {u;[1,3], v;[1,3], x;[1,3]}\n",
      "b|d|a, x|w {u;[2,4], v;[2,4], y;[2,4]}\n"
     ]
    }
   ],
   "source": [
    "result = bipatterns(bip_s)"
   ]
  },
  {
   "cell_type": "code",
   "execution_count": 36,
   "metadata": {},
   "outputs": [
    {
     "data": {
      "text/plain": [
       "[(b|a, x|w {u;[1,4], v;[1,4], x;[1,3], y;[2,4]}, set()),\n",
       " (b|c|a, x|w {u;[1,3], v;[1,3], x;[1,3]},\n",
       "  {'left': {'a', 'b'}, 'right': {'w', 'x'}}),\n",
       " (b|d|a, x|w {u;[2,4], v;[2,4], y;[2,4]},\n",
       "  {'left': {'a', 'b'}, 'right': {'w', 'x'}})]"
      ]
     },
     "execution_count": 36,
     "metadata": {},
     "output_type": "execute_result"
    }
   ],
   "source": [
    "result"
   ]
  },
  {
   "cell_type": "code",
   "execution_count": 37,
   "metadata": {},
   "outputs": [
    {
     "ename": "ValueError",
     "evalue": "No image data found. Expecting filename, url, or data.",
     "output_type": "error",
     "traceback": [
      "\u001b[0;31m---------------------------------------------------------------------------\u001b[0m",
      "\u001b[0;31mValueError\u001b[0m                                Traceback (most recent call last)",
      "\u001b[0;32m<ipython-input-37-a415f13f96c2>\u001b[0m in \u001b[0;36m<module>\u001b[0;34m\u001b[0m\n\u001b[0;32m----> 1\u001b[0;31m \u001b[0mbip_s\u001b[0m\u001b[0;34m.\u001b[0m\u001b[0mdraw\u001b[0m\u001b[0;34m(\u001b[0m\u001b[0;34m)\u001b[0m\u001b[0;34m\u001b[0m\u001b[0;34m\u001b[0m\u001b[0m\n\u001b[0m",
      "\u001b[0;32m~/Documents/pattern-mining/lib/Stream.py\u001b[0m in \u001b[0;36mdraw\u001b[0;34m(self)\u001b[0m\n\u001b[1;32m    305\u001b[0m     \u001b[0;32mdef\u001b[0m \u001b[0mdraw\u001b[0m\u001b[0;34m(\u001b[0m\u001b[0mself\u001b[0m\u001b[0;34m)\u001b[0m\u001b[0;34m:\u001b[0m\u001b[0;34m\u001b[0m\u001b[0;34m\u001b[0m\u001b[0m\n\u001b[1;32m    306\u001b[0m \u001b[0;34m\u001b[0m\u001b[0m\n\u001b[0;32m--> 307\u001b[0;31m         \u001b[0;32mreturn\u001b[0m \u001b[0mImage\u001b[0m\u001b[0;34m(\u001b[0m\u001b[0;34m)\u001b[0m\u001b[0;34m\u001b[0m\u001b[0;34m\u001b[0m\u001b[0m\n\u001b[0m\u001b[1;32m    308\u001b[0m \u001b[0;34m\u001b[0m\u001b[0m\n\u001b[1;32m    309\u001b[0m     \u001b[0;32mdef\u001b[0m \u001b[0madd_links\u001b[0m\u001b[0;34m(\u001b[0m\u001b[0mself\u001b[0m\u001b[0;34m,\u001b[0m \u001b[0mlinks\u001b[0m\u001b[0;34m)\u001b[0m\u001b[0;34m:\u001b[0m\u001b[0;34m\u001b[0m\u001b[0;34m\u001b[0m\u001b[0m\n",
      "\u001b[0;32m/usr/lib/python3.8/site-packages/IPython/core/display.py\u001b[0m in \u001b[0;36m__init__\u001b[0;34m(self, data, url, filename, format, embed, width, height, retina, unconfined, metadata)\u001b[0m\n\u001b[1;32m   1178\u001b[0m             \u001b[0mext\u001b[0m \u001b[0;34m=\u001b[0m \u001b[0mself\u001b[0m\u001b[0;34m.\u001b[0m\u001b[0m_find_ext\u001b[0m\u001b[0;34m(\u001b[0m\u001b[0murl\u001b[0m\u001b[0;34m)\u001b[0m\u001b[0;34m\u001b[0m\u001b[0;34m\u001b[0m\u001b[0m\n\u001b[1;32m   1179\u001b[0m         \u001b[0;32melif\u001b[0m \u001b[0mdata\u001b[0m \u001b[0;32mis\u001b[0m \u001b[0;32mNone\u001b[0m\u001b[0;34m:\u001b[0m\u001b[0;34m\u001b[0m\u001b[0;34m\u001b[0m\u001b[0m\n\u001b[0;32m-> 1180\u001b[0;31m             \u001b[0;32mraise\u001b[0m \u001b[0mValueError\u001b[0m\u001b[0;34m(\u001b[0m\u001b[0;34m\"No image data found. Expecting filename, url, or data.\"\u001b[0m\u001b[0;34m)\u001b[0m\u001b[0;34m\u001b[0m\u001b[0;34m\u001b[0m\u001b[0m\n\u001b[0m\u001b[1;32m   1181\u001b[0m         elif isinstance(data, str) and (\n\u001b[1;32m   1182\u001b[0m             \u001b[0mdata\u001b[0m\u001b[0;34m.\u001b[0m\u001b[0mstartswith\u001b[0m\u001b[0;34m(\u001b[0m\u001b[0;34m'http'\u001b[0m\u001b[0;34m)\u001b[0m \u001b[0;32mor\u001b[0m \u001b[0m_safe_exists\u001b[0m\u001b[0;34m(\u001b[0m\u001b[0mdata\u001b[0m\u001b[0;34m)\u001b[0m\u001b[0;34m\u001b[0m\u001b[0;34m\u001b[0m\u001b[0m\n",
      "\u001b[0;31mValueError\u001b[0m: No image data found. Expecting filename, url, or data."
     ]
    }
   ],
   "source": [
    "bip_s.draw()"
   ]
  },
  {
   "cell_type": "code",
   "execution_count": 19,
   "metadata": {},
   "outputs": [
    {
     "name": "stdout",
     "output_type": "stream",
     "text": [
      "b|c|a, x|w {u;[1,3], v;[1,3], x;[1,3]} b|c|a, x|w {u;[1,3], v;[1,3], x;[1,3]}\n"
     ]
    }
   ],
   "source": [
    "p, q = bip_s.bipatterns_list[1][0], bip_s.bipatterns_list[1][0]\n",
    "print(p,q)"
   ]
  },
  {
   "cell_type": "code",
   "execution_count": 24,
   "metadata": {},
   "outputs": [
    {
     "data": {
      "text/plain": [
       "0.0"
      ]
     },
     "execution_count": 24,
     "metadata": {},
     "output_type": "execute_result"
    }
   ],
   "source": [
    "bipattern_similarity(bip_s, p, q)"
   ]
  },
  {
   "cell_type": "code",
   "execution_count": 28,
   "metadata": {},
   "outputs": [
    {
     "ename": "TypeError",
     "evalue": "'Stream' object is not subscriptable",
     "output_type": "error",
     "traceback": [
      "\u001b[0;31m---------------------------------------------------------------------------\u001b[0m",
      "\u001b[0;31mTypeError\u001b[0m                                 Traceback (most recent call last)",
      "\u001b[0;32m<ipython-input-28-04af7d523ca9>\u001b[0m in \u001b[0;36m<module>\u001b[0;34m\u001b[0m\n\u001b[1;32m     13\u001b[0m     \u001b[0mpattern_str\u001b[0m \u001b[0;34m=\u001b[0m \u001b[0;34m''\u001b[0m\u001b[0;34m.\u001b[0m\u001b[0mjoin\u001b[0m\u001b[0;34m(\u001b[0m\u001b[0msorted\u001b[0m\u001b[0;34m(\u001b[0m\u001b[0mbp\u001b[0m\u001b[0;34m.\u001b[0m\u001b[0mlang\u001b[0m\u001b[0;34m)\u001b[0m\u001b[0;34m)\u001b[0m\u001b[0;34m\u001b[0m\u001b[0;34m\u001b[0m\u001b[0m\n\u001b[1;32m     14\u001b[0m \u001b[0;34m\u001b[0m\u001b[0m\n\u001b[0;32m---> 15\u001b[0;31m     \u001b[0msubs\u001b[0m \u001b[0;34m=\u001b[0m \u001b[0ms\u001b[0m\u001b[0;34m.\u001b[0m\u001b[0msubstream\u001b[0m\u001b[0;34m(\u001b[0m\u001b[0mbp\u001b[0m\u001b[0;34m.\u001b[0m\u001b[0msupport_set\u001b[0m\u001b[0;34m[\u001b[0m\u001b[0;36m0\u001b[0m\u001b[0;34m]\u001b[0m\u001b[0;34m,\u001b[0m \u001b[0mbp\u001b[0m\u001b[0;34m.\u001b[0m\u001b[0msupport_set\u001b[0m\u001b[0;34m[\u001b[0m\u001b[0;36m1\u001b[0m\u001b[0;34m]\u001b[0m\u001b[0;34m)\u001b[0m\u001b[0;34m\u001b[0m\u001b[0;34m\u001b[0m\u001b[0m\n\u001b[0m\u001b[1;32m     16\u001b[0m \u001b[0;34m\u001b[0m\u001b[0m\n\u001b[1;32m     17\u001b[0m     \u001b[0mmy_nc\u001b[0m \u001b[0;34m=\u001b[0m \u001b[0;34m[\u001b[0m \u001b[0;34m(\u001b[0m\u001b[0mx\u001b[0m\u001b[0;34m.\u001b[0m\u001b[0mnode\u001b[0m\u001b[0;34m,\u001b[0m \u001b[0mx\u001b[0m\u001b[0;34m.\u001b[0m\u001b[0mb\u001b[0m\u001b[0;34m,\u001b[0m \u001b[0mx\u001b[0m\u001b[0;34m.\u001b[0m\u001b[0me\u001b[0m\u001b[0;34m,\u001b[0m \u001b[0;36m11\u001b[0m\u001b[0;34m)\u001b[0m \u001b[0;32mfor\u001b[0m \u001b[0mx\u001b[0m \u001b[0;32min\u001b[0m \u001b[0mbp\u001b[0m\u001b[0;34m.\u001b[0m\u001b[0msupport_set\u001b[0m\u001b[0;34m[\u001b[0m\u001b[0;36m0\u001b[0m\u001b[0;34m]\u001b[0m \u001b[0;34m]\u001b[0m\u001b[0;34m\u001b[0m\u001b[0;34m\u001b[0m\u001b[0m\n",
      "\u001b[0;31mTypeError\u001b[0m: 'Stream' object is not subscriptable"
     ]
    }
   ],
   "source": [
    "# Move to patterns.py as draw_pattern_lattice ?\n",
    "\n",
    "outf = open(\"bipatterns.dot\", \"w+\")\n",
    "\n",
    "print(\"digraph bips {\", file=outf)\n",
    "\n",
    "nodes = [ bp for bp in s.bipatterns_list]\n",
    "edges = []\n",
    "\n",
    "for x in s.bipatterns_list:\n",
    "    bp, bp_parent = x\n",
    "    basename = \"ChangingNeighbours-StSa-Copy1\"\n",
    "    pattern_str = ''.join(sorted(bp.lang))\n",
    "    \n",
    "    subs = s.substream(bp.support_set[0], bp.support_set[1])\n",
    "    \n",
    "    my_nc = [ (x.node, x.b, x.e, 11) for x in bp.support_set[0] ] \n",
    "    my_nc += [ (x.node, x.b, x.e, 12) for x in bp.support_set[1] ]\n",
    "    fname = mydraw(subs, bp.lang, node_clusters=my_nc)\n",
    "    print(f'{pattern_str}[shape=\"plaintext\", image=\"{basename}-{pattern_str}.png\", label=\"{pattern_str}\", labelloc=\"b\", imagepos=\"tc\"];', file=outf)\n",
    "    \n",
    "    edges.append((pattern_str, ''.join(sorted(bp_parent))))\n",
    "\n",
    "for e in edges:\n",
    "    if not (e[0] == '' or e[1] == ''):\n",
    "        print(f'{e[1]} -> {e[0]}', file=outf)\n",
    "print(\"}\", file=outf)\n",
    "outf.close()\n",
    "from subprocess import call\n",
    "call(f\"dot -Tps bipatterns.dot -o outfile.ps\", shell=True)"
   ]
  }
 ],
 "metadata": {
  "kernelspec": {
   "display_name": "Python 3",
   "language": "python",
   "name": "python3"
  },
  "language_info": {
   "codemirror_mode": {
    "name": "ipython",
    "version": 3
   },
   "file_extension": ".py",
   "mimetype": "text/x-python",
   "name": "python",
   "nbconvert_exporter": "python",
   "pygments_lexer": "ipython3",
   "version": "3.8.2"
  }
 },
 "nbformat": 4,
 "nbformat_minor": 4
}
