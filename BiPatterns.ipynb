{
 "cells": [
  {
   "cell_type": "code",
   "execution_count": 122,
   "metadata": {},
   "outputs": [
    {
     "name": "stdout",
     "output_type": "stream",
     "text": [
      "The autoreload extension is already loaded. To reload it, use:\n",
      "  %reload_ext autoreload\n"
     ]
    }
   ],
   "source": [
    "%load_ext autoreload\n",
    "%autoreload 2"
   ]
  },
  {
   "cell_type": "code",
   "execution_count": 123,
   "metadata": {},
   "outputs": [],
   "source": [
    "from lib.Stream import Stream\n",
    "from lib.TimeNode import TimeNode, TimeNodeSet\n",
    "from lib.StreamProperties import StreamStarSat\n",
    "from lib.Graph import Graph, StarSat, BHACore\n",
    "from lib.patterns import *\n",
    "import networkx as nx\n",
    "import matplotlib.pyplot as plt\n",
    "import logging\n",
    "import StreamFig\n",
    "from IPython.display import Image, clear_output"
   ]
  },
  {
   "cell_type": "markdown",
   "metadata": {},
   "source": [
    "Faire des minidonnées de test, calculer l'intérieur (pour des propriétés de degrés genre hub-autorité etc.)"
   ]
  },
  {
   "cell_type": "code",
   "execution_count": 124,
   "metadata": {},
   "outputs": [
    {
     "data": {
      "text/plain": [
       "{'alpha': 0, 'omega': 10}"
      ]
     },
     "execution_count": 124,
     "metadata": {},
     "output_type": "execute_result"
    }
   ],
   "source": [
    "basename = \"ChangingNeighbours-StSa-Copy1\"\n",
    "\n",
    "s = Stream(lang=set(\"abcd\"), _loglevel=logging.DEBUG)\n",
    "core_property = StreamStarSat(s, threshold=3)\n",
    "s.setCoreProperty(core_property)\n",
    "# s.readStream(\"./tests/integration/fixtures/ChangingNeighbours-StSa-Copy1.json\")\n",
    "s.readStream(f\"./tests/integration/fixtures/{basename}.json\")\n",
    "\n",
    "s.T"
   ]
  },
  {
   "cell_type": "code",
   "execution_count": 125,
   "metadata": {},
   "outputs": [
    {
     "data": {
      "text/plain": [
       "{'a', 'b', 'c', 'd'}"
      ]
     },
     "execution_count": 125,
     "metadata": {},
     "output_type": "execute_result"
    }
   ],
   "source": [
    "I = set()\n",
    "for l in s.E:\n",
    "    I = I.union(l[\"label_u\"])\n",
    "    I = I.union(l[\"label_v\"])\n",
    "s.I = I\n",
    "s.I"
   ]
  },
  {
   "cell_type": "code",
   "execution_count": 126,
   "metadata": {},
   "outputs": [
    {
     "ename": "AttributeError",
     "evalue": "'StreamStarSat' object has no attribute 'substream'",
     "output_type": "error",
     "traceback": [
      "\u001b[0;31m---------------------------------------------------------------------------\u001b[0m",
      "\u001b[0;31mAttributeError\u001b[0m                            Traceback (most recent call last)",
      "\u001b[0;32m<ipython-input-126-290e9ea1714d>\u001b[0m in \u001b[0;36m<module>\u001b[0;34m()\u001b[0m\n\u001b[1;32m      5\u001b[0m \u001b[0mX\u001b[0m \u001b[0;34m=\u001b[0m \u001b[0mTimeNodeSet\u001b[0m\u001b[0;34m(\u001b[0m\u001b[0melements\u001b[0m\u001b[0;34m=\u001b[0m\u001b[0mX\u001b[0m\u001b[0;34m)\u001b[0m\u001b[0;34m\u001b[0m\u001b[0;34m\u001b[0m\u001b[0m\n\u001b[1;32m      6\u001b[0m \u001b[0ms\u001b[0m\u001b[0;34m.\u001b[0m\u001b[0mW\u001b[0m \u001b[0;34m=\u001b[0m \u001b[0mX\u001b[0m\u001b[0;34m\u001b[0m\u001b[0;34m\u001b[0m\u001b[0m\n\u001b[0;32m----> 7\u001b[0;31m \u001b[0minterior\u001b[0m \u001b[0;34m=\u001b[0m \u001b[0minterior\u001b[0m\u001b[0;34m(\u001b[0m\u001b[0ms\u001b[0m\u001b[0;34m,\u001b[0m \u001b[0mX\u001b[0m\u001b[0;34m,\u001b[0m \u001b[0mX\u001b[0m\u001b[0;34m)\u001b[0m\u001b[0;34m\u001b[0m\u001b[0;34m\u001b[0m\u001b[0m\n\u001b[0m\u001b[1;32m      8\u001b[0m \u001b[0mprint\u001b[0m\u001b[0;34m(\u001b[0m\u001b[0minterior\u001b[0m\u001b[0;34m)\u001b[0m\u001b[0;34m\u001b[0m\u001b[0;34m\u001b[0m\u001b[0m\n",
      "\u001b[0;32m~/Documents/pattern-mining/lib/patterns.py\u001b[0m in \u001b[0;36minterior\u001b[0;34m(s, X1, X2, patterns)\u001b[0m\n\u001b[1;32m     49\u001b[0m         \u001b[0mold_S2\u001b[0m \u001b[0;34m=\u001b[0m \u001b[0mS2\u001b[0m\u001b[0;34m\u001b[0m\u001b[0;34m\u001b[0m\u001b[0m\n\u001b[1;32m     50\u001b[0m         \u001b[0;32mfor\u001b[0m \u001b[0mu\u001b[0m \u001b[0;32min\u001b[0m \u001b[0mnodes\u001b[0m\u001b[0;34m:\u001b[0m\u001b[0;34m\u001b[0m\u001b[0;34m\u001b[0m\u001b[0m\n\u001b[0;32m---> 51\u001b[0;31m             \u001b[0mp1_true\u001b[0m\u001b[0;34m,\u001b[0m \u001b[0mtmp\u001b[0m \u001b[0;34m=\u001b[0m \u001b[0mstsa\u001b[0m\u001b[0;34m.\u001b[0m\u001b[0mp1\u001b[0m\u001b[0;34m(\u001b[0m\u001b[0mu\u001b[0m\u001b[0;34m,\u001b[0m \u001b[0msubstream\u001b[0m\u001b[0;34m)\u001b[0m\u001b[0;34m\u001b[0m\u001b[0;34m\u001b[0m\u001b[0m\n\u001b[0m\u001b[1;32m     52\u001b[0m             \u001b[0mp2_true\u001b[0m\u001b[0;34m,\u001b[0m \u001b[0mtmp2\u001b[0m \u001b[0;34m=\u001b[0m \u001b[0mstsa\u001b[0m\u001b[0;34m.\u001b[0m\u001b[0mp2\u001b[0m\u001b[0;34m(\u001b[0m\u001b[0mu\u001b[0m\u001b[0;34m,\u001b[0m \u001b[0msubstream\u001b[0m\u001b[0;34m)\u001b[0m\u001b[0;34m\u001b[0m\u001b[0;34m\u001b[0m\u001b[0m\n\u001b[1;32m     53\u001b[0m \u001b[0;34m\u001b[0m\u001b[0m\n",
      "\u001b[0;32m~/Documents/pattern-mining/lib/StreamProperties.py\u001b[0m in \u001b[0;36mp1\u001b[0;34m(self, u, substream)\u001b[0m\n\u001b[1;32m     81\u001b[0m \u001b[0;34m\u001b[0m\u001b[0m\n\u001b[1;32m     82\u001b[0m     \u001b[0;32mdef\u001b[0m \u001b[0mp1\u001b[0m\u001b[0;34m(\u001b[0m\u001b[0mself\u001b[0m\u001b[0;34m,\u001b[0m \u001b[0mu\u001b[0m\u001b[0;34m,\u001b[0m \u001b[0msubstream\u001b[0m\u001b[0;34m)\u001b[0m\u001b[0;34m:\u001b[0m \u001b[0;31m# Star\u001b[0m\u001b[0;34m\u001b[0m\u001b[0;34m\u001b[0m\u001b[0m\n\u001b[0;32m---> 83\u001b[0;31m         \u001b[0;32mif\u001b[0m \u001b[0mself\u001b[0m\u001b[0;34m.\u001b[0m\u001b[0msubstream\u001b[0m \u001b[0;32mis\u001b[0m \u001b[0;32mNone\u001b[0m \u001b[0;32mor\u001b[0m \u001b[0msubstream\u001b[0m \u001b[0;34m!=\u001b[0m \u001b[0mself\u001b[0m\u001b[0;34m.\u001b[0m\u001b[0msubstream\u001b[0m\u001b[0;34m:\u001b[0m\u001b[0;34m\u001b[0m\u001b[0;34m\u001b[0m\u001b[0m\n\u001b[0m\u001b[1;32m     84\u001b[0m             \u001b[0mself\u001b[0m\u001b[0;34m.\u001b[0m\u001b[0msubstream\u001b[0m \u001b[0;34m=\u001b[0m \u001b[0msubstream\u001b[0m\u001b[0;34m\u001b[0m\u001b[0;34m\u001b[0m\u001b[0m\n\u001b[1;32m     85\u001b[0m             \u001b[0mself\u001b[0m\u001b[0;34m.\u001b[0m\u001b[0mget_stars_sat\u001b[0m\u001b[0;34m(\u001b[0m\u001b[0mu\u001b[0m\u001b[0;34m)\u001b[0m\u001b[0;34m\u001b[0m\u001b[0;34m\u001b[0m\u001b[0m\n",
      "\u001b[0;31mAttributeError\u001b[0m: 'StreamStarSat' object has no attribute 'substream'"
     ]
    }
   ],
   "source": [
    "X1 = [TimeNode(x[\"u\"], x[\"b\"], x[\"e\"]) for x in s.E ]\n",
    "X2 = [TimeNode(x[\"v\"], x[\"b\"], x[\"e\"]) for x in s.E ]\n",
    "\n",
    "X = X1 + X2\n",
    "X = TimeNodeSet(elements=X)\n",
    "s.W = X\n",
    "interior = interior(s, X, X)\n",
    "print(interior)"
   ]
  },
  {
   "cell_type": "code",
   "execution_count": 118,
   "metadata": {},
   "outputs": [
    {
     "ename": "AttributeError",
     "evalue": "'StreamStarSat' object has no attribute 'get_stars_sats'",
     "output_type": "error",
     "traceback": [
      "\u001b[0;31m---------------------------------------------------------------------------\u001b[0m",
      "\u001b[0;31mAttributeError\u001b[0m                            Traceback (most recent call last)",
      "\u001b[0;32m<ipython-input-118-9c81e4f0ed46>\u001b[0m in \u001b[0;36m<module>\u001b[0;34m()\u001b[0m\n\u001b[0;32m----> 1\u001b[0;31m \u001b[0mprop\u001b[0m \u001b[0;34m=\u001b[0m \u001b[0mStreamStarSat\u001b[0m\u001b[0;34m(\u001b[0m\u001b[0ms\u001b[0m\u001b[0;34m)\u001b[0m\u001b[0;34m\u001b[0m\u001b[0;34m\u001b[0m\u001b[0m\n\u001b[0m",
      "\u001b[0;32m~/Documents/pattern-mining/lib/StreamProperties.py\u001b[0m in \u001b[0;36m__init__\u001b[0;34m(self, stream, threshold)\u001b[0m\n\u001b[1;32m     40\u001b[0m         \u001b[0mself\u001b[0m\u001b[0;34m.\u001b[0m\u001b[0msat\u001b[0m \u001b[0;34m=\u001b[0m \u001b[0;34m{\u001b[0m\u001b[0;34m}\u001b[0m\u001b[0;34m\u001b[0m\u001b[0;34m\u001b[0m\u001b[0m\n\u001b[1;32m     41\u001b[0m \u001b[0;34m\u001b[0m\u001b[0m\n\u001b[0;32m---> 42\u001b[0;31m         \u001b[0mself\u001b[0m\u001b[0;34m.\u001b[0m\u001b[0mget_stars_sats\u001b[0m\u001b[0;34m(\u001b[0m\u001b[0;34m)\u001b[0m\u001b[0;34m\u001b[0m\u001b[0;34m\u001b[0m\u001b[0m\n\u001b[0m\u001b[1;32m     43\u001b[0m \u001b[0;34m\u001b[0m\u001b[0m\n\u001b[1;32m     44\u001b[0m \u001b[0;34m\u001b[0m\u001b[0m\n",
      "\u001b[0;31mAttributeError\u001b[0m: 'StreamStarSat' object has no attribute 'get_stars_sats'"
     ]
    }
   ],
   "source": [
    "prop = StreamStarSat(s)"
   ]
  },
  {
   "cell_type": "code",
   "execution_count": 83,
   "metadata": {},
   "outputs": [],
   "source": [
    "# Draw\n",
    "s_draw = StreamFig.StreamFig(alpha=0, omega=10, streaming=False)\n",
    "_ = [s_draw.addNode(x) for x in s.nodes()]\n",
    "for l in s.E:\n",
    "    if set([l[\"u\"], l[\"v\"]]) == set([\"v\", \"y\"]):\n",
    "        s_draw.addLink(l[\"u\"], l[\"v\"], l[\"b\"], l[\"e\"], curving=0.2)\n",
    "    else:\n",
    "        s_draw.addLink(l[\"u\"], l[\"v\"], l[\"b\"], l[\"e\"])\n",
    "    \n",
    "    \n",
    "# draw star\n",
    "for nc in interior[0].values():\n",
    "    s_draw.addNodeCluster(nc.node, [(nc.b, nc.e)], color=11)\n",
    "# draw sat\n",
    "for nc in interior[1].values():\n",
    "    s_draw.addNodeCluster(nc.node, [(nc.b, nc.e)], color=12)\n",
    "    \n",
    "s_draw.addTimeLine(ticks=2)\n",
    "s_draw.save(f\"{basename}.fig\")\n",
    "# For display\n",
    "del s_draw\n",
    "from subprocess import call\n",
    "call(f\"rm {basename}.png\", shell=True)\n",
    "call(f\"fig2dev -Lpng {basename}.fig > {basename}.png\", shell=True)\n",
    "clear_output()"
   ]
  },
  {
   "cell_type": "code",
   "execution_count": 84,
   "metadata": {},
   "outputs": [
    {
     "data": {
      "image/png": "[encoded data removed]",
      "text/plain": [
       "<IPython.core.display.Image object>"
      ]
     },
     "execution_count": 84,
     "metadata": {},
     "output_type": "execute_result"
    }
   ],
   "source": [
    "Image(f\"{basename}.png\")"
   ]
  },
  {
   "cell_type": "code",
   "execution_count": 60,
   "metadata": {},
   "outputs": [
    {
     "name": "stdout",
     "output_type": "stream",
     "text": [
      " set() ({92270 [0, 2], 0ef32090550901ead25cb0ea21c4d36b [0, 2], 0ef32090550901ead25cb0ea21c4d36b [6, 8], 908708 [6, 8]}, {92270 [0, 2], 0ef32090550901ead25cb0ea21c4d36b [0, 2], 0ef32090550901ead25cb0ea21c4d36b [6, 8], 908708 [6, 8]})\n"
     ]
    }
   ],
   "source": [
    "s.bipatterns(X, X)"
   ]
  },
  {
   "cell_type": "code",
   "execution_count": 10,
   "metadata": {},
   "outputs": [
    {
     "data": {
      "text/plain": [
       "0.25"
      ]
     },
     "execution_count": 10,
     "metadata": {},
     "output_type": "execute_result"
    }
   ],
   "source": [
    "s = Stream(lang=set(\"abcd\"), _loglevel=logging.DEBUG)\n",
    "core_property = StreamStarSat(s, threshold=2)\n",
    "s.setCoreProperty(core_property)\n",
    "s.readStream(\"./tests/integration/fixtures/testJaccard.json\")\n",
    "\n",
    "def jaccard(s, u, v):\n",
    "    \"\"\" \n",
    "        u,v : two nodes\n",
    "        \n",
    "        @return: the Jaccard coefficient of u and v\n",
    "    \"\"\"\n",
    "    jaccard = 0.0\n",
    "    \n",
    "    n_u = TimeNodeSet(elements=[ TimeNode(x, b, e) for x in s.neighbours(u) for b,e,l_u,l_v in s.times[frozenset([u, x])] ])\n",
    "    n_v = TimeNodeSet(elements=[ TimeNode(x, b, e) for x in s.neighbours(v) for b,e,l_u,l_v in s.times[frozenset([v, x])] ])\n",
    "    \n",
    "    # Union\n",
    "    union = sum(( x.e - x.b for x in n_u.union(n_v) ))\n",
    "    \n",
    "    # Intersection\n",
    "    inter = sum( ( x.e - x.b for x in n_u.intersection(n_v) ) )\n",
    "    \n",
    "    return inter / union\n",
    "\n",
    "jaccard(s, \"v\", \"x\")"
   ]
  }
 ],
 "metadata": {
  "kernelspec": {
   "display_name": "Python 3",
   "language": "python",
   "name": "python3"
  },
  "language_info": {
   "codemirror_mode": {
    "name": "ipython",
    "version": 3
   },
   "file_extension": ".py",
   "mimetype": "text/x-python",
   "name": "python",
   "nbconvert_exporter": "python",
   "pygments_lexer": "ipython3",
   "version": "3.6.8"
  }
 },
 "nbformat": 4,
 "nbformat_minor": 4
}
