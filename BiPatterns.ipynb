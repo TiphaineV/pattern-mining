{
 "cells": [
  {
   "cell_type": "code",
   "execution_count": 75,
   "metadata": {},
   "outputs": [
    {
     "name": "stdout",
     "output_type": "stream",
     "text": [
      "The autoreload extension is already loaded. To reload it, use:\n",
      "  %reload_ext autoreload\n"
     ]
    }
   ],
   "source": [
    "%load_ext autoreload\n",
    "%autoreload 2"
   ]
  },
  {
   "cell_type": "code",
   "execution_count": 76,
   "metadata": {},
   "outputs": [],
   "source": [
    "from lib.Stream import Stream\n",
    "from lib.TimeNode import TimeNode\n",
    "from lib.StreamProperties import StreamStarSat\n",
    "from lib.Graph import Graph, StarSat, BHACore\n",
    "import networkx as nx\n",
    "import matplotlib.pyplot as plt\n",
    "import logging\n",
    "import StreamFig\n",
    "from IPython.display import Image, clear_output"
   ]
  },
  {
   "cell_type": "markdown",
   "metadata": {},
   "source": [
    "Faire des minidonnées de test, calculer l'intérieur (pour des propriétés de degrés genre hub-autorité etc.)"
   ]
  },
  {
   "cell_type": "code",
   "execution_count": 77,
   "metadata": {},
   "outputs": [
    {
     "data": {
      "text/plain": [
       "{'alpha': 0, 'omega': 10}"
      ]
     },
     "execution_count": 77,
     "metadata": {},
     "output_type": "execute_result"
    }
   ],
   "source": [
    "s = Stream(lang=set(\"abcd\"), _loglevel=logging.DEBUG)\n",
    "core_property = StreamStarSat(s, threshold=3)\n",
    "s.setCoreProperty(core_property)\n",
    "#s.readStream(\"./tests/ChangingNeighbours-StSa-Copy1.json\")\n",
    "s.readStream(\"./tests/integration/fixtures/ChangingNeighbours-StSa-Copy1.json\")\n",
    "s.T"
   ]
  },
  {
   "cell_type": "code",
   "execution_count": 78,
   "metadata": {},
   "outputs": [
    {
     "name": "stdout",
     "output_type": "stream",
     "text": [
      "({v [2, 3]}, {u [2, 3], y [2, 3], x [2, 3]})\n"
     ]
    }
   ],
   "source": [
    "X1 = [(x[\"u\"], (x[\"b\"], x[\"e\"])) for x in s.E ]\n",
    "X2 = [(x[\"v\"], (x[\"b\"], x[\"e\"])) for x in s.E ]\n",
    "\n",
    "X = X1 + X2\n",
    "interior = s.interior(X, X)\n",
    "print(interior)"
   ]
  },
  {
   "cell_type": "code",
   "execution_count": 79,
   "metadata": {},
   "outputs": [
    {
     "data": {
      "image/png": "[encoded data removed]",
      "text/plain": [
       "<IPython.core.display.Image object>"
      ]
     },
     "execution_count": 79,
     "metadata": {},
     "output_type": "execute_result"
    }
   ],
   "source": [
    "# Draw\n",
    "s_draw = StreamFig.StreamFig(alpha=0, omega=5, streaming=False)\n",
    "_ = [s_draw.addNode(x) for x in s.nodes()]\n",
    "for l in s.E:\n",
    "    if set([l[\"u\"], l[\"v\"]]) == set([\"v\", \"y\"]):\n",
    "        s_draw.addLink(l[\"u\"], l[\"v\"], l[\"b\"], l[\"e\"], curving=0.2)\n",
    "    else:\n",
    "        s_draw.addLink(l[\"u\"], l[\"v\"], l[\"b\"], l[\"e\"])\n",
    "    \n",
    "    \n",
    "# draw star\n",
    "for nc in interior[0].values():\n",
    "    s_draw.addNodeCluster(nc.node, [(nc.b, nc.e)], color=11)\n",
    "# draw sat\n",
    "for nc in interior[1].values():\n",
    "    s_draw.addNodeCluster(nc.node, [(nc.b, nc.e)], color=12)\n",
    "    \n",
    "s_draw.addTimeLine(ticks=2)\n",
    "s_draw.save(\"test.fig\")\n",
    "# For display\n",
    "del s_draw\n",
    "from subprocess import call\n",
    "call(\"rm test.png\", shell=True)\n",
    "call(\"fig2dev -Lpng test.fig > test.png\", shell=True)\n",
    "clear_output()\n",
    "Image(\"test.png\")"
   ]
  },
  {
   "cell_type": "code",
   "execution_count": 80,
   "metadata": {},
   "outputs": [
    {
     "data": {
      "text/plain": [
       "{'a', 'b', 'c', 'd'}"
      ]
     },
     "execution_count": 80,
     "metadata": {},
     "output_type": "execute_result"
    }
   ],
   "source": [
    "s.I"
   ]
  },
  {
   "cell_type": "code",
   "execution_count": 81,
   "metadata": {},
   "outputs": [
    {
     "name": "stdout",
     "output_type": "stream",
     "text": [
      "{'a', 'b'} ({v [2, 3]}, {u [2, 3], y [2, 3], x [2, 3]})\n",
      "{'a', 'd', 'b'} ({v [2, 3]}, {y [2, 3], u [2, 3]})\n",
      "{'a', 'd', 'c', 'b'} ({v [2, 3]}, {u [2, 3]})\n"
     ]
    }
   ],
   "source": [
    "s.bipatterns(X1, X2)"
   ]
  },
  {
   "cell_type": "code",
   "execution_count": null,
   "metadata": {},
   "outputs": [],
   "source": [
    "s.fp_close()"
   ]
  },
  {
   "cell_type": "code",
   "execution_count": null,
   "metadata": {},
   "outputs": [],
   "source": [
    "s = Stream(lang=set(\"abcd\"), _loglevel=logging.DEBUG)\n",
    "core_property = StreamStarSat(s, threshold=2)\n",
    "s.setCoreProperty(core_property)\n",
    "s.readStream(\"./tests/testJaccard.json\")\n",
    "\n",
    "def jaccard(s, u, v):\n",
    "    \"\"\" \n",
    "        u,v : two nodes\n",
    "        \n",
    "        @return: the Jaccard coefficient of u and v\n",
    "    \"\"\"\n",
    "    jaccard = 0.0\n",
    "    \n",
    "    n_u = [ TimeNode(x, b, e) for x in s.neighbours(u) for b,e,l_u,l_v in s.times[frozenset([u, x])] ]\n",
    "    n_v = [ TimeNode(x, b, e) for x in s.neighbours(v) for b,e,l_u,l_v in s.times[frozenset([v, x])] ]\n",
    "    \n",
    "    # Union\n",
    "    union = sum(( x.e - x.b for x in set(n_u + n_v) ))\n",
    "    \n",
    "    # Intersection\n",
    "    inter = sum( ( x.e - x.b for x in n_u if x in n_v ) )\n",
    "    \n",
    "    return inter / union\n",
    "\n",
    "jaccard(s, \"u\", \"v\")"
   ]
  },
  {
   "cell_type": "code",
   "execution_count": 8,
   "metadata": {},
   "outputs": [],
   "source": [
    "a = set([TimeNode(\"u\", 1,3)])\n",
    "b = set([TimeNode(\"u\", 2,5)])"
   ]
  },
  {
   "cell_type": "code",
   "execution_count": null,
   "metadata": {},
   "outputs": [],
   "source": []
  }
 ],
 "metadata": {
  "kernelspec": {
   "display_name": "Python 3",
   "language": "python",
   "name": "python3"
  },
  "language_info": {
   "codemirror_mode": {
    "name": "ipython",
    "version": 3
   },
   "file_extension": ".py",
   "mimetype": "text/x-python",
   "name": "python",
   "nbconvert_exporter": "python",
   "pygments_lexer": "ipython3",
   "version": "3.6.8"
  }
 },
 "nbformat": 4,
 "nbformat_minor": 4
}
