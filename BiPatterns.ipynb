{
 "cells": [
  {
   "cell_type": "code",
   "execution_count": 44,
   "metadata": {},
   "outputs": [
    {
     "name": "stdout",
     "output_type": "stream",
     "text": [
      "The autoreload extension is already loaded. To reload it, use:\n",
      "  %reload_ext autoreload\n"
     ]
    }
   ],
   "source": [
    "%load_ext autoreload\n",
    "%autoreload 2"
   ]
  },
  {
   "cell_type": "code",
   "execution_count": 45,
   "metadata": {},
   "outputs": [],
   "source": [
    "from lib.Stream import Stream, StreamStarSat\n",
    "from lib.Graph import Graph, StarSat, BHACore\n",
    "import networkx as nx\n",
    "import matplotlib.pyplot as plt\n",
    "import logging"
   ]
  },
  {
   "cell_type": "markdown",
   "metadata": {},
   "source": [
    "Faire des minidonnées de test, calculer l'intérieur (pour des propriétés de degrés genre hub-autorité etc.)\n",
    "\n",
    "Pareil pour le pattern enumeration"
   ]
  },
  {
   "cell_type": "code",
   "execution_count": 51,
   "metadata": {},
   "outputs": [
    {
     "data": {
      "text/plain": [
       "{'alpha': 0, 'omega': 10}"
      ]
     },
     "execution_count": 51,
     "metadata": {},
     "output_type": "execute_result"
    }
   ],
   "source": [
    "s = Stream(_loglevel=logging.DEBUG)\n",
    "s.readStream(\"./tests/3links-StSa.json\")\n",
    "s.T"
   ]
  },
  {
   "cell_type": "code",
   "execution_count": 52,
   "metadata": {},
   "outputs": [],
   "source": [
    "def intersect(i, j):\n",
    "    # returns the intersection of two time intervals, or -1 is it is void\n",
    "    # does not make any asumption obout the order of the intervals, however\n",
    "    # both i and j *are* intervals (i.e. e >= b, and f >= c)\n",
    "    # TODO: extend to list of intervals\n",
    "    b, e = i\n",
    "    c, f = j\n",
    "    \n",
    "    # Disjoint\n",
    "    if c >= e or f <= b:\n",
    "        return -1\n",
    "    # Inclusion\n",
    "    if (c >= b and f <= e) or \\\n",
    "       (b >= c and e <= f):\n",
    "            return (max(b,c), min(e,f))\n",
    "    \n",
    "    # intersection\n",
    "    if (c <= b and f >= b and f <= e) or\\\n",
    "       (b <= c and e >= c and e <= f):\n",
    "        return (max(b,c), min(e,f))\n",
    "    \n",
    "    return 0\n",
    "\n",
    "def reduce(s, x, Z1, Z2):\n",
    "    v = x[0]\n",
    "    (b, e) = x[1]\n",
    "    deg_filter = [i for i in s.degrees[v] if intersect(i[1], x[1]) != -1 ]\n",
    "    print(deg_filter)\n",
    "    return False\n",
    "\n"
   ]
  },
  {
   "cell_type": "code",
   "execution_count": 53,
   "metadata": {},
   "outputs": [
    {
     "name": "stdout",
     "output_type": "stream",
     "text": [
      "([('v', 2, 4)], [('u', 2, 4), ('x', 2, 4), ('y', 2, 4)])\n"
     ]
    }
   ],
   "source": [
    "X1 = [(x[\"u\"], (x[\"b\"], x[\"e\"])) for x in s.E ]\n",
    "X2 = [(x[\"v\"], (x[\"b\"], x[\"e\"])) for x in s.E ]\n",
    "\n",
    "X = X1 + X2\n",
    "print(s.interior(X, X))"
   ]
  },
  {
   "cell_type": "code",
   "execution_count": 54,
   "metadata": {},
   "outputs": [
    {
     "name": "stdout",
     "output_type": "stream",
     "text": [
      "[('u', 2, 4), ('x', 2, 4), ('y', 2, 4)]\n",
      "({'b', 'd', 'c'}, {'b', 'c'}) ([('v', 2, 4)], [('u', 2, 4), ('x', 2, 4), ('y', 2, 4)]) 0\n"
     ]
    }
   ],
   "source": [
    "s.bipatterns(X1, X2)"
   ]
  },
  {
   "cell_type": "code",
   "execution_count": null,
   "metadata": {},
   "outputs": [],
   "source": []
  }
 ],
 "metadata": {
  "kernelspec": {
   "display_name": "Python 3",
   "language": "python",
   "name": "python3"
  },
  "language_info": {
   "codemirror_mode": {
    "name": "ipython",
    "version": 3
   },
   "file_extension": ".py",
   "mimetype": "text/x-python",
   "name": "python",
   "nbconvert_exporter": "python",
   "pygments_lexer": "ipython3",
   "version": "3.7.4"
  }
 },
 "nbformat": 4,
 "nbformat_minor": 4
}
