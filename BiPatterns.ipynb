{
 "cells": [
  {
   "cell_type": "code",
   "execution_count": 106,
   "metadata": {},
   "outputs": [
    {
     "name": "stdout",
     "output_type": "stream",
     "text": [
      "The autoreload extension is already loaded. To reload it, use:\n",
      "  %reload_ext autoreload\n"
     ]
    }
   ],
   "source": [
    "%load_ext autoreload\n",
    "%autoreload 2"
   ]
  },
  {
   "cell_type": "code",
   "execution_count": 107,
   "metadata": {},
   "outputs": [
    {
     "name": "stdout",
     "output_type": "stream",
     "text": [
      "1.1d\n"
     ]
    }
   ],
   "source": [
    "from lib.Stream import Stream\n",
    "from lib.TimeNode import TimeNode, TimeNodeSet\n",
    "from lib.StreamProperties import StreamStarSat\n",
    "from lib.Graph import Graph, StarSat, BHACore\n",
    "from lib.patterns import *\n",
    "import networkx as nx\n",
    "import matplotlib.pyplot as plt\n",
    "import logging\n",
    "import StreamFig\n",
    "from IPython.display import Image, clear_output\n",
    "print(StreamFig.__version__)"
   ]
  },
  {
   "cell_type": "markdown",
   "metadata": {},
   "source": [
    "Faire des minidonnées de test, calculer l'intérieur (pour des propriétés de degrés genre hub-autorité etc.)"
   ]
  },
  {
   "cell_type": "code",
   "execution_count": 108,
   "metadata": {},
   "outputs": [
    {
     "data": {
      "text/plain": [
       "{'alpha': 0, 'omega': 10}"
      ]
     },
     "execution_count": 108,
     "metadata": {},
     "output_type": "execute_result"
    }
   ],
   "source": [
    "basename = \"ChangingNeighbours-StSa-Copy1\"\n",
    "# basename = \"testPathos1\"\n",
    "\n",
    "s = Stream(lang=set(\"abcd\"), _loglevel=logging.DEBUG)\n",
    "core_property = StreamStarSat(s, threshold=2)\n",
    "s.setCoreProperty(core_property)\n",
    "# s.readStream(\"./tests/integration/fixtures/ChangingNeighbours-StSa-Copy1.json\")\n",
    "s.readStream(f\"./tests/integration/fixtures/{basename}.json\")\n",
    "\n",
    "s.T"
   ]
  },
  {
   "cell_type": "code",
   "execution_count": 109,
   "metadata": {},
   "outputs": [
    {
     "data": {
      "text/plain": [
       "{'a', 'b', 'c', 'd'}"
      ]
     },
     "execution_count": 109,
     "metadata": {},
     "output_type": "execute_result"
    }
   ],
   "source": [
    "I = set()\n",
    "for l in s.E:\n",
    "    I = I.union(l[\"label_u\"])\n",
    "    I = I.union(l[\"label_v\"])\n",
    "s.I = I\n",
    "s.I"
   ]
  },
  {
   "cell_type": "code",
   "execution_count": 110,
   "metadata": {},
   "outputs": [],
   "source": [
    "X1 = [TimeNode(x[\"u\"], x[\"b\"], x[\"e\"]) for x in s.E ]\n",
    "X2 = [TimeNode(x[\"v\"], x[\"b\"], x[\"e\"]) for x in s.E ]\n",
    "\n",
    "X = X1 + X2\n",
    "X = TimeNodeSet(elements=X)\n",
    "s.W = X\n",
    "#interior = interior(s, X, X)\n",
    "# print(interior)"
   ]
  },
  {
   "cell_type": "code",
   "execution_count": 111,
   "metadata": {},
   "outputs": [
    {
     "data": {
      "text/plain": [
       "T: {'alpha': 0, 'omega': 10}\n",
       "V: {'v', 'u', 'x', 'y'},\n",
       "W: {u [1, 4], v [1, 4], x [1, 3], y [2, 4]},\n",
       "E: (1, 4, u, v)\n",
       "(1, 3, v, x)\n",
       "(2, 4, v, y)        "
      ]
     },
     "execution_count": 111,
     "metadata": {},
     "output_type": "execute_result"
    }
   ],
   "source": [
    "res_int = interior(s)\n",
    "res_int"
   ]
  },
  {
   "cell_type": "code",
   "execution_count": 112,
   "metadata": {},
   "outputs": [],
   "source": [
    "def mydraw(s, q, node_clusters=[]):\n",
    "    basename = \"ChangingNeighbours-StSa-Copy1\"\n",
    "    pattern_str = ''.join(sorted(q))\n",
    "    \n",
    "    s_draw = StreamFig.StreamFig(alpha=0, omega=5, streaming=False)\n",
    "    _ = [s_draw.addNode(x) for x in s.nodes()]\n",
    "    for l in s.E:\n",
    "        if set([l[\"u\"], l[\"v\"]]) == set([\"v\", \"y\"]):\n",
    "            s_draw.addLink(l[\"u\"], l[\"v\"], l[\"b\"], l[\"e\"], curving=0.2)\n",
    "        else:\n",
    "            s_draw.addLink(l[\"u\"], l[\"v\"], l[\"b\"], l[\"e\"])\n",
    "\n",
    "    for nc in node_clusters:\n",
    "        v, b, e, color = nc\n",
    "        s_draw.addNodeCluster(v, [(b, e)], color=color)\n",
    "    # s_draw.addTimeLine(ticks=2)\n",
    "    s_draw.save(f\"{basename}-{pattern_str}.fig\")\n",
    "    # For display\n",
    "    from subprocess import call\n",
    "    call(f\"rm {basename}-{pattern_str}.png\", shell=True)\n",
    "    call(f\"fig2dev -Lpng {basename}-{pattern_str}.fig > {basename}-{pattern_str}.png\", shell=True)\n",
    "    call(f\"rm {basename}-{pattern_str}.fig\", shell=True)\n",
    "    \n",
    "    return f\"{basename}-{pattern_str}.png\"\n",
    "\n",
    "\n",
    "#my_nc = [ (x.node, x.b, x.e, 11) for x in res_int[0] ] \n",
    "#my_nc += [ (x.node, x.b, x.e, 12) for x in res_int[1] ] \n",
    "#mydraw(s, set('ab'), node_clusters=my_nc)"
   ]
  },
  {
   "cell_type": "code",
   "execution_count": 113,
   "metadata": {},
   "outputs": [
    {
     "name": "stdout",
     "output_type": "stream",
     "text": [
      "{'b', 'a'} {u [1, 4], v [1, 4], x [1, 3], y [2, 4]}\n",
      "{'b', 'c', 'a'} {u [1, 3], v [1, 3], x [1, 3]}\n",
      "{'b', 'a', 'd'} {u [2, 4], v [2, 4], y [2, 4]}\n"
     ]
    }
   ],
   "source": [
    "bipatterns(s, X, X)"
   ]
  },
  {
   "cell_type": "code",
   "execution_count": 114,
   "metadata": {},
   "outputs": [
    {
     "data": {
      "text/plain": [
       "[({'b', 'a'} {u [1, 4], v [1, 4], x [1, 3], y [2, 4]}, set()),\n",
       " ({'b', 'c', 'a'} {u [1, 3], v [1, 3], x [1, 3]}, {'a', 'b'}),\n",
       " ({'b', 'a', 'd'} {u [2, 4], v [2, 4], y [2, 4]}, {'a', 'b'})]"
      ]
     },
     "execution_count": 114,
     "metadata": {},
     "output_type": "execute_result"
    }
   ],
   "source": [
    "s.bipatterns_list"
   ]
  },
  {
   "cell_type": "code",
   "execution_count": 35,
   "metadata": {},
   "outputs": [
    {
     "data": {
      "text/plain": [
       "1"
      ]
     },
     "execution_count": 35,
     "metadata": {},
     "output_type": "execute_result"
    }
   ],
   "source": [
    "outf = open(\"bipatterns.dot\", \"w+\")\n",
    "\n",
    "print(\"digraph bips {\", file=outf)\n",
    "\n",
    "nodes = [ bp for bp in s.bipatterns_list]\n",
    "edges = []\n",
    "\n",
    "for x in s.bipatterns_list:\n",
    "    bp, bp_parent = x\n",
    "    basename = \"ChangingNeighbours-StSa-Copy1\"\n",
    "    pattern_str = ''.join(sorted(bp.lang))\n",
    "    \n",
    "    subs = s.substream(bp.support_set[0], bp.support_set[1])\n",
    "    \n",
    "    my_nc = [ (x.node, x.b, x.e, 11) for x in bp.support_set[0] ] \n",
    "    my_nc += [ (x.node, x.b, x.e, 12) for x in bp.support_set[1] ]\n",
    "    fname = mydraw(subs, bp.lang, node_clusters=my_nc)\n",
    "    print(f'{pattern_str}[shape=\"plaintext\", image=\"{basename}-{pattern_str}.png\", label=\"{pattern_str}\", labelloc=\"b\", imagepos=\"tc\"];', file=outf)\n",
    "    \n",
    "    edges.append((pattern_str, ''.join(sorted(bp_parent))))\n",
    "\n",
    "for e in edges:\n",
    "    if not (e[0] == '' or e[1] == ''):\n",
    "        print(f'{e[1]} -> {e[0]}', file=outf)\n",
    "print(\"}\", file=outf)\n",
    "outf.close()\n",
    "from subprocess import call\n",
    "call(f\"dot -Tps bipatterns.dot -o outfile.ps\", shell=True)"
   ]
  },
  {
   "cell_type": "code",
   "execution_count": 36,
   "metadata": {},
   "outputs": [
    {
     "data": {
      "text/plain": [
       "0.25"
      ]
     },
     "execution_count": 36,
     "metadata": {},
     "output_type": "execute_result"
    }
   ],
   "source": [
    "s = Stream(lang=set(\"abcd\"), _loglevel=logging.DEBUG)\n",
    "core_property = StreamStarSat(s, threshold=2)\n",
    "s.setCoreProperty(core_property)\n",
    "s.readStream(\"./tests/integration/fixtures/testJaccard.json\")\n",
    "\n",
    "def jaccard(s, u, v):\n",
    "    \"\"\" \n",
    "        u,v : two nodes\n",
    "        \n",
    "        @return: the Jaccard coefficient of u and v\n",
    "    \"\"\"\n",
    "    jaccard = 0.0\n",
    "    \n",
    "    n_u = TimeNodeSet(elements=[ TimeNode(x, b, e) for x in s.neighbours(u) for b,e,l_u,l_v in s.times[frozenset([u, x])] ])\n",
    "    n_v = TimeNodeSet(elements=[ TimeNode(x, b, e) for x in s.neighbours(v) for b,e,l_u,l_v in s.times[frozenset([v, x])] ])\n",
    "    \n",
    "    # Union\n",
    "    union = sum(( x.e - x.b for x in n_u.union(n_v) ))\n",
    "    \n",
    "    # Intersection\n",
    "    inter = sum( ( x.e - x.b for x in n_u.intersection(n_v) ) )\n",
    "    \n",
    "    return inter / union\n",
    "\n",
    "jaccard(s, \"v\", \"x\")"
   ]
  },
  {
   "cell_type": "code",
   "execution_count": null,
   "metadata": {},
   "outputs": [],
   "source": []
  }
 ],
 "metadata": {
  "kernelspec": {
   "display_name": "Python 3",
   "language": "python",
   "name": "python3"
  },
  "language_info": {
   "codemirror_mode": {
    "name": "ipython",
    "version": 3
   },
   "file_extension": ".py",
   "mimetype": "text/x-python",
   "name": "python",
   "nbconvert_exporter": "python",
   "pygments_lexer": "ipython3",
   "version": "3.6.8"
  }
 },
 "nbformat": 4,
 "nbformat_minor": 4
}
