{
 "cells": [
  {
   "cell_type": "code",
   "execution_count": 173,
   "metadata": {},
   "outputs": [
    {
     "name": "stdout",
     "output_type": "stream",
     "text": [
      "The autoreload extension is already loaded. To reload it, use:\n",
      "  %reload_ext autoreload\n"
     ]
    }
   ],
   "source": [
    "%load_ext autoreload\n",
    "%autoreload 2"
   ]
  },
  {
   "cell_type": "code",
   "execution_count": 174,
   "metadata": {},
   "outputs": [],
   "source": [
    "from lib.Stream import Stream\n",
    "from lib.TimeNode import TimeNode, TimeNodeSet\n",
    "from lib.StreamProperties import StreamStarSat\n",
    "from lib.Graph import Graph, StarSat, BHACore\n",
    "from lib.patterns import *\n",
    "import networkx as nx\n",
    "import matplotlib.pyplot as plt\n",
    "import logging\n",
    "import StreamFig\n",
    "from IPython.display import Image, clear_output"
   ]
  },
  {
   "cell_type": "markdown",
   "metadata": {},
   "source": [
    "Faire des minidonnées de test, calculer l'intérieur (pour des propriétés de degrés genre hub-autorité etc.)"
   ]
  },
  {
   "cell_type": "code",
   "execution_count": 175,
   "metadata": {},
   "outputs": [
    {
     "data": {
      "text/plain": [
       "{'alpha': 0, 'omega': 10}"
      ]
     },
     "execution_count": 175,
     "metadata": {},
     "output_type": "execute_result"
    }
   ],
   "source": [
    "basename = \"testPathos1\"\n",
    "\n",
    "s = Stream(lang=set(\"abcd\"), _loglevel=logging.DEBUG)\n",
    "core_property = StreamStarSat(s, threshold=1)\n",
    "s.setCoreProperty(core_property)\n",
    "# s.readStream(\"./tests/integration/fixtures/ChangingNeighbours-StSa-Copy1.json\")\n",
    "s.readStream(f\"./tests/integration/fixtures/{basename}.json\")\n",
    "\n",
    "s.T"
   ]
  },
  {
   "cell_type": "code",
   "execution_count": 176,
   "metadata": {},
   "outputs": [
    {
     "data": {
      "text/plain": [
       "{'Carroll,',\n",
       " \"He's\",\n",
       " 'So',\n",
       " 'This',\n",
       " 'a',\n",
       " 'and',\n",
       " 'bash--a',\n",
       " 'collection',\n",
       " 'diarist',\n",
       " 'disturbing.',\n",
       " 'favorite',\n",
       " 'is',\n",
       " 'my',\n",
       " 'of',\n",
       " 'rock',\n",
       " 'so',\n",
       " 'stunning',\n",
       " 'three',\n",
       " 'very,'}"
      ]
     },
     "execution_count": 176,
     "metadata": {},
     "output_type": "execute_result"
    }
   ],
   "source": [
    "I = set()\n",
    "for l in s.E:\n",
    "    I = I.union(l[\"label_u\"])\n",
    "    I = I.union(l[\"label_v\"])\n",
    "s.I = I\n",
    "s.I"
   ]
  },
  {
   "cell_type": "code",
   "execution_count": 177,
   "metadata": {},
   "outputs": [
    {
     "name": "stdout",
     "output_type": "stream",
     "text": [
      "({0ef32090550901ead25cb0ea21c4d36b [6, 8], 0ef32090550901ead25cb0ea21c4d36b [0, 2], 92270 [0, 2], 908708 [6, 8]}, {0ef32090550901ead25cb0ea21c4d36b [6, 8], 0ef32090550901ead25cb0ea21c4d36b [0, 2], 92270 [0, 2], 908708 [6, 8]})\n"
     ]
    }
   ],
   "source": [
    "X1 = [TimeNode(x[\"u\"], x[\"b\"], x[\"e\"]) for x in s.E ]\n",
    "X2 = [TimeNode(x[\"v\"], x[\"b\"], x[\"e\"]) for x in s.E ]\n",
    "\n",
    "X = X1 + X2\n",
    "X = TimeNodeSet(elements=X)\n",
    "s.W = X\n",
    "interior = interior(s, X, X)\n",
    "print(interior)"
   ]
  },
  {
   "cell_type": "code",
   "execution_count": 178,
   "metadata": {},
   "outputs": [],
   "source": [
    "# Draw\n",
    "s_draw = StreamFig.StreamFig(alpha=0, omega=10, streaming=False)\n",
    "_ = [s_draw.addNode(x) for x in s.nodes()]\n",
    "for l in s.E:\n",
    "    if set([l[\"u\"], l[\"v\"]]) == set([\"v\", \"y\"]):\n",
    "        s_draw.addLink(l[\"u\"], l[\"v\"], l[\"b\"], l[\"e\"], curving=0.2)\n",
    "    else:\n",
    "        s_draw.addLink(l[\"u\"], l[\"v\"], l[\"b\"], l[\"e\"])\n",
    "    \n",
    "    \n",
    "# draw star\n",
    "for nc in interior[0].values():\n",
    "    s_draw.addNodeCluster(nc.node, [(nc.b, nc.e)], color=11)\n",
    "# draw sat\n",
    "for nc in interior[1].values():\n",
    "    s_draw.addNodeCluster(nc.node, [(nc.b, nc.e)], color=12)\n",
    "    \n",
    "s_draw.addTimeLine(ticks=2)\n",
    "s_draw.save(f\"{basename}.fig\")\n",
    "# For display\n",
    "del s_draw\n",
    "from subprocess import call\n",
    "call(f\"rm {basename}.png\", shell=True)\n",
    "call(f\"fig2dev -Lpng {basename}.fig > {basename}.png\", shell=True)\n",
    "clear_output()"
   ]
  },
  {
   "cell_type": "code",
   "execution_count": 179,
   "metadata": {},
   "outputs": [
    {
     "data": {
      "image/png": "[encoded data removed]",
      "text/plain": [
       "<IPython.core.display.Image object>"
      ]
     },
     "execution_count": 179,
     "metadata": {},
     "output_type": "execute_result"
    }
   ],
   "source": [
    "Image(f\"{basename}.png\")"
   ]
  },
  {
   "cell_type": "code",
   "execution_count": 180,
   "metadata": {},
   "outputs": [
    {
     "data": {
      "text/plain": [
       "[{'b': 0,\n",
       "  'e': 2,\n",
       "  'u': '0ef32090550901ead25cb0ea21c4d36b',\n",
       "  'v': '92270',\n",
       "  'label_u': ['This', 'collection', 'favorite', 'is', 'my'],\n",
       "  'label_v': ['Carroll,', 'a', 'and', 'diarist', 'rock', 'collection']},\n",
       " {'b': 6,\n",
       "  'e': 8,\n",
       "  'u': '0ef32090550901ead25cb0ea21c4d36b',\n",
       "  'v': '908708',\n",
       "  'label_u': [\"He's\", 'So', 'disturbing.', 'so', 'very,'],\n",
       "  'label_v': ['bash--a', 'collection', 'of', 'stunning', 'three']}]"
      ]
     },
     "execution_count": 180,
     "metadata": {},
     "output_type": "execute_result"
    }
   ],
   "source": [
    "s.E"
   ]
  },
  {
   "cell_type": "code",
   "execution_count": 184,
   "metadata": {},
   "outputs": [
    {
     "name": "stdout",
     "output_type": "stream",
     "text": [
      " set() ({0ef32090550901ead25cb0ea21c4d36b [6, 8], 0ef32090550901ead25cb0ea21c4d36b [0, 2], 92270 [0, 2], 908708 [6, 8]}, {0ef32090550901ead25cb0ea21c4d36b [6, 8], 0ef32090550901ead25cb0ea21c4d36b [0, 2], 92270 [0, 2], 908708 [6, 8]})\n",
      "     {'collection'} ({0ef32090550901ead25cb0ea21c4d36b [0, 2], 92270 [0, 2]}, {0ef32090550901ead25cb0ea21c4d36b [0, 2], 92270 [0, 2]})\n"
     ]
    }
   ],
   "source": [
    "s.bipatterns(X, X)"
   ]
  },
  {
   "cell_type": "code",
   "execution_count": null,
   "metadata": {},
   "outputs": [],
   "source": [
    "s.fp_close()"
   ]
  },
  {
   "cell_type": "code",
   "execution_count": 161,
   "metadata": {},
   "outputs": [
    {
     "data": {
      "text/plain": [
       "0.25"
      ]
     },
     "execution_count": 161,
     "metadata": {},
     "output_type": "execute_result"
    }
   ],
   "source": [
    "s = Stream(lang=set(\"abcd\"), _loglevel=logging.DEBUG)\n",
    "core_property = StreamStarSat(s, threshold=2)\n",
    "s.setCoreProperty(core_property)\n",
    "s.readStream(\"./tests/integration/fixtures/testJaccard.json\")\n",
    "\n",
    "def jaccard(s, u, v):\n",
    "    \"\"\" \n",
    "        u,v : two nodes\n",
    "        \n",
    "        @return: the Jaccard coefficient of u and v\n",
    "    \"\"\"\n",
    "    jaccard = 0.0\n",
    "    \n",
    "    n_u = TimeNodeSet(elements=[ TimeNode(x, b, e) for x in s.neighbours(u) for b,e,l_u,l_v in s.times[frozenset([u, x])] ])\n",
    "    n_v = TimeNodeSet(elements=[ TimeNode(x, b, e) for x in s.neighbours(v) for b,e,l_u,l_v in s.times[frozenset([v, x])] ])\n",
    "    \n",
    "    # Union\n",
    "    union = sum(( x.e - x.b for x in n_u.union(n_v) ))\n",
    "    \n",
    "    # Intersection\n",
    "    inter = sum( ( x.e - x.b for x in n_u.intersection(n_v) ) )\n",
    "    \n",
    "    return inter / union\n",
    "\n",
    "jaccard(s, \"v\", \"x\")"
   ]
  }
 ],
 "metadata": {
  "kernelspec": {
   "display_name": "Python 3",
   "language": "python",
   "name": "python3"
  },
  "language_info": {
   "codemirror_mode": {
    "name": "ipython",
    "version": 3
   },
   "file_extension": ".py",
   "mimetype": "text/x-python",
   "name": "python",
   "nbconvert_exporter": "python",
   "pygments_lexer": "ipython3",
   "version": "3.6.8"
  }
 },
 "nbformat": 4,
 "nbformat_minor": 4
}
