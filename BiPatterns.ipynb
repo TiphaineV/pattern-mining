{
 "cells": [
  {
   "cell_type": "code",
   "execution_count": 106,
   "metadata": {},
   "outputs": [
    {
     "name": "stdout",
     "output_type": "stream",
     "text": [
      "The autoreload extension is already loaded. To reload it, use:\n",
      "  %reload_ext autoreload\n"
     ]
    }
   ],
   "source": [
    "%load_ext autoreload\n",
    "%autoreload 2"
   ]
  },
  {
   "cell_type": "code",
   "execution_count": 107,
   "metadata": {},
   "outputs": [],
   "source": [
    "from lib.Stream import Stream, TimeNode\n",
    "from lib.StreamProperties import StreamStarSat\n",
    "from lib.Graph import Graph, StarSat, BHACore\n",
    "import networkx as nx\n",
    "import matplotlib.pyplot as plt\n",
    "import logging\n",
    "import StreamFig\n",
    "from IPython.display import Image"
   ]
  },
  {
   "cell_type": "markdown",
   "metadata": {},
   "source": [
    "Faire des minidonnées de test, calculer l'intérieur (pour des propriétés de degrés genre hub-autorité etc.)"
   ]
  },
  {
   "cell_type": "code",
   "execution_count": 117,
   "metadata": {},
   "outputs": [
    {
     "data": {
      "text/plain": [
       "{'alpha': 0, 'omega': 10}"
      ]
     },
     "execution_count": 117,
     "metadata": {},
     "output_type": "execute_result"
    }
   ],
   "source": [
    "s = Stream(lang=set(\"abcd\"), _loglevel=logging.INFO)\n",
    "core_property = StreamStarSat(s, threshold=2)\n",
    "s.setCoreProperty(core_property)\n",
    "#s.readStream(\"./tests/ChangingNeighbours-StSa-Copy1.json\")\n",
    "s.readStream(\"./tests/integration/fixtures/LongSatSmallStar.json\")\n",
    "s.T"
   ]
  },
  {
   "cell_type": "code",
   "execution_count": 118,
   "metadata": {},
   "outputs": [
    {
     "name": "stdout",
     "output_type": "stream",
     "text": [
      "({('v', 2, 3), ('v', 4, 5)}, {('u', 2, 3), ('y', 4, 5), ('u', 4, 5), ('y', 2, 3)})\n"
     ]
    }
   ],
   "source": [
    "X1 = [(x[\"u\"], (x[\"b\"], x[\"e\"])) for x in s.E ]\n",
    "X2 = [(x[\"v\"], (x[\"b\"], x[\"e\"])) for x in s.E ]\n",
    "\n",
    "X = X1 + X2\n",
    "interior = s.interior(X, X)\n",
    "print(interior)"
   ]
  },
  {
   "cell_type": "code",
   "execution_count": 110,
   "metadata": {},
   "outputs": [
    {
     "data": {
      "image/png": "[encoded data removed]",
      "text/plain": [
       "<IPython.core.display.Image object>"
      ]
     },
     "execution_count": 110,
     "metadata": {},
     "output_type": "execute_result"
    }
   ],
   "source": [
    "# Draw\n",
    "s_draw = StreamFig.StreamFig(alpha=0, omega=5, streaming=False)\n",
    "_ = [s_draw.addNode(x) for x in s.nodes()]\n",
    "for l in s.E:\n",
    "    if set([l[\"u\"], l[\"v\"]]) == set([\"v\", \"y\"]):\n",
    "        s_draw.addLink(l[\"u\"], l[\"v\"], l[\"b\"], l[\"e\"], curving=0.2)\n",
    "    else:\n",
    "        s_draw.addLink(l[\"u\"], l[\"v\"], l[\"b\"], l[\"e\"])\n",
    "    \n",
    "    \n",
    "# draw star\n",
    "for nc in interior[0]:\n",
    "    s_draw.addNodeCluster(nc[0], [(nc[1], nc[2])], color=11)\n",
    "# draw sat\n",
    "for nc in interior[1]:\n",
    "    s_draw.addNodeCluster(nc[0], [(nc[1], nc[2])], color=12)\n",
    "    \n",
    "s_draw.addTimeLine(ticks=2)\n",
    "s_draw.save(\"test.fig\")\n",
    "# For display\n",
    "del s_draw\n",
    "from subprocess import call\n",
    "call(\"fig2dev -Lpng test.fig > test.png\", shell=True)\n",
    "Image(\"test.png\")"
   ]
  },
  {
   "cell_type": "code",
   "execution_count": 111,
   "metadata": {},
   "outputs": [
    {
     "data": {
      "text/plain": [
       "{'a', 'b', 'c', 'd'}"
      ]
     },
     "execution_count": 111,
     "metadata": {},
     "output_type": "execute_result"
    }
   ],
   "source": [
    "s.I"
   ]
  },
  {
   "cell_type": "code",
   "execution_count": 112,
   "metadata": {},
   "outputs": [
    {
     "name": "stdout",
     "output_type": "stream",
     "text": [
      "{'a', 'b'} ({('y', 2, 4), ('x', 1, 3), ('u', 1, 5), ('v', 1, 5)}, {('v', 2, 4), ('v', 1, 5), ('y', 2, 4), ('x', 1, 3), ('v', 1, 3), ('u', 1, 5)}) 0\n",
      "{'a', 'd', 'b'} ({('y', 2, 4), ('u', 1, 5), ('v', 1, 5)}, {('v', 2, 4), ('v', 1, 5), ('y', 2, 4), ('v', 1, 3), ('u', 1, 5)}) 1\n",
      "{'c', 'a', 'd', 'b'} ({('u', 1, 5), ('v', 1, 5)}, {('v', 2, 4), ('v', 1, 3), ('u', 1, 5), ('v', 1, 5)}) 2\n",
      "{'a', 'c', 'b'} ({('x', 1, 3), ('u', 1, 5), ('v', 1, 5)}, {('v', 2, 4), ('v', 1, 5), ('x', 1, 3), ('v', 1, 3), ('u', 1, 5)}) 1\n"
     ]
    }
   ],
   "source": [
    "s.bipatterns(X1, X2)"
   ]
  },
  {
   "cell_type": "code",
   "execution_count": 113,
   "metadata": {},
   "outputs": [
    {
     "data": {
      "text/plain": [
       "0.2"
      ]
     },
     "execution_count": 113,
     "metadata": {},
     "output_type": "execute_result"
    }
   ],
   "source": [
    "s = Stream(lang=set(\"abcd\"), _loglevel=logging.INFO)\n",
    "core_property = StreamStarSat(s, threshold=2)\n",
    "s.setCoreProperty(core_property)\n",
    "s.readStream(\"./tests/testJaccard.json\")\n",
    "\n",
    "def jaccard(s, u, v):\n",
    "    \"\"\" \n",
    "        u,v : two nodes\n",
    "        \n",
    "        @return: the Jaccard coefficient of u and v\n",
    "    \"\"\"\n",
    "    jaccard = 0.0\n",
    "    \n",
    "    n_u = [ TimeNode(x, b, e) for x in s.neighbours(u) for b,e,l_u,l_v in s.times[frozenset([u, x])] ]\n",
    "    n_v = [ TimeNode(x, b, e) for x in s.neighbours(v) for b,e,l_u,l_v in s.times[frozenset([v, x])] ]\n",
    "    \n",
    "    # Union\n",
    "    union = sum(( x.e - x.b for x in set(n_u + n_v) ))\n",
    "    \n",
    "    # Intersection\n",
    "    inter = sum( ( x.e - x.b for x in n_u if x in n_v ) )\n",
    "    \n",
    "    return inter / union\n",
    "\n",
    "jaccard(s, \"u\", \"v\")"
   ]
  },
  {
   "cell_type": "code",
   "execution_count": 8,
   "metadata": {},
   "outputs": [],
   "source": [
    "a = set([TimeNode(\"u\", 1,3)])\n",
    "b = set([TimeNode(\"u\", 2,5)])"
   ]
  },
  {
   "cell_type": "code",
   "execution_count": null,
   "metadata": {},
   "outputs": [],
   "source": []
  }
 ],
 "metadata": {
  "kernelspec": {
   "display_name": "Python 3",
   "language": "python",
   "name": "python3"
  },
  "language_info": {
   "codemirror_mode": {
    "name": "ipython",
    "version": 3
   },
   "file_extension": ".py",
   "mimetype": "text/x-python",
   "name": "python",
   "nbconvert_exporter": "python",
   "pygments_lexer": "ipython3",
   "version": "3.6.8"
  }
 },
 "nbformat": 4,
 "nbformat_minor": 4
}
